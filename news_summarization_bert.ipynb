{
  "cells": [
    {
      "cell_type": "markdown",
      "metadata": {
        "id": "view-in-github",
        "colab_type": "text"
      },
      "source": [
        "<a href=\"https://colab.research.google.com/github/Remyar12/news_summary/blob/main/news_summarization_bert.ipynb\" target=\"_parent\"><img src=\"https://colab.research.google.com/assets/colab-badge.svg\" alt=\"Open In Colab\"/></a>"
      ]
    },
    {
      "cell_type": "code",
      "execution_count": null,
      "metadata": {
        "colab": {
          "base_uri": "https://localhost:8080/"
        },
        "id": "dXUYA-cBZm4Y",
        "outputId": "db4ca299-d04a-4903-cc00-1682263f03be"
      },
      "outputs": [
        {
          "output_type": "stream",
          "name": "stdout",
          "text": [
            "  Preparing metadata (setup.py) ... \u001b[?25l\u001b[?25hdone\n",
            "  Building wheel for rouge-score (setup.py) ... \u001b[?25l\u001b[?25hdone\n"
          ]
        }
      ],
      "source": [
        "!pip install -q transformers  rouge-score"
      ]
    },
    {
      "cell_type": "code",
      "source": [
        "!pip install rouge-score"
      ],
      "metadata": {
        "colab": {
          "base_uri": "https://localhost:8080/"
        },
        "id": "RWKulP-foUTd",
        "outputId": "2aa2c957-d54f-4838-a039-b55080cf16e7"
      },
      "execution_count": null,
      "outputs": [
        {
          "output_type": "stream",
          "name": "stdout",
          "text": [
            "Requirement already satisfied: rouge-score in /usr/local/lib/python3.10/dist-packages (0.1.2)\n",
            "Requirement already satisfied: absl-py in /usr/local/lib/python3.10/dist-packages (from rouge-score) (1.4.0)\n",
            "Requirement already satisfied: nltk in /usr/local/lib/python3.10/dist-packages (from rouge-score) (3.8.1)\n",
            "Requirement already satisfied: numpy in /usr/local/lib/python3.10/dist-packages (from rouge-score) (1.25.2)\n",
            "Requirement already satisfied: six>=1.14.0 in /usr/local/lib/python3.10/dist-packages (from rouge-score) (1.16.0)\n",
            "Requirement already satisfied: click in /usr/local/lib/python3.10/dist-packages (from nltk->rouge-score) (8.1.7)\n",
            "Requirement already satisfied: joblib in /usr/local/lib/python3.10/dist-packages (from nltk->rouge-score) (1.4.2)\n",
            "Requirement already satisfied: regex>=2021.8.3 in /usr/local/lib/python3.10/dist-packages (from nltk->rouge-score) (2024.5.15)\n",
            "Requirement already satisfied: tqdm in /usr/local/lib/python3.10/dist-packages (from nltk->rouge-score) (4.66.4)\n"
          ]
        }
      ]
    },
    {
      "cell_type": "code",
      "execution_count": null,
      "metadata": {
        "colab": {
          "base_uri": "https://localhost:8080/",
          "height": 336,
          "referenced_widgets": [
            "32416e4ba56745a69f5a30bb94a897d5",
            "92c5128df96543979ddcea397f920025",
            "a57da609f5eb4685ac86912d05f38e0a",
            "99e831811c57433bac8e689011c79734",
            "0c38c8d38afb43088dc1b54a0b8eb45a",
            "00dffb30d13040efa45c09d3ec92d21c",
            "428bf26319a14869aa46b74c47a71885",
            "b08cc7b0317a403d9f88e45093ca54f5",
            "c525f81f7625494e80ad0dfb425066f1",
            "f8564aba5e52439b810dbf558e6b4b40",
            "e312989837824a3bb803aa323047e343",
            "c80f9566c87041deacc0c5424012069c",
            "d740ba01b6ff4f30a32592fc7e468817",
            "3b58b6ca9a474a309c70cf7836517203",
            "dfd20a76d7124dbc9f55ab50a7a0ab51",
            "30a99bf5c89e46f19a39754ecd522f1d",
            "a8e1c29caa4d4a72bc821d525871bea5",
            "eac215b299804790beba895f90a0c4a7",
            "5538e60bcc30441198feb88bd627af19",
            "adf244f201a44b5a876947910fe44c08",
            "2d1384bed040442687f839851d0c29c2",
            "f617853546bb4ae3969014b6f991c838",
            "af5b882af23c40c19c8104213dd8ac80",
            "6ce91d073de746edb07b1eb1d53cd7b0",
            "bbb9749f76f04bc8bdae52fd951f04bc",
            "0620c76e5bf34a44a1c604fcba4d972d",
            "944003f173a546569e06a9b06b65496c",
            "269aa36d19f14deea3dd289f39b536d3",
            "59a157a023384e4f9b20fc67bdf776d8",
            "476a242bbc6044a39d84e2e4c6918157",
            "91275a665bf6463e80d91fea134906cf",
            "08338c1055064d2d857ba8acfcfe4249",
            "861865dae2554041950db498120c71c6",
            "db71b678968b471f951588fc288f3782",
            "6e833051dcb744c59cd5be2696dba247",
            "b058e35450754037929a97350320e5c2",
            "cc60ddf63d0245ee92e93b2cc341a166",
            "6a87a15c675840ed9fe2e3fce17e52a1",
            "c1db3bea03ea4867bd6c8d5bb8d1170c",
            "9b5c4a6f96034b5ea1783a946ae4fe69",
            "c36b6a0eeabb49dab4dde72a0edaa5fa",
            "f204173716074f5fbe8efcc7729e3f7d",
            "85fb3459301848c78aa0a2bb4d00e5ae",
            "16ff4abb386e4eccb70c78606902f7ce",
            "4216b09ac4cc4456ab2a9161f7d61b41",
            "d315d7cd68a049fca330c37ad12d034e",
            "6e2f05196c2c40948bbe90a31174b3e7",
            "5fe8d4cdff614cb685714d9f110220ea",
            "3344e7f211f84e79b96f663b47543b3b",
            "a3ae5d286f624e089c4923b9591f8957",
            "bb2b6f18495c4b3891ba3170f16042ca",
            "aa43e1bdae1b4f9bbb885849d6679b89",
            "0373ed23c7294e6fa49a0f0741e1ee24",
            "773bd8dd95d64d098d305047a155d31e",
            "4905d5b3b48d4bbfb9b07c78b3bbb08b"
          ]
        },
        "id": "Lqq1Pf-fZAWL",
        "outputId": "bfa485d9-bd82-4f9a-f9b4-0cb1c4e105da"
      },
      "outputs": [
        {
          "output_type": "stream",
          "name": "stderr",
          "text": [
            "/usr/local/lib/python3.10/dist-packages/huggingface_hub/utils/_token.py:89: UserWarning: \n",
            "The secret `HF_TOKEN` does not exist in your Colab secrets.\n",
            "To authenticate with the Hugging Face Hub, create a token in your settings tab (https://huggingface.co/settings/tokens), set it as secret in your Google Colab and restart your session.\n",
            "You will be able to reuse this secret in all of your notebooks.\n",
            "Please note that authentication is recommended but still optional to access public models or datasets.\n",
            "  warnings.warn(\n"
          ]
        },
        {
          "output_type": "display_data",
          "data": {
            "text/plain": [
              "tokenizer_config.json:   0%|          | 0.00/314 [00:00<?, ?B/s]"
            ],
            "application/vnd.jupyter.widget-view+json": {
              "version_major": 2,
              "version_minor": 0,
              "model_id": "32416e4ba56745a69f5a30bb94a897d5"
            }
          },
          "metadata": {}
        },
        {
          "output_type": "stream",
          "name": "stderr",
          "text": [
            "/usr/local/lib/python3.10/dist-packages/huggingface_hub/file_download.py:1132: FutureWarning: `resume_download` is deprecated and will be removed in version 1.0.0. Downloads always resume when possible. If you want to force a new download, use `force_download=True`.\n",
            "  warnings.warn(\n"
          ]
        },
        {
          "output_type": "display_data",
          "data": {
            "text/plain": [
              "config.json:   0%|          | 0.00/629 [00:00<?, ?B/s]"
            ],
            "application/vnd.jupyter.widget-view+json": {
              "version_major": 2,
              "version_minor": 0,
              "model_id": "c80f9566c87041deacc0c5424012069c"
            }
          },
          "metadata": {}
        },
        {
          "output_type": "display_data",
          "data": {
            "text/plain": [
              "vocab.txt:   0%|          | 0.00/232k [00:00<?, ?B/s]"
            ],
            "application/vnd.jupyter.widget-view+json": {
              "version_major": 2,
              "version_minor": 0,
              "model_id": "af5b882af23c40c19c8104213dd8ac80"
            }
          },
          "metadata": {}
        },
        {
          "output_type": "display_data",
          "data": {
            "text/plain": [
              "tokenizer.json:   0%|          | 0.00/466k [00:00<?, ?B/s]"
            ],
            "application/vnd.jupyter.widget-view+json": {
              "version_major": 2,
              "version_minor": 0,
              "model_id": "db71b678968b471f951588fc288f3782"
            }
          },
          "metadata": {}
        },
        {
          "output_type": "display_data",
          "data": {
            "text/plain": [
              "special_tokens_map.json:   0%|          | 0.00/112 [00:00<?, ?B/s]"
            ],
            "application/vnd.jupyter.widget-view+json": {
              "version_major": 2,
              "version_minor": 0,
              "model_id": "4216b09ac4cc4456ab2a9161f7d61b41"
            }
          },
          "metadata": {}
        }
      ],
      "source": [
        "import os\n",
        "os.environ['CUDA_LAUNCH_BLOCKING'] = \"1\"\n",
        "\n",
        "import torch\n",
        "import torch.nn as nn\n",
        "import torch.nn.functional as F\n",
        "import numpy as np\n",
        "\n",
        "import pandas as pd\n",
        "import transformers\n",
        "from torch.utils.data import Dataset, DataLoader\n",
        "\n",
        "\n",
        "from transformers import AutoTokenizer, AutoModel\n",
        "sentenc_model_name = \"sentence-transformers/paraphrase-MiniLM-L3-v2\"\n",
        "tokenizer = AutoTokenizer.from_pretrained(sentenc_model_name)\n"
      ]
    },
    {
      "cell_type": "code",
      "execution_count": null,
      "metadata": {
        "id": "mvTweWCpAYB2"
      },
      "outputs": [],
      "source": [
        "import matplotlib.pyplot as plt\n",
        "import pandas as pd\n",
        "import numpy as np\n",
        "from tqdm.notebook import tqdm\n",
        "\n",
        "import os\n",
        "\n",
        "sum_dir = \"drive/MyDrive/mlexperiments/extractivesummarization/\" # location to store and load models"
      ]
    },
    {
      "cell_type": "code",
      "execution_count": null,
      "metadata": {
        "colab": {
          "base_uri": "https://localhost:8080/"
        },
        "id": "2AFeyn0EDc4j",
        "outputId": "4b6cc787-4650-487f-93aa-b7300be2710d"
      },
      "outputs": [
        {
          "output_type": "stream",
          "name": "stdout",
          "text": [
            "CSV file loaded successfully.\n",
            "Original dataset shape: (11490, 3)\n",
            "                                         id  \\\n",
            "0  92c514c913c0bdfe25341af9fd72b29db544099b   \n",
            "1  2003841c7dc0e7c5b1a248f9cd536d727f27a45a   \n",
            "2  91b7d2311527f5c2b63a65ca98d21d9c92485149   \n",
            "3  caabf9cbdf96eb1410295a673e953d304391bfbb   \n",
            "4  3da746a7d9afcaa659088c8366ef6347fe6b53ea   \n",
            "\n",
            "                                             article  \\\n",
            "0  Ever noticed how plane seats appear to be gett...   \n",
            "1  A drunk teenage boy had to be rescued by secur...   \n",
            "2  Dougie Freedman is on the verge of agreeing a ...   \n",
            "3  Liverpool target Neto is also wanted by PSG an...   \n",
            "4  Bruce Jenner will break his silence in a two-h...   \n",
            "\n",
            "                                          highlights  \n",
            "0  Experts question if  packed out planes are put...  \n",
            "1  Drunk teenage boy climbed into lion enclosure ...  \n",
            "2  Nottingham Forest are close to extending Dougi...  \n",
            "3  Fiorentina goalkeeper Neto has been linked wit...  \n",
            "4  Tell-all interview with the reality TV star, 6...  \n",
            "Training set shape: (9192, 3)\n",
            "Testing set shape: (2298, 3)\n"
          ]
        }
      ],
      "source": [
        "import pandas as pd\n",
        "from sklearn.model_selection import train_test_split\n",
        "\n",
        "# Define the path to the CSV file\n",
        "csv_file_path = \"/content/test.csv\"\n",
        "\n",
        "# Load the dataset into a pandas DataFrame\n",
        "try:\n",
        "    df = pd.read_csv(csv_file_path)\n",
        "    print(\"CSV file loaded successfully.\")\n",
        "except FileNotFoundError:\n",
        "    print(f\"File not found: {csv_file_path}\")\n",
        "    df = pd.DataFrame()  # Create an empty DataFrame if the file is not found\n",
        "\n",
        "# Display the shape of the dataset\n",
        "print(\"Original dataset shape:\", df.shape)\n",
        "\n",
        "# Check the contents of the dataset\n",
        "print(df.head())\n",
        "\n",
        "# Split the dataset into training and testing sets\n",
        "if not df.empty:\n",
        "    train_df, test_df = train_test_split(df, test_size=0.2, random_state=42)\n",
        "\n",
        "    # Display the shapes of the training and testing sets\n",
        "    print(\"Training set shape:\", train_df.shape)\n",
        "    print(\"Testing set shape:\", test_df.shape)\n",
        "else:\n",
        "    print(\"The dataset is empty or not loaded correctly.\")\n"
      ]
    },
    {
      "cell_type": "code",
      "source": [
        "import pandas as pd\n",
        "import torch\n",
        "from torch.utils.data import Dataset, DataLoader\n",
        "from transformers import AutoTokenizer, AutoModel, AdamW\n",
        "from torch.cuda.amp import GradScaler, autocast\n",
        "from tqdm import tqdm\n",
        "import time\n",
        "import cProfile\n",
        "import torch.nn as nn\n",
        "\n",
        "class CustomDataset(Dataset):\n",
        "    def __init__(self, dataframe, tokenizer, max_len_input):\n",
        "        self.data = dataframe\n",
        "        self.articles = self.data['article']\n",
        "        self.highlights = self.data['highlights']\n",
        "        self.tokenizer = tokenizer\n",
        "        self.max_len_input = max_len_input\n",
        "\n",
        "    def __len__(self):\n",
        "        return len(self.data)\n",
        "\n",
        "    def __getitem__(self, idx):\n",
        "        article = self.articles[idx]\n",
        "        highlights = self.highlights[idx]\n",
        "\n",
        "        input_encoding = self.tokenizer.encode_plus(\n",
        "            article,\n",
        "            add_special_tokens=True,\n",
        "            max_length=self.max_len_input,\n",
        "            padding='max_length',\n",
        "            return_attention_mask=True,\n",
        "            return_tensors='pt',\n",
        "            truncation=True\n",
        "        )\n",
        "\n",
        "        return {\n",
        "            'input_ids': input_encoding['input_ids'].flatten(),\n",
        "            'attention_mask': input_encoding['attention_mask'].flatten(),\n",
        "            'highlights': highlights\n",
        "        }\n",
        "\n",
        "# Corrected file paths\n",
        "train_file = \"/content/output.csv.txttrain_bdf.csv\"\n",
        "test_file = \"/content/output.csv.txttest_bdf.csv\"\n",
        "\n",
        "train_df = pd.read_csv(train_file)\n",
        "test_df = pd.read_csv(test_file)\n",
        "\n",
        "# Reset indices\n",
        "train_df.reset_index(drop=True, inplace=True)\n",
        "test_df.reset_index(drop=True, inplace=True)\n",
        "\n",
        "# Constants\n",
        "TRAIN_BATCH_SIZE = 4  # Reduce batch size to avoid memory issues\n",
        "EPOCHS = 3\n",
        "LEARNING_RATE = 2e-5\n",
        "MAX_LEN_INPUT = 256\n",
        "MODEL_NAME = 'sentence-transformers/paraphrase-MiniLM-L3-v2'\n",
        "GRADIENT_ACCUMULATION_STEPS = 4\n",
        "\n",
        "# Initialize tokenizer\n",
        "tokenizer = AutoTokenizer.from_pretrained(MODEL_NAME)\n",
        "\n",
        "# Define CustomDataset and DataLoader\n",
        "train_dataset = CustomDataset(train_df, tokenizer, MAX_LEN_INPUT)\n",
        "train_loader = DataLoader(train_dataset, batch_size=TRAIN_BATCH_SIZE, shuffle=True, num_workers=4, pin_memory=True)\n",
        "\n",
        "# Verify DataLoader\n",
        "data_iter = iter(train_loader)\n",
        "batch = next(data_iter)\n",
        "print(batch)\n",
        "\n",
        "# Define the model\n",
        "model = AutoModel.from_pretrained(MODEL_NAME)\n",
        "device = 'cuda' if torch.cuda.is_available() else 'cpu'\n",
        "model.to(device)\n",
        "\n",
        "# Define optimizer and loss function\n",
        "optimizer = AdamW(model.parameters(), lr=LEARNING_RATE)\n",
        "scaler = GradScaler()\n",
        "criterion = nn.MSELoss()  # Using MSELoss as a placeholder\n",
        "\n",
        "# Define train function\n",
        "def train(epoch):\n",
        "    model.train()\n",
        "    tr_loss = 0\n",
        "    nb_tr_steps = 0\n",
        "    start_time = time.time()\n",
        "\n",
        "    for step, data in enumerate(tqdm(train_loader, 0)):\n",
        "        input_ids = data['input_ids'].to(device, dtype=torch.long)\n",
        "        attention_mask = data['attention_mask'].to(device, dtype=torch.long)\n",
        "        highlights = data['highlights']\n",
        "\n",
        "        optimizer.zero_grad()\n",
        "\n",
        "        with autocast():\n",
        "            outputs = model(input_ids=input_ids, attention_mask=attention_mask)\n",
        "            # Get the sentence embeddings\n",
        "            sentence_embeddings = outputs.last_hidden_state.mean(dim=1)\n",
        "\n",
        "            # Dummy targets for demonstration purposes\n",
        "            dummy_targets = torch.randn_like(sentence_embeddings).to(device)\n",
        "            loss = criterion(sentence_embeddings, dummy_targets)\n",
        "\n",
        "        scaler.scale(loss).backward()\n",
        "\n",
        "        if (step + 1) % GRADIENT_ACCUMULATION_STEPS == 0:\n",
        "            scaler.step(optimizer)\n",
        "            scaler.update()\n",
        "\n",
        "        tr_loss += loss.item() * GRADIENT_ACCUMULATION_STEPS\n",
        "        nb_tr_steps += 1\n",
        "\n",
        "        if step % 100 == 0:\n",
        "            elapsed_time = time.time() - start_time\n",
        "            print(f\"Step {step}, Loss: {tr_loss / nb_tr_steps}, Elapsed Time: {elapsed_time:.2f}s\")\n",
        "            start_time = time.time()\n",
        "\n",
        "    print(f'Epoch {epoch}, Loss: {tr_loss / nb_tr_steps}')\n",
        "\n",
        "# Profile the training function\n",
        "cProfile.run('train(0)', sort='cumtime')\n",
        "\n",
        "# Train the model\n",
        "for epoch in range(EPOCHS):\n",
        "    train(epoch)\n"
      ],
      "metadata": {
        "colab": {
          "base_uri": "https://localhost:8080/",
          "height": 1000,
          "referenced_widgets": [
            "895e34d9d36541ef9530477bb20ce9ea",
            "ec1bfd9aebca48d2bb5775e4cb092e72",
            "e32a89052cd2479b8dab55365766bb9e",
            "dfa25eb23e6349dbb8ed6c60d2f0bb95",
            "0950c89459b94e43abbcedb0b040bac6",
            "8b446d7c610b451294c7e4f9cf83ed31",
            "67f702170d694ecabbdc50f4a372f94d",
            "885d37268cee47d684dbe14a54da0b63",
            "72e8f8093b9b419798f89fca4bcc8ccd",
            "9409e2e53b0b47df9b40b6fc16a3856f",
            "4b32371fb198420e83b5c37363b39003"
          ]
        },
        "id": "DLs7lbT2JLLl",
        "outputId": "eaa4e379-108b-4c8a-ef99-5526fac64135"
      },
      "execution_count": null,
      "outputs": [
        {
          "output_type": "stream",
          "name": "stderr",
          "text": [
            "/usr/local/lib/python3.10/dist-packages/torch/utils/data/dataloader.py:558: UserWarning: This DataLoader will create 4 worker processes in total. Our suggested max number of worker in current system is 2, which is smaller than what this DataLoader is going to create. Please be aware that excessive worker creation might get DataLoader running slow or even freeze, lower the worker number to avoid potential slowness/freeze if necessary.\n",
            "  warnings.warn(_create_warning_msg(\n"
          ]
        },
        {
          "output_type": "stream",
          "name": "stdout",
          "text": [
            "{'input_ids': tensor([[ 101, 1037, 2624,  ..., 2001, 3013,  102],\n",
            "        [ 101, 2005, 1996,  ..., 2031, 2025,  102],\n",
            "        [ 101, 2074, 2420,  ..., 1012, 1045,  102],\n",
            "        [ 101, 9433, 2333,  ..., 1012, 2864,  102]]), 'attention_mask': tensor([[1, 1, 1,  ..., 1, 1, 1],\n",
            "        [1, 1, 1,  ..., 1, 1, 1],\n",
            "        [1, 1, 1,  ..., 1, 1, 1],\n",
            "        [1, 1, 1,  ..., 1, 1, 1]]), 'highlights': ['Manuel Garza Jr. died from a lethal injection on Thursday .\\nHe was put to death for killing a San Antonio police officer in 2001 .\\nHe shot officer John Riojas after a struggle that ended with Riojas being shot in the head .\\nGarza was pronounced dead 26 minutes after being injected .', \"For the first time in 75 years the California Department of Water Resources has found no snow during its survey of the Sierra Nevada in early April .\\nNASA images showing  the snowpack across the Tuolumne River Basin   show a marked decrease since last April .\\nCalifornia depends on the snow to melt into rivers and replenish reservoirs .\\nGov. Brown ordered sweeping, unprecedented measures to save water in the state on Wednesday .\\nCemeteries, golf courses and business headquarters must significantly cut back on watering the large landscapes .\\nThe governor's order contains no water reduction target for farmers .\\nInitiatives are part of the goal to reduce water use by 25 percent compared to levels in 2013 .\", 'Scott Turner Schofield has landed a role on the popular soap opera The Bold and the Beautiful .\\nSchofield is now the first transgender male to score a major role on a daytime television show .\\nHe will make his first appearance on May 8 .\\nSchofield is a speaker and author known for his one-person shows that address transgender issues .', 'Arsenal beat top four rivals Liverpool 4-1 at the Emirates on Saturday .\\nHector Bellerin, Mesut Ozil and Alexis Sanchez put hosts 3-0 ahead .\\nJordan Henderson pulled one back for the visitors from the penalty spot .\\nArsenal striker Olivier Giroud completed the scoreline in injury time .\\nWin moves Arsenal into second - nine points ahead of the Reds .']}\n"
          ]
        },
        {
          "output_type": "display_data",
          "data": {
            "text/plain": [
              "model.safetensors:   0%|          | 0.00/69.6M [00:00<?, ?B/s]"
            ],
            "application/vnd.jupyter.widget-view+json": {
              "version_major": 2,
              "version_minor": 0,
              "model_id": "895e34d9d36541ef9530477bb20ce9ea"
            }
          },
          "metadata": {}
        },
        {
          "output_type": "stream",
          "name": "stderr",
          "text": [
            "/usr/local/lib/python3.10/dist-packages/transformers/optimization.py:588: FutureWarning: This implementation of AdamW is deprecated and will be removed in a future version. Use the PyTorch implementation torch.optim.AdamW instead, or set `no_deprecation_warning=True` to disable this warning\n",
            "  warnings.warn(\n",
            "  0%|          | 0/2298 [00:00<?, ?it/s]/usr/local/lib/python3.10/dist-packages/torch/utils/data/dataloader.py:558: UserWarning: This DataLoader will create 4 worker processes in total. Our suggested max number of worker in current system is 2, which is smaller than what this DataLoader is going to create. Please be aware that excessive worker creation might get DataLoader running slow or even freeze, lower the worker number to avoid potential slowness/freeze if necessary.\n",
            "  warnings.warn(_create_warning_msg(\n",
            "  0%|          | 4/2298 [00:01<13:02,  2.93it/s]"
          ]
        },
        {
          "output_type": "stream",
          "name": "stdout",
          "text": [
            "Step 0, Loss: 3.85542368888855, Elapsed Time: 1.54s\n"
          ]
        },
        {
          "output_type": "stream",
          "name": "stderr",
          "text": [
            "  5%|▍         | 104/2298 [00:04<01:06, 33.18it/s]"
          ]
        },
        {
          "output_type": "stream",
          "name": "stdout",
          "text": [
            "Step 100, Loss: 4.01887328553908, Elapsed Time: 3.17s\n"
          ]
        },
        {
          "output_type": "stream",
          "name": "stderr",
          "text": [
            "  9%|▉         | 205/2298 [00:08<01:39, 21.14it/s]"
          ]
        },
        {
          "output_type": "stream",
          "name": "stdout",
          "text": [
            "Step 200, Loss: 4.034698670183248, Elapsed Time: 3.81s\n"
          ]
        },
        {
          "output_type": "stream",
          "name": "stderr",
          "text": [
            " 13%|█▎        | 304/2298 [00:13<01:42, 19.37it/s]"
          ]
        },
        {
          "output_type": "stream",
          "name": "stdout",
          "text": [
            "Step 300, Loss: 4.03015905757283, Elapsed Time: 5.08s\n"
          ]
        },
        {
          "output_type": "stream",
          "name": "stderr",
          "text": [
            " 18%|█▊        | 404/2298 [00:16<00:56, 33.30it/s]"
          ]
        },
        {
          "output_type": "stream",
          "name": "stdout",
          "text": [
            "Step 400, Loss: 4.030680778912475, Elapsed Time: 3.09s\n"
          ]
        },
        {
          "output_type": "stream",
          "name": "stderr",
          "text": [
            " 22%|██▏       | 504/2298 [00:19<00:54, 32.83it/s]"
          ]
        },
        {
          "output_type": "stream",
          "name": "stdout",
          "text": [
            "Step 500, Loss: 4.02949578842955, Elapsed Time: 2.99s\n"
          ]
        },
        {
          "output_type": "stream",
          "name": "stderr",
          "text": [
            " 26%|██▋       | 604/2298 [00:22<00:51, 33.12it/s]"
          ]
        },
        {
          "output_type": "stream",
          "name": "stdout",
          "text": [
            "Step 600, Loss: 4.031992095480743, Elapsed Time: 3.04s\n"
          ]
        },
        {
          "output_type": "stream",
          "name": "stderr",
          "text": [
            " 31%|███       | 704/2298 [00:27<01:21, 19.46it/s]"
          ]
        },
        {
          "output_type": "stream",
          "name": "stdout",
          "text": [
            "Step 700, Loss: 4.031320109687076, Elapsed Time: 4.34s\n"
          ]
        },
        {
          "output_type": "stream",
          "name": "stderr",
          "text": [
            " 35%|███▌      | 806/2298 [00:32<00:51, 29.23it/s]"
          ]
        },
        {
          "output_type": "stream",
          "name": "stdout",
          "text": [
            "Step 800, Loss: 4.030352912145608, Elapsed Time: 4.84s\n"
          ]
        },
        {
          "output_type": "stream",
          "name": "stderr",
          "text": [
            " 39%|███▉      | 906/2298 [00:35<00:43, 32.14it/s]"
          ]
        },
        {
          "output_type": "stream",
          "name": "stdout",
          "text": [
            "Step 900, Loss: 4.029056035188935, Elapsed Time: 3.00s\n"
          ]
        },
        {
          "output_type": "stream",
          "name": "stderr",
          "text": [
            " 44%|████▍     | 1006/2298 [00:38<00:39, 32.35it/s]"
          ]
        },
        {
          "output_type": "stream",
          "name": "stdout",
          "text": [
            "Step 1000, Loss: 4.0266127064749675, Elapsed Time: 3.06s\n"
          ]
        },
        {
          "output_type": "stream",
          "name": "stderr",
          "text": [
            " 48%|████▊     | 1106/2298 [00:41<00:36, 32.97it/s]"
          ]
        },
        {
          "output_type": "stream",
          "name": "stdout",
          "text": [
            "Step 1100, Loss: 4.025550589791003, Elapsed Time: 3.07s\n"
          ]
        },
        {
          "output_type": "stream",
          "name": "stderr",
          "text": [
            " 52%|█████▏    | 1203/2298 [00:45<00:53, 20.63it/s]"
          ]
        },
        {
          "output_type": "stream",
          "name": "stdout",
          "text": [
            "Step 1200, Loss: 4.025276847723422, Elapsed Time: 4.60s\n"
          ]
        },
        {
          "output_type": "stream",
          "name": "stderr",
          "text": [
            " 57%|█████▋    | 1304/2298 [00:50<00:32, 30.79it/s]"
          ]
        },
        {
          "output_type": "stream",
          "name": "stdout",
          "text": [
            "Step 1300, Loss: 4.025801110322616, Elapsed Time: 4.73s\n"
          ]
        },
        {
          "output_type": "stream",
          "name": "stderr",
          "text": [
            " 61%|██████    | 1404/2298 [00:53<00:27, 32.82it/s]"
          ]
        },
        {
          "output_type": "stream",
          "name": "stdout",
          "text": [
            "Step 1400, Loss: 4.0249459627779105, Elapsed Time: 3.04s\n"
          ]
        },
        {
          "output_type": "stream",
          "name": "stderr",
          "text": [
            " 65%|██████▌   | 1504/2298 [00:56<00:24, 32.68it/s]"
          ]
        },
        {
          "output_type": "stream",
          "name": "stdout",
          "text": [
            "Step 1500, Loss: 4.024191056149233, Elapsed Time: 3.08s\n"
          ]
        },
        {
          "output_type": "stream",
          "name": "stderr",
          "text": [
            " 70%|██████▉   | 1604/2298 [00:59<00:20, 33.16it/s]"
          ]
        },
        {
          "output_type": "stream",
          "name": "stdout",
          "text": [
            "Step 1600, Loss: 4.02474364141313, Elapsed Time: 3.12s\n"
          ]
        },
        {
          "output_type": "stream",
          "name": "stderr",
          "text": [
            " 74%|███████▍  | 1703/2298 [01:04<00:30, 19.61it/s]"
          ]
        },
        {
          "output_type": "stream",
          "name": "stdout",
          "text": [
            "Step 1700, Loss: 4.024891805116181, Elapsed Time: 4.88s\n"
          ]
        },
        {
          "output_type": "stream",
          "name": "stderr",
          "text": [
            " 79%|███████▊  | 1804/2298 [01:09<00:15, 32.89it/s]"
          ]
        },
        {
          "output_type": "stream",
          "name": "stdout",
          "text": [
            "Step 1800, Loss: 4.024573425396755, Elapsed Time: 4.63s\n"
          ]
        },
        {
          "output_type": "stream",
          "name": "stderr",
          "text": [
            " 83%|████████▎ | 1904/2298 [01:12<00:11, 33.05it/s]"
          ]
        },
        {
          "output_type": "stream",
          "name": "stdout",
          "text": [
            "Step 1900, Loss: 4.023516408146714, Elapsed Time: 3.04s\n"
          ]
        },
        {
          "output_type": "stream",
          "name": "stderr",
          "text": [
            " 87%|████████▋ | 2004/2298 [01:15<00:08, 32.95it/s]"
          ]
        },
        {
          "output_type": "stream",
          "name": "stdout",
          "text": [
            "Step 2000, Loss: 4.02207709466857, Elapsed Time: 3.03s\n"
          ]
        },
        {
          "output_type": "stream",
          "name": "stderr",
          "text": [
            " 92%|█████████▏| 2104/2298 [01:18<00:09, 21.53it/s]"
          ]
        },
        {
          "output_type": "stream",
          "name": "stdout",
          "text": [
            "Step 2100, Loss: 4.022086470992948, Elapsed Time: 3.29s\n"
          ]
        },
        {
          "output_type": "stream",
          "name": "stderr",
          "text": [
            " 96%|█████████▌| 2204/2298 [01:23<00:04, 20.96it/s]"
          ]
        },
        {
          "output_type": "stream",
          "name": "stdout",
          "text": [
            "Step 2200, Loss: 4.0218070260723415, Elapsed Time: 4.87s\n"
          ]
        },
        {
          "output_type": "stream",
          "name": "stderr",
          "text": [
            "100%|██████████| 2298/2298 [01:27<00:00, 26.17it/s]\n"
          ]
        },
        {
          "output_type": "stream",
          "name": "stdout",
          "text": [
            "Epoch 0, Loss: 4.021135378029162\n",
            "         3272930 function calls (2978558 primitive calls) in 87.798 seconds\n",
            "\n",
            "   Ordered by: cumulative time\n",
            "\n",
            "   ncalls  tottime  percall  cumtime  percall filename:lineno(function)\n",
            "        1    0.000    0.000   87.818   87.818 {built-in method builtins.exec}\n",
            "        1    0.000    0.000   87.818   87.818 <string>:1(<module>)\n",
            "        1    0.830    0.830   87.818   87.818 <ipython-input-6-1e6603dfe9a5>:84(train)\n",
            "     2298    0.025    0.000   37.994    0.017 _tensor.py:466(backward)\n",
            "     2298    0.040    0.000   37.968    0.017 __init__.py:165(backward)\n",
            "     2298    0.021    0.000   37.757    0.016 graph.py:739(_engine_run_backward)\n",
            "     2298   37.729    0.016   37.729    0.016 {method 'run_backward' of 'torch._C._EngineBase' objects}\n",
            "144774/4596    0.397    0.000   33.635    0.007 module.py:1528(_wrapped_call_impl)\n",
            "144774/4596    0.837    0.000   33.615    0.007 module.py:1534(_call_impl)\n",
            "     2298    0.230    0.000   33.184    0.014 modeling_bert.py:996(forward)\n",
            "     2298    0.072    0.000   27.822    0.012 modeling_bert.py:646(forward)\n",
            "     6894    0.104    0.000   27.404    0.004 modeling_bert.py:568(forward)\n",
            "     6894    0.103    0.000   16.256    0.002 modeling_bert.py:500(forward)\n",
            "    43662    0.266    0.000   15.640    0.000 linear.py:115(forward)\n",
            "    43662   15.284    0.000   15.284    0.000 {built-in method torch._C._nn.linear}\n",
            "     6894    0.368    0.000   11.311    0.002 modeling_bert.py:363(forward)\n",
            "     6894    0.050    0.000   10.962    0.002 pytorch_utils.py:166(apply_chunking_to_forward)\n",
            "     6894    0.070    0.000   10.069    0.001 modeling_bert.py:633(feed_forward_chunk)\n",
            "      574    0.013    0.000    8.850    0.015 grad_scaler.py:354(step)\n",
            "      574    0.004    0.000    8.139    0.014 grad_scaler.py:342(_maybe_opt_step)\n",
            "      574    0.016    0.000    8.114    0.014 optimizer.py:374(wrapper)\n",
            "      574    0.005    0.000    8.052    0.014 _contextlib.py:112(decorate_context)\n",
            "      574    0.471    0.001    8.033    0.014 optimization.py:606(step)\n",
            "     6894    0.730    0.000    5.414    0.001 modeling_bert.py:546(forward)\n",
            "     6894    0.808    0.000    4.621    0.001 modeling_bert.py:460(forward)\n",
            "     6894    0.127    0.000    4.430    0.001 modeling_bert.py:533(forward)\n",
            "     2299    0.016    0.000    3.848    0.002 std.py:1160(__iter__)\n",
            "     2298    0.422    0.000    2.885    0.001 modeling_bert.py:180(forward)\n",
            "     6894    2.675    0.000    2.675    0.000 {built-in method torch._C._nn.scaled_dot_product_attention}\n",
            "    16086    0.104    0.000    2.335    0.000 normalization.py:200(forward)\n",
            "    16086    0.096    0.000    2.190    0.000 functional.py:2558(layer_norm)\n",
            "    60844    2.077    0.000    2.077    0.000 {method 'mul_' of 'torch._C.TensorBase' objects}\n",
            "    16086    2.047    0.000    2.047    0.000 {built-in method torch.layer_norm}\n",
            "    60844    2.035    0.000    2.035    0.000 {method 'add_' of 'torch._C.TensorBase' objects}\n",
            "     2299    0.032    0.000    1.993    0.001 dataloader.py:626(__next__)\n",
            "      663    0.017    0.000    1.746    0.003 std.py:1198(update)\n",
            "      664    0.006    0.000    1.722    0.003 std.py:1325(refresh)\n",
            "      665    0.006    0.000    1.706    0.003 std.py:1464(display)\n",
            "    16086    0.052    0.000    1.653    0.000 dropout.py:58(forward)\n",
            "     6894    0.032    0.000    1.610    0.000 sparse.py:162(forward)\n",
            "    16086    0.156    0.000    1.601    0.000 functional.py:1279(dropout)\n",
            "      665    0.010    0.000    1.574    0.002 std.py:457(print_status)\n",
            "     6894    0.024    0.000    1.571    0.000 functional.py:2154(embedding)\n",
            "     5171    0.045    0.000    1.555    0.000 profiler.py:610(__exit__)\n",
            "     6894    1.542    0.000    1.542    0.000 {built-in method torch.embedding}\n",
            "      665    0.006    0.000    1.528    0.002 std.py:451(fp_write)\n",
            "     1332    0.005    0.000    1.522    0.001 utils.py:194(inner)\n",
            "     5171    0.015    0.000    1.505    0.000 _ops.py:591(__call__)\n",
            "     5171    1.490    0.000    1.490    0.000 {built-in method torch._ops.profiler.}\n",
            "      675    0.008    0.000    1.389    0.002 iostream.py:335(flush)\n",
            "    16086    1.377    0.000    1.377    0.000 {built-in method torch.dropout}\n",
            "    30422    1.304    0.000    1.304    0.000 {method 'addcdiv_' of 'torch._C.TensorBase' objects}\n",
            "     2298    0.021    0.000    1.238    0.001 _compile.py:20(inner)\n",
            "      598    0.005    0.000    1.113    0.002 threading.py:288(wait)\n",
            "    12730    1.113    0.000    1.113    0.000 {method 'acquire' of '_thread.lock' objects}\n",
            "      682    0.004    0.000    1.083    0.002 threading.py:589(wait)\n",
            "    30422    1.053    0.000    1.053    0.000 {method 'addcmul_' of 'torch._C.TensorBase' objects}\n",
            "    30422    1.039    0.000    1.039    0.000 {method 'sqrt' of 'torch._C.TensorBase' objects}\n",
            "     2298    0.161    0.000    1.013    0.000 modeling_bert.py:738(forward)\n",
            "    20682    0.189    0.000    0.836    0.000 modeling_bert.py:249(transpose_for_scores)\n",
            "     6894    0.017    0.000    0.831    0.000 inspect.py:3252(signature)\n",
            "     6894    0.018    0.000    0.815    0.000 inspect.py:2998(from_callable)\n",
            "13788/6894    0.168    0.000    0.797    0.000 inspect.py:2375(_signature_from_callable)\n",
            "     6894    0.011    0.000    0.781    0.000 activations.py:77(forward)\n",
            "     6894    0.771    0.000    0.771    0.000 {built-in method torch._C._nn.gelu}\n",
            "     2298    0.018    0.000    0.712    0.000 eval_frame.py:428(_fn)\n",
            "      574    0.018    0.000    0.694    0.001 grad_scaler.py:286(unscale_)\n",
            "     2298    0.479    0.000    0.663    0.000 optimizer.py:793(zero_grad)\n",
            "     2298    0.354    0.000    0.656    0.000 modeling_attn_mask_utils.py:426(_prepare_4d_attention_mask_for_sdpa)\n",
            "   275760    0.585    0.000    0.585    0.000 module.py:1696(__getattr__)\n",
            "      574    0.108    0.000    0.562    0.001 grad_scaler.py:233(_unscale_grads_)\n",
            "    11362    0.511    0.000    0.511    0.000 {method 'to' of 'torch._C.TensorBase' objects}\n",
            "     2298    0.016    0.000    0.506    0.000 decorators.py:36(disable)\n",
            "     2298    0.056    0.000    0.443    0.000 eval_frame.py:351(__call__)\n",
            "     2757    0.013    0.000    0.432    0.000 iostream.py:195(schedule)\n",
            "     6894    0.150    0.000    0.419    0.000 inspect.py:2280(_signature_from_function)\n",
            "     2757    0.403    0.000    0.403    0.000 socket.py:545(send)\n",
            "     2298    0.008    0.000    0.378    0.000 loss.py:534(forward)\n",
            "      574    0.375    0.001    0.375    0.001 {built-in method torch._amp_foreach_non_finite_check_and_unscale_}\n",
            "     2298    0.027    0.000    0.370    0.000 functional.py:3339(mse_loss)\n",
            "   144774    0.333    0.000    0.333    0.000 {built-in method torch._C._get_tracing_state}\n",
            "    20682    0.319    0.000    0.319    0.000 {method 'view' of 'torch._C.TensorBase' objects}\n",
            "     4596    0.085    0.000    0.315    0.000 generic.py:359(__post_init__)\n",
            "     2299    0.021    0.000    0.311    0.000 dataloader.py:1299(_next_data)\n",
            "     5171    0.023    0.000    0.281    0.000 profiler.py:604(__enter__)\n",
            "     2298    0.275    0.000    0.275    0.000 {method 'mean' of 'torch._C.TensorBase' objects}\n",
            "     2298    0.273    0.000    0.273    0.000 {built-in method torch._C._nn.mse_loss}\n",
            "    20682    0.270    0.000    0.270    0.000 {method 'permute' of 'torch._C.TensorBase' objects}\n",
            "     5171    0.011    0.000    0.258    0.000 _ops.py:846(__call__)\n",
            "     5171    0.247    0.000    0.247    0.000 {built-in method torch._ops.profiler._record_function_enter_new}\n",
            "     2298    0.017    0.000    0.239    0.000 <string>:2(__init__)\n",
            "     2298    0.167    0.000    0.198    0.000 grad_scaler.py:188(scale)\n",
            "     2298    0.191    0.000    0.191    0.000 {built-in method torch.all}\n",
            "     2298    0.034    0.000    0.174    0.000 inspect.py:813(getsourcefile)\n",
            "     2298    0.004    0.000    0.170    0.000 trace_rules.py:3377(check)\n",
            "     2298    0.026    0.000    0.165    0.000 trace_rules.py:3342(check_verbose)\n",
            "     2298    0.040    0.000    0.154    0.000 __init__.py:60(_make_grads)\n",
            "      716    0.007    0.000    0.148    0.000 iostream.py:384(write)\n",
            "     6894    0.068    0.000    0.145    0.000 inspect.py:1959(_signature_bound_method)\n",
            "     2306    0.019    0.000    0.139    0.000 dataloader.py:1348(_try_put_index)\n",
            "     2298    0.005    0.000    0.135    0.000 activation.py:356(forward)\n",
            "     2298    0.006    0.000    0.133    0.000 dataloader.py:1368(_process_data)\n",
            "    13788    0.099    0.000    0.130    0.000 inspect.py:2920(__init__)\n",
            "     2298    0.130    0.000    0.130    0.000 {built-in method torch.tanh}\n",
            "     2298    0.016    0.000    0.129    0.000 autocast_mode.py:44(__exit__)\n",
            "      665    0.005    0.000    0.125    0.000 std.py:1150(__str__)\n",
            "     2298    0.011    0.000    0.122    0.000 autocast_mode.py:23(__init__)\n",
            "    13788    0.056    0.000    0.119    0.000 inspect.py:2637(__init__)\n",
            "     2298    0.116    0.000    0.116    0.000 {built-in method torch.randn_like}\n",
            "     2298    0.019    0.000    0.112    0.000 autocast_mode.py:370(__exit__)\n",
            "     2298    0.030    0.000    0.109    0.000 autocast_mode.py:187(__init__)\n",
            "      665    0.073    0.000    0.109    0.000 std.py:464(format_meter)\n",
            "     2298    0.108    0.000    0.108    0.000 {built-in method torch.ones_like}\n",
            "     2298    0.008    0.000    0.103    0.000 dataloader.py:1266(_get_data)\n",
            "    36992    0.098    0.000    0.098    0.000 {method 'size' of 'torch._C.TensorBase' objects}\n",
            "     2874    0.096    0.000    0.096    0.000 {method 'item' of 'torch._C.TensorBase' objects}\n",
            "     2303    0.015    0.000    0.095    0.000 queues.py:86(put)\n",
            "        1    0.000    0.000    0.089    0.089 dataloader.py:426(__iter__)\n",
            "        1    0.000    0.000    0.089    0.089 dataloader.py:382(_get_iterator)\n",
            "        1    0.001    0.001    0.088    0.088 dataloader.py:991(__init__)\n",
            "     2298    0.009    0.000    0.088    0.000 generic.py:118(is_tensor)\n",
            "      224    0.013    0.000    0.086    0.000 modeling_attn_mask_utils.py:174(_expand_mask)\n",
            "     6894    0.083    0.000    0.083    0.000 {method 'transpose' of 'torch._C.TensorBase' objects}\n",
            "     4596    0.010    0.000    0.082    0.000 package_importer.py:694(_patched_getfile)\n",
            "     2298    0.007    0.000    0.081    0.000 dataloader.py:1120(_try_get_data)\n",
            "     2298    0.081    0.000    0.081    0.000 {built-in method torch.clear_autocast_cache}\n",
            "     2298    0.014    0.000    0.078    0.000 trace_rules.py:3432(lookup_inner)\n",
            "     6894    0.075    0.000    0.075    0.000 {method 'reshape' of 'torch._C.TensorBase' objects}\n",
            "     2298    0.016    0.000    0.074    0.000 queue.py:154(get)\n",
            "187905/187839    0.054    0.000    0.071    0.000 {built-in method builtins.isinstance}\n",
            "     2298    0.009    0.000    0.070    0.000 common.py:8(amp_definitely_not_available)\n",
            "     4596    0.032    0.000    0.068    0.000 inspect.py:773(getfile)\n",
            "     6894    0.020    0.000    0.066    0.000 inspect.py:3014(replace)\n",
            "     4607    0.011    0.000    0.065    0.000 threading.py:359(notify)\n",
            "     2298    0.005    0.000    0.064    0.000 genericpath.py:16(exists)\n",
            "     2522    0.063    0.000    0.063    0.000 {method 'expand' of 'torch._C.TensorBase' objects}\n",
            "        4    0.000    0.000    0.063    0.016 process.py:110(start)\n",
            "    25278    0.056    0.000    0.062    0.000 generic.py:434(__setattr__)\n",
            "        4    0.000    0.000    0.062    0.016 context.py:222(_Popen)\n",
            "        4    0.000    0.000    0.062    0.016 context.py:278(_Popen)\n",
            "     4596    0.037    0.000    0.062    0.000 dataclasses.py:1187(fields)\n",
            "        4    0.000    0.000    0.062    0.015 popen_fork.py:15(__init__)\n",
            "     2299    0.008    0.000    0.061    0.000 __init__.py:105(is_available)\n",
            "     2298    0.059    0.000    0.059    0.000 {built-in method posix.stat}\n",
            "     2298    0.025    0.000    0.057    0.000 generic.py:97(_get_frameworks_and_test_func)\n",
            "20682/16086    0.052    0.000    0.056    0.000 configuration_utils.py:261(__getattribute__)\n",
            "     2298    0.011    0.000    0.055    0.000 modeling_utils.py:4444(warn_if_padding_and_no_attention_mask)\n",
            "     2298    0.023    0.000    0.054    0.000 functional.py:47(broadcast_tensors)\n",
            "    13788    0.040    0.000    0.053    0.000 enum.py:359(__call__)\n",
            "        2    0.000    0.000    0.053    0.027 dataloader.py:1401(_shutdown_workers)\n",
            "        4    0.000    0.000    0.052    0.013 process.py:142(join)\n",
            "        4    0.000    0.000    0.052    0.013 popen_fork.py:36(wait)\n",
            "        4    0.001    0.000    0.050    0.013 popen_fork.py:62(_launch)\n",
            "     6894    0.012    0.000    0.050    0.000 {built-in method builtins.any}\n",
            "     1239    0.009    0.000    0.050    0.000 {built-in method builtins.sum}\n",
            "      574    0.050    0.000    0.050    0.000 {method 'reciprocal' of 'torch._C.TensorBase' objects}\n",
            "        4    0.049    0.012    0.049    0.012 {built-in method posix.fork}\n",
            "     1148    0.003    0.000    0.048    0.000 grad_scaler.py:25(get)\n",
            "4596/2298    0.015    0.000    0.048    0.000 generic.py:427(__getitem__)\n",
            "     2298    0.015    0.000    0.047    0.000 trace_rules.py:3275(check_file)\n",
            "     2299    0.006    0.000    0.047    0.000 __init__.py:101(_nvml_based_avail)\n",
            "     2900    0.046    0.000    0.046    0.000 {method 'release' of '_thread.lock' objects}\n",
            "    18384    0.033    0.000    0.046    0.000 _VF.py:26(__getattr__)\n",
            "   104015    0.045    0.000    0.045    0.000 {built-in method builtins.getattr}\n",
            "        4    0.000    0.000    0.044    0.011 connection.py:917(wait)\n",
            "        4    0.000    0.000    0.044    0.011 selectors.py:403(select)\n",
            "     6894    0.033    0.000    0.044    0.000 inspect.py:66(get_annotations)\n",
            "        4    0.044    0.011    0.044    0.011 {method 'poll' of 'select.poll' objects}\n",
            "     6894    0.027    0.000    0.043    0.000 inspect.py:612(unwrap)\n",
            "     9192    0.023    0.000    0.042    0.000 {built-in method builtins.all}\n",
            "      716    0.002    0.000    0.041    0.000 iostream.py:321(_schedule_flush)\n",
            "     2299    0.007    0.000    0.041    0.000 os.py:772(getenv)\n",
            "     2298    0.018    0.000    0.041    0.000 generic.py:453(to_tuple)\n",
            "     2298    0.010    0.000    0.040    0.000 eval_frame.py:550(__init__)\n",
            "     5171    0.027    0.000    0.039    0.000 profiler.py:593(__init__)\n",
            "     2298    0.006    0.000    0.038    0.000 autocast_mode.py:38(__enter__)\n",
            "      576    0.036    0.000    0.036    0.000 {built-in method torch.full}\n",
            "      665    0.003    0.000    0.035    0.000 utils.py:378(disp_len)\n",
            "      574    0.007    0.000    0.035    0.000 grad_scaler.py:459(update)\n",
            "     2299    0.013    0.000    0.034    0.000 _collections_abc.py:821(get)\n",
            "    16086    0.022    0.000    0.033    0.000 __init__.py:36(__get__)\n",
            "     2298    0.003    0.000    0.032    0.000 utils.py:862(getfile)\n",
            "    30475    0.022    0.000    0.031    0.000 _tensor.py:1059(__hash__)\n",
            "     2298    0.022    0.000    0.031    0.000 autocast_mode.py:320(__enter__)\n",
            "      665    0.002    0.000    0.031    0.000 utils.py:374(_text_width)\n",
            "     2298    0.022    0.000    0.030    0.000 eval_frame.py:290(__init__)\n",
            "     2298    0.016    0.000    0.029    0.000 functools.py:35(update_wrapper)\n",
            "    18384    0.029    0.000    0.029    0.000 {built-in method torch._C._has_torch_function_unary}\n",
            "      574    0.029    0.000    0.029    0.000 {method 'double' of 'torch._C.TensorBase' objects}\n",
            "67430/67415    0.028    0.000    0.028    0.000 {built-in method builtins.len}\n",
            "     5730    0.013    0.000    0.028    0.000 threading.py:1169(is_alive)\n",
            "      224    0.027    0.000    0.027    0.000 {method 'masked_fill' of 'torch._C.TensorBase' objects}\n",
            "    20682    0.021    0.000    0.027    0.000 inspect.py:2969(<genexpr>)\n",
            "     4596    0.015    0.000    0.026    0.000 _trace.py:1133(is_tracing)\n",
            "     6894    0.026    0.000    0.026    0.000 generic.py:440(__setitem__)\n",
            "     4663    0.005    0.000    0.025    0.000 {built-in method builtins.next}\n",
            "     2306    0.002    0.000    0.025    0.000 dataloader.py:620(_next_index)\n",
            "     2298    0.025    0.000    0.025    0.000 {built-in method torch.broadcast_tensors}\n",
            "    22980    0.015    0.000    0.023    0.000 trace_rules.py:3279(<genexpr>)\n",
            "    18384    0.020    0.000    0.023    0.000 inspect.py:277(isfunction)\n",
            "    34259    0.015    0.000    0.023    0.000 utils.py:375(<genexpr>)\n",
            "     4596    0.012    0.000    0.022    0.000 generic.py:457(<genexpr>)\n",
            "      574    0.021    0.000    0.021    0.000 {built-in method torch._amp_update_scale_}\n",
            "    26617    0.017    0.000    0.021    0.000 {built-in method builtins.hasattr}\n",
            "     2298    0.013    0.000    0.021    0.000 generic.py:159(is_torch_tensor)\n",
            "    29874    0.021    0.000    0.021    0.000 dataclasses.py:1202(<genexpr>)\n",
            "     2301    0.013    0.000    0.021    0.000 os.py:675(__getitem__)\n",
            "    25278    0.020    0.000    0.020    0.000 {built-in method torch._C._has_torch_function_variadic}\n",
            "     2300    0.013    0.000    0.020    0.000 sampler.py:274(__iter__)\n",
            "     1148    0.001    0.000    0.019    0.000 grad_scaler.py:350(<genexpr>)\n",
            "     2298    0.016    0.000    0.019    0.000 generic.py:79(infer_framework_from_repr)\n",
            "     2298    0.005    0.000    0.019    0.000 eval_frame.py:448(<listcomp>)\n",
            "     2298    0.009    0.000    0.018    0.000 import_utils.py:647(is_torchdynamo_compiling)\n",
            "     6894    0.013    0.000    0.017    0.000 base.py:127(__instancecheck__)\n",
            "     4596    0.010    0.000    0.016    0.000 external_utils.py:14(is_compiling)\n",
            "        1    0.000    0.000    0.016    0.016 grad_scaler.py:165(_lazy_init_scale_growth_tracker)\n",
            "     2298    0.013    0.000    0.015    0.000 import_utils.py:1478(is_torch_fx_proxy)\n",
            "      224    0.001    0.000    0.015    0.000 _tensor.py:34(wrapped)\n",
            "    40844    0.015    0.000    0.015    0.000 {built-in method builtins.id}\n",
            "      574    0.015    0.000    0.015    0.000 {method 'float' of 'torch._C.TensorBase' objects}\n",
            "        1    0.000    0.000    0.015    0.015 dataloader.py:1087(_reset)\n",
            "        7    0.000    0.000    0.014    0.002 threading.py:916(start)\n",
            "      224    0.001    0.000    0.014    0.000 _tensor.py:964(__rsub__)\n",
            "     2298    0.011    0.000    0.014    0.000 eval_frame.py:141(change)\n",
            "    13788    0.014    0.000    0.014    0.000 enum.py:678(__new__)\n",
            "      224    0.014    0.000    0.014    0.000 {built-in method torch.rsub}\n",
            "      684    0.003    0.000    0.013    0.000 threading.py:545(__init__)\n",
            "        5    0.000    0.000    0.013    0.003 queues.py:161(_start_thread)\n",
            "     5731    0.007    0.000    0.013    0.000 threading.py:1102(_wait_for_tstate_lock)\n",
            "    16086    0.009    0.000    0.012    0.000 generic.py:373(<genexpr>)\n",
            "    16086    0.012    0.000    0.012    0.000 {built-in method torch._C._get_cudnn_enabled}\n",
            "     2296    0.006    0.000    0.011    0.000 grad_mode.py:183(__init__)\n",
            "        4    0.000    0.000    0.011    0.003 util.py:433(_flush_std_streams)\n",
            "     2298    0.010    0.000    0.011    0.000 trace_rules.py:2840(is_aten_op_or_tensor_method)\n",
            "     2298    0.004    0.000    0.011    0.000 configuration_utils.py:386(use_return_dict)\n",
            "    22988    0.011    0.000    0.011    0.000 {method 'startswith' of 'str' objects}\n",
            "5172/5171    0.010    0.000    0.011    0.000 typing.py:306(inner)\n",
            "     1148    0.004    0.000    0.011    0.000 grad_mode.py:83(__exit__)\n",
            "     1332    0.005    0.000    0.011    0.000 {method 'format' of 'str' objects}\n",
            "      665    0.009    0.000    0.011    0.000 std.py:1446(format_dict)\n",
            "      692    0.011    0.000    0.011    0.000 threading.py:236(__init__)\n",
            "     2298    0.007    0.000    0.010    0.000 container.py:315(__iter__)\n",
            "    48820    0.010    0.000    0.010    0.000 {method 'append' of 'list' objects}\n",
            "    28930    0.010    0.000    0.010    0.000 {method 'get' of 'dict' objects}\n",
            "     2298    0.010    0.000    0.010    0.000 {built-in method torch._C._are_functorch_transforms_active}\n",
            "     1330    0.007    0.000    0.010    0.000 utils.py:273(_is_ascii)\n",
            "    29299    0.010    0.000    0.010    0.000 _jit_internal.py:1120(is_scripting)\n",
            "     4596    0.010    0.000    0.010    0.000 {built-in method torch._C._is_tracing}\n",
            "     6894    0.006    0.000    0.010    0.000 eval_frame.py:265(innermost_fn)\n",
            "     6894    0.007    0.000    0.009    0.000 inspect.py:632(_is_wrapper)\n",
            "     1148    0.004    0.000    0.009    0.000 grad_mode.py:79(__enter__)\n",
            "    25278    0.009    0.000    0.009    0.000 generic.py:369(<genexpr>)\n",
            "     3979    0.009    0.000    0.009    0.000 std.py:231(__call__)\n",
            "     1329    0.008    0.000    0.009    0.000 std.py:400(format_interval)\n",
            "    30422    0.008    0.000    0.008    0.000 {built-in method math.sqrt}\n",
            "     5289    0.007    0.000    0.008    0.000 threading.py:267(__exit__)\n",
            "     2298    0.008    0.000    0.008    0.000 generic.py:114(<listcomp>)\n",
            "       30    0.000    0.000    0.008    0.000 popen_fork.py:24(poll)\n",
            "       26    0.008    0.000    0.008    0.000 {built-in method posix.waitpid}\n",
            "     6894    0.005    0.000    0.008    0.000 inspect.py:820(<genexpr>)\n",
            "     4596    0.007    0.000    0.008    0.000 inspect.py:182(ismodule)\n",
            "     4596    0.006    0.000    0.008    0.000 inspect.py:355(istraceback)\n",
            "    13788    0.008    0.000    0.008    0.000 {method 'isidentifier' of 'str' objects}\n",
            "     2298    0.008    0.000    0.008    0.000 {built-in method torch.autocast_decrement_nesting}\n",
            "     9192    0.006    0.000    0.008    0.000 inspect.py:823(<genexpr>)\n",
            "     2301    0.005    0.000    0.008    0.000 os.py:755(encode)\n",
            "    33594    0.007    0.000    0.007    0.000 {built-in method unicodedata.east_asian_width}\n",
            "    27576    0.007    0.000    0.007    0.000 {built-in method builtins.callable}\n",
            "     5205    0.005    0.000    0.007    0.000 threading.py:279(_is_owned)\n",
            "     5289    0.005    0.000    0.007    0.000 threading.py:264(__enter__)\n",
            "     9192    0.005    0.000    0.007    0.000 inspect.py:191(isclass)\n",
            "      668    0.006    0.000    0.007    0.000 std.py:106(release)\n",
            "     2298    0.006    0.000    0.007    0.000 generic.py:153(_is_torch)\n",
            "    20682    0.007    0.000    0.007    0.000 inspect.py:2687(name)\n",
            "     2298    0.007    0.000    0.007    0.000 __init__.py:1710(getEffectiveLevel)\n",
            "    27576    0.007    0.000    0.007    0.000 {method 'keys' of 'collections.OrderedDict' objects}\n",
            "     2298    0.005    0.000    0.007    0.000 eval_frame.py:119(backend_cache_manager)\n",
            "     4596    0.005    0.000    0.006    0.000 inspect.py:365(isframe)\n",
            "     9193    0.004    0.000    0.006    0.000 sampler.py:152(__iter__)\n",
            "     4596    0.005    0.000    0.006    0.000 __init__.py:157(is_compiling)\n",
            "       24    0.000    0.000    0.006    0.000 {built-in method builtins.print}\n",
            "     2298    0.006    0.000    0.006    0.000 _reduction.py:7(get_enum)\n",
            "     2298    0.006    0.000    0.006    0.000 functools.py:65(wraps)\n",
            "      668    0.004    0.000    0.006    0.000 std.py:102(acquire)\n",
            "     2298    0.006    0.000    0.006    0.000 eval_frame.py:149(revert)\n",
            "      574    0.002    0.000    0.005    0.000 _contextlib.py:141(clone)\n",
            "        5    0.000    0.000    0.005    0.001 context.py:100(Queue)\n",
            "      665    0.004    0.000    0.005    0.000 std.py:186(__format__)\n",
            "      574    0.002    0.000    0.005    0.000 grad_scaler.py:504(<listcomp>)\n",
            "     1148    0.004    0.000    0.005    0.000 grad_mode.py:74(__init__)\n",
            "     2299    0.005    0.000    0.005    0.000 {built-in method torch._C._get_privateuse1_backend_name}\n",
            "        5    0.001    0.000    0.005    0.001 queues.py:37(__init__)\n",
            "     4596    0.005    0.000    0.005    0.000 {built-in method torch._C._dynamo.eval_frame.set_eval_frame}\n",
            "     6894    0.005    0.000    0.005    0.000 {method 'values' of 'mappingproxy' objects}\n",
            "    13788    0.005    0.000    0.005    0.000 inspect.py:3006(parameters)\n",
            "    20682    0.004    0.000    0.004    0.000 inspect.py:2699(kind)\n",
            "    11494    0.004    0.000    0.004    0.000 {method 'endswith' of 'str' objects}\n",
            "     2299    0.003    0.000    0.004    0.000 __init__.py:96(_is_compiled)\n",
            "     2298    0.004    0.000    0.004    0.000 modeling_utils.py:1083(get_head_mask)\n",
            "     2298    0.003    0.000    0.004    0.000 utils.py:435(hashable)\n",
            "     1148    0.003    0.000    0.004    0.000 _contextlib.py:149(__new__)\n",
            "     4596    0.003    0.000    0.004    0.000 inspect.py:199(ismethod)\n",
            "     2296    0.004    0.000    0.004    0.000 {built-in method torch._C._set_grad_enabled}\n",
            "     4596    0.004    0.000    0.004    0.000 {built-in method torch.set_autocast_enabled}\n",
            "    11490    0.004    0.000    0.004    0.000 {built-in method builtins.setattr}\n",
            "     2298    0.003    0.000    0.004    0.000 queue.py:217(_get)\n",
            "     2757    0.004    0.000    0.004    0.000 iostream.py:91(_event_pipe)\n",
            "       20    0.002    0.000    0.004    0.000 synchronize.py:50(__init__)\n",
            "     4596    0.003    0.000    0.003    0.000 inspect.py:379(iscode)\n",
            "     2298    0.003    0.000    0.003    0.000 generic.py:115(<dictcomp>)\n",
            "     6894    0.003    0.000    0.003    0.000 {built-in method sys.getrecursionlimit}\n",
            "      106    0.003    0.000    0.003    0.000 {built-in method torch.zeros_like}\n",
            "    13854    0.003    0.000    0.003    0.000 {function _ParameterMeta.__instancecheck__ at 0x7c69742ded40}\n",
            "     2979    0.003    0.000    0.003    0.000 {method 'acquire' of '_multiprocessing.SemLock' objects}\n",
            "        2    0.000    0.000    0.003    0.002 std.py:1265(close)\n",
            "       11    0.000    0.000    0.003    0.000 context.py:65(Lock)\n",
            "     9190    0.003    0.000    0.003    0.000 {method 'values' of 'dict' objects}\n",
            "      665    0.002    0.000    0.003    0.000 std.py:153(__init__)\n",
            "      716    0.002    0.000    0.003    0.000 iostream.py:308(_is_master_process)\n",
            "     2298    0.003    0.000    0.003    0.000 __init__.py:155(_tensor_or_tensors_to_tuple)\n",
            "       11    0.000    0.000    0.003    0.000 synchronize.py:161(__init__)\n",
            "     5171    0.003    0.000    0.003    0.000 {method '__exit__' of 'torch._C.DisableTorchFunctionSubclass' objects}\n",
            "      664    0.003    0.000    0.003    0.000 {built-in method now}\n",
            "    13965    0.003    0.000    0.003    0.000 {built-in method builtins.ord}\n",
            "     4596    0.003    0.000    0.003    0.000 {built-in method torch.get_autocast_gpu_dtype}\n",
            "     2299    0.002    0.000    0.003    0.000 queue.py:209(_qsize)\n",
            "     2299    0.002    0.000    0.002    0.000 {built-in method torch._C._cuda_getDeviceCount}\n",
            "     5289    0.002    0.000    0.002    0.000 {method '__enter__' of '_thread.lock' objects}\n",
            "     4596    0.002    0.000    0.002    0.000 import_utils.py:294(is_torch_available)\n",
            "     6894    0.002    0.000    0.002    0.000 inspect.py:2691(default)\n",
            "     2298    0.002    0.000    0.002    0.000 {method 'numel' of 'torch._C.TensorBase' objects}\n",
            "     1722    0.002    0.000    0.002    0.000 grad_scaler.py:153(_check_scale_growth_tracker)\n",
            "     2300    0.002    0.000    0.002    0.000 {built-in method builtins.iter}\n",
            "        1    0.000    0.000    0.002    0.002 std.py:952(__init__)\n",
            "     5745    0.002    0.000    0.002    0.000 threading.py:553(is_set)\n",
            "     4596    0.002    0.000    0.002    0.000 {built-in method torch.set_autocast_gpu_dtype}\n",
            "     4596    0.002    0.000    0.002    0.000 {built-in method torch.is_autocast_cache_enabled}\n",
            "     4596    0.002    0.000    0.002    0.000 {built-in method torch.set_autocast_cache_enabled}\n",
            "     3444    0.002    0.000    0.002    0.000 {built-in method torch.is_grad_enabled}\n",
            "     2298    0.002    0.000    0.002    0.000 {method 'setdefault' of 'dict' objects}\n",
            "     2302    0.002    0.000    0.002    0.000 {method 'encode' of 'str' objects}\n",
            "      598    0.001    0.000    0.002    0.000 threading.py:276(_acquire_restore)\n",
            "     5171    0.002    0.000    0.002    0.000 __init__.py:127(annotate)\n",
            "     4594    0.002    0.000    0.002    0.000 {method 'values' of 'collections.OrderedDict' objects}\n",
            "      665    0.002    0.000    0.002    0.000 {method 'sub' of 're.Pattern' objects}\n",
            "     2298    0.002    0.000    0.002    0.000 {built-in method torch.is_autocast_enabled}\n",
            "      574    0.002    0.000    0.002    0.000 grad_scaler.py:44(_refresh_per_optimizer_state)\n",
            "     5663    0.002    0.000    0.002    0.000 {method 'append' of 'collections.deque' objects}\n",
            "     5289    0.002    0.000    0.002    0.000 {method '__exit__' of '_thread.lock' objects}\n",
            "     2963    0.001    0.000    0.001    0.000 {method 'update' of 'dict' objects}\n",
            "     2298    0.001    0.000    0.001    0.000 {built-in method torch.autocast_increment_nesting}\n",
            "      796    0.001    0.000    0.001    0.000 {built-in method posix.getpid}\n",
            "     2522    0.001    0.000    0.001    0.000 {built-in method torch._C._has_torch_function}\n",
            "        1    0.000    0.000    0.001    0.001 dataloader.py:486(check_worker_number_rationality)\n",
            "     1148    0.001    0.000    0.001    0.000 grad_scaler.py:21(__init__)\n",
            "     2298    0.001    0.000    0.001    0.000 import_utils.py:486(is_torch_fx_available)\n",
            "        1    0.000    0.000    0.001    0.001 {built-in method _warnings.warn}\n",
            "       20    0.000    0.000    0.001    0.000 __init__.py:7(_make_name)\n",
            "        1    0.000    0.000    0.001    0.001 warnings.py:96(_showwarnmsg)\n",
            "        1    0.000    0.000    0.001    0.001 warnings.py:20(_showwarnmsg_impl)\n",
            "     4596    0.001    0.000    0.001    0.000 eval_frame.py:261(always_false)\n",
            "     2300    0.001    0.000    0.001    0.000 {built-in method builtins.hash}\n",
            "     3323    0.001    0.000    0.001    0.000 {built-in method builtins.divmod}\n",
            "     2301    0.001    0.000    0.001    0.000 {method 'remove' of 'collections.deque' objects}\n",
            "        1    0.000    0.000    0.001    0.001 std.py:438(status_printer)\n",
            "     2797    0.001    0.000    0.001    0.000 {built-in method time.time}\n",
            "     2303    0.001    0.000    0.001    0.000 {built-in method time.monotonic}\n",
            "     2298    0.001    0.000    0.001    0.000 eval_frame.py:257(nothing)\n",
            "       20    0.000    0.000    0.001    0.000 tempfile.py:292(__next__)\n",
            "      598    0.001    0.000    0.001    0.000 threading.py:273(_release_save)\n",
            "     1288    0.001    0.000    0.001    0.000 {built-in method _thread.allocate_lock}\n",
            "     2298    0.001    0.000    0.001    0.000 {method 'extend' of 'list' objects}\n",
            "     2364    0.001    0.000    0.001    0.000 {method 'items' of 'collections.OrderedDict' objects}\n",
            "        2    0.001    0.000    0.001    0.000 {method 'tolist' of 'torch._C.TensorBase' objects}\n",
            "     2298    0.001    0.000    0.001    0.000 {method 'popleft' of 'collections.deque' objects}\n",
            "      665    0.001    0.000    0.001    0.000 {built-in method builtins.max}\n",
            "      665    0.001    0.000    0.001    0.000 utils.py:108(__init__)\n",
            "     1178    0.001    0.000    0.001    0.000 {built-in method __new__ of type object at 0x5a82a18a49a0}\n",
            "      673    0.001    0.000    0.001    0.000 {method 'release' of '_multiprocessing.SemLock' objects}\n",
            "      2/1    0.000    0.000    0.001    0.001 typing.py:401(__getitem__)\n",
            "        1    0.000    0.000    0.001    0.001 typing.py:523(Optional)\n",
            "      665    0.001    0.000    0.001    0.000 std.py:167(colour)\n",
            "      673    0.001    0.000    0.001    0.000 {method 'acquire' of '_thread.RLock' objects}\n",
            "        2    0.001    0.000    0.001    0.000 {built-in method torch.randperm}\n",
            "      574    0.001    0.000    0.001    0.000 grad_scaler.py:251(<lambda>)\n",
            "     66/1    0.000    0.000    0.001    0.001 module.py:2411(train)\n",
            "        5    0.000    0.000    0.001    0.000 context.py:85(BoundedSemaphore)\n",
            "        9    0.000    0.000    0.001    0.000 util.py:205(__call__)\n",
            "       20    0.000    0.000    0.001    0.000 random.py:506(choices)\n",
            "      665    0.001    0.000    0.001    0.000 utils.py:112(__format__)\n",
            "       10    0.001    0.000    0.001    0.000 util.py:186(__init__)\n",
            "       25    0.000    0.000    0.001    0.000 util.py:171(register_after_fork)\n",
            "      675    0.001    0.000    0.001    0.000 {built-in method _imp.lock_held}\n",
            "        5    0.000    0.000    0.001    0.000 synchronize.py:144(__init__)\n",
            "        2    0.000    0.000    0.001    0.000 std.py:1286(fp_write)\n",
            "        7    0.001    0.000    0.001    0.000 {built-in method _thread.start_new_thread}\n",
            "        1    0.000    0.000    0.000    0.000 context.py:90(Event)\n",
            "        7    0.000    0.000    0.000    0.000 threading.py:827(__init__)\n",
            "        1    0.000    0.000    0.000    0.000 synchronize.py:323(__init__)\n",
            "       16    0.000    0.000    0.000    0.000 {built-in method posix.close}\n",
            "      673    0.000    0.000    0.000    0.000 {method 'release' of '_thread.RLock' objects}\n",
            "        4    0.000    0.000    0.000    0.000 util.py:461(close_fds)\n",
            "        4    0.000    0.000    0.000    0.000 process.py:80(__init__)\n",
            "        1    0.000    0.000    0.000    0.000 dataloader.py:565(__init__)\n",
            "       25    0.000    0.000    0.000    0.000 weakref.py:165(__setitem__)\n",
            "        5    0.000    0.000    0.000    0.000 queues.py:71(_reset)\n",
            "        1    0.000    0.000    0.000    0.000 typing.py:483(Union)\n",
            "        4    0.000    0.000    0.000    0.000 context.py:80(Semaphore)\n",
            "       20    0.000    0.000    0.000    0.000 random.py:519(<listcomp>)\n",
            "      665    0.000    0.000    0.000    0.000 std.py:163(colour)\n",
            "        4    0.000    0.000    0.000    0.000 synchronize.py:125(__init__)\n",
            "       66    0.000    0.000    0.000    0.000 module.py:1711(__setattr__)\n",
            "        4    0.000    0.000    0.000    0.000 abc.py:117(__instancecheck__)\n",
            "        4    0.000    0.000    0.000    0.000 {built-in method _abc._abc_instancecheck}\n",
            "      667    0.000    0.000    0.000    0.000 {built-in method builtins.abs}\n",
            "      574    0.000    0.000    0.000    0.000 optimizer.py:358(_optimizer_step_code)\n",
            "        5    0.000    0.000    0.000    0.000 connection.py:516(Pipe)\n",
            "        1    0.000    0.000    0.000    0.000 context.py:75(Condition)\n",
            "        4    0.000    0.000    0.000    0.000 process.py:61(_cleanup)\n",
            "        1    0.000    0.000    0.000    0.000 typing.py:1016(__init__)\n",
            "        1    0.000    0.000    0.000    0.000 synchronize.py:212(__init__)\n",
            "      574    0.000    0.000    0.000    0.000 typing.py:1737(cast)\n",
            "        1    0.000    0.000    0.000    0.000 std.py:663(__new__)\n",
            "     42/2    0.000    0.000    0.000    0.000 abc.py:121(__subclasscheck__)\n",
            "     42/2    0.000    0.000    0.000    0.000 {built-in method _abc._abc_subclasscheck}\n",
            "        1    0.000    0.000    0.000    0.000 _monitor.py:30(__init__)\n",
            "      574    0.000    0.000    0.000    0.000 {method 'items' of 'dict' objects}\n",
            "        3    0.000    0.000    0.000    0.000 typing.py:146(_type_check)\n",
            "        1    0.000    0.000    0.000    0.000 threading.py:1064(join)\n",
            "      131    0.000    0.000    0.000    0.000 module.py:2313(children)\n",
            "        4    0.000    0.000    0.000    0.000 <ipython-input-6-1e6603dfe9a5>:19(__len__)\n",
            "        5    0.000    0.000    0.000    0.000 queues.py:140(close)\n",
            "       36    0.000    0.000    0.000    0.000 <frozen importlib._bootstrap>:404(parent)\n",
            "        4    0.000    0.000    0.000    0.000 __init__.py:228(_releaseLock)\n",
            "       13    0.000    0.000    0.000    0.000 {built-in method posix.pipe}\n",
            "        1    0.000    0.000    0.000    0.000 typing_extensions.py:2989(_collect_type_vars)\n",
            "       20    0.000    0.000    0.000    0.000 tempfile.py:281(rng)\n",
            "       12    0.000    0.000    0.000    0.000 _weakrefset.py:86(add)\n",
            "      131    0.000    0.000    0.000    0.000 module.py:2322(named_children)\n",
            "        4    0.000    0.000    0.000    0.000 frame.py:1489(__len__)\n",
            "        2    0.000    0.000    0.000    0.000 {built-in method torch.empty}\n",
            "        1    0.000    0.000    0.000    0.000 queue.py:34(__init__)\n",
            "        1    0.000    0.000    0.000    0.000 dataloader.py:610(_reset)\n",
            "        3    0.000    0.000    0.000    0.000 typing.py:137(_type_convert)\n",
            "        5    0.000    0.000    0.000    0.000 queues.py:204(_finalize_close)\n",
            "        4    0.000    0.000    0.000    0.000 dataloader.py:1375(_mark_worker_as_unavailable)\n",
            "        1    0.000    0.000    0.000    0.000 __init__.py:776(current_device)\n",
            "       10    0.000    0.000    0.000    0.000 connection.py:117(__init__)\n",
            "        8    0.000    0.000    0.000    0.000 typing.py:986(__setattr__)\n",
            "       25    0.000    0.000    0.000    0.000 weakref.py:353(__init__)\n",
            "        1    0.000    0.000    0.000    0.000 typing.py:664(__init__)\n",
            "        1    0.000    0.000    0.000    0.000 typing.py:947(__init__)\n",
            "       66    0.000    0.000    0.000    0.000 parameter.py:8(__instancecheck__)\n",
            "        4    0.000    0.000    0.000    0.000 signal_handling.py:63(handler)\n",
            "        3    0.000    0.000    0.000    0.000 sampler.py:145(num_samples)\n",
            "        2    0.000    0.000    0.000    0.000 {method 'random_' of 'torch._C.TensorBase' objects}\n",
            "        9    0.000    0.000    0.000    0.000 queues.py:153(cancel_join_thread)\n",
            "        1    0.000    0.000    0.000    0.000 {built-in method builtins.compile}\n",
            "        4    0.000    0.000    0.000    0.000 selectors.py:352(register)\n",
            "        1    0.000    0.000    0.000    0.000 std.py:686(_decr_instances)\n",
            "       25    0.000    0.000    0.000    0.000 weakref.py:348(__new__)\n",
            "       83    0.000    0.000    0.000    0.000 {method 'add' of 'set' objects}\n",
            "        1    0.000    0.000    0.000    0.000 std.py:679(_get_free_pos)\n",
            "        4    0.000    0.000    0.000    0.000 process.py:153(is_alive)\n",
            "        3    0.000    0.000    0.000    0.000 _weakrefset.py:63(__iter__)\n",
            "        1    0.000    0.000    0.000    0.000 typing_extensions.py:2954(_has_generic_or_protocol_as_origin)\n",
            "        1    0.000    0.000    0.000    0.000 synchronize.py:334(set)\n",
            "        4    0.000    0.000    0.000    0.000 {built-in method torch._C._error_if_any_worker_fails}\n",
            "       36    0.000    0.000    0.000    0.000 {method 'rpartition' of 'str' objects}\n",
            "        2    0.000    0.000    0.000    0.000 typing_extensions.py:2976(_is_unpacked_typevartuple)\n",
            "        1    0.000    0.000    0.000    0.000 std.py:682(<setcomp>)\n",
            "        4    0.000    0.000    0.000    0.000 selectors.py:235(register)\n",
            "        4    0.000    0.000    0.000    0.000 selectors.py:348(__init__)\n",
            "        9    0.000    0.000    0.000    0.000 threading.py:1430(current_thread)\n",
            "        1    0.000    0.000    0.000    0.000 utils.py:333(_screen_shape_linux)\n",
            "        1    0.000    0.000    0.000    0.000 dataloader.py:457(__len__)\n",
            "       17    0.000    0.000    0.000    0.000 weakref.py:106(remove)\n",
            "        7    0.000    0.000    0.000    0.000 threading.py:1301(_make_invoke_excepthook)\n",
            "      160    0.000    0.000    0.000    0.000 {built-in method math.floor}\n",
            "       20    0.000    0.000    0.000    0.000 synchronize.py:90(_make_methods)\n",
            "        8    0.000    0.000    0.000    0.000 typing.py:935(_is_dunder)\n",
            "        5    0.000    0.000    0.000    0.000 dataloader.py:1082(<genexpr>)\n",
            "      160    0.000    0.000    0.000    0.000 {method 'random' of '_random.Random' objects}\n",
            "       50    0.000    0.000    0.000    0.000 {method 'pop' of 'dict' objects}\n",
            "        4    0.000    0.000    0.000    0.000 std.py:110(__enter__)\n",
            "        1    0.000    0.000    0.000    0.000 {built-in method torch._C._cuda_getDevice}\n",
            "        2    0.000    0.000    0.000    0.000 typing.py:1902(get_origin)\n",
            "        1    0.000    0.000    0.000    0.000 sampler.py:297(__len__)\n",
            "       24    0.000    0.000    0.000    0.000 {method 'join' of 'str' objects}\n",
            "        4    0.000    0.000    0.000    0.000 std.py:113(__exit__)\n",
            "       49    0.000    0.000    0.000    0.000 util.py:48(debug)\n",
            "        1    0.000    0.000    0.000    0.000 __init__.py:263(_lazy_init)\n",
            "        1    0.000    0.000    0.000    0.000 typing.py:267(_remove_dups_flatten)\n",
            "        1    0.000    0.000    0.000    0.000 signal_handling.py:47(_set_SIGCHLD_handler)\n",
            "        4    0.000    0.000    0.000    0.000 synchronize.py:327(is_set)\n",
            "        8    0.000    0.000    0.000    0.000 threading.py:1183(daemon)\n",
            "       20    0.000    0.000    0.000    0.000 context.py:197(get_start_method)\n",
            "        1    0.000    0.000    0.000    0.000 sampler.py:170(__len__)\n",
            "        2    0.000    0.000    0.000    0.000 _weakrefset.py:17(__init__)\n",
            "        4    0.000    0.000    0.000    0.000 {method 'copy' of 'dict' objects}\n",
            "        1    0.000    0.000    0.000    0.000 std.py:760(get_lock)\n",
            "        1    0.000    0.000    0.000    0.000 {built-in method torch._C._set_worker_pids}\n",
            "        4    0.000    0.000    0.000    0.000 selectors.py:203(__exit__)\n",
            "        1    0.000    0.000    0.000    0.000 warnings.py:117(_formatwarnmsg)\n",
            "        4    0.000    0.000    0.000    0.000 range.py:892(__len__)\n",
            "        1    0.000    0.000    0.000    0.000 warnings.py:35(_formatwarnmsg_impl)\n",
            "        3    0.000    0.000    0.000    0.000 typing.py:515(<genexpr>)\n",
            "        5    0.000    0.000    0.000    0.000 synchronize.py:229(__enter__)\n",
            "       10    0.000    0.000    0.000    0.000 context.py:237(get_context)\n",
            "        7    0.000    0.000    0.000    0.000 threading.py:1198(daemon)\n",
            "        4    0.000    0.000    0.000    0.000 selectors.py:269(close)\n",
            "        2    0.000    0.000    0.000    0.000 _weakrefset.py:27(__exit__)\n",
            "        4    0.000    0.000    0.000    0.000 process.py:189(name)\n",
            "        1    0.000    0.000    0.000    0.000 utils.py:347(<listcomp>)\n",
            "        1    0.000    0.000    0.000    0.000 _weakrefset.py:111(remove)\n",
            "       13    0.000    0.000    0.000    0.000 typing.py:705(__eq__)\n",
            "        1    0.000    0.000    0.000    0.000 utils.py:213(__init__)\n",
            "        2    0.000    0.000    0.000    0.000 threading.py:782(_newname)\n",
            "        1    0.000    0.000    0.000    0.000 synchronize.py:296(notify_all)\n",
            "        1    0.000    0.000    0.000    0.000 queue.py:206(_init)\n",
            "        1    0.000    0.000    0.000    0.000 __init__.py:216(is_initialized)\n",
            "        5    0.000    0.000    0.000    0.000 _weakrefset.py:39(_remove)\n",
            "        1    0.000    0.000    0.000    0.000 dataloader.py:93(_get_distributed_settings)\n",
            "        4    0.000    0.000    0.000    0.000 selectors.py:210(__init__)\n",
            "        3    0.000    0.000    0.000    0.000 {method 'remove' of 'set' objects}\n",
            "        5    0.000    0.000    0.000    0.000 synchronize.py:94(__enter__)\n",
            "        2    0.000    0.000    0.000    0.000 typing_extensions.py:154(_should_collect_from_parameters)\n",
            "        4    0.000    0.000    0.000    0.000 process.py:234(ident)\n",
            "        1    0.000    0.000    0.000    0.000 synchronize.py:270(notify)\n",
            "        4    0.000    0.000    0.000    0.000 selectors.py:216(_fileobj_lookup)\n",
            "        5    0.000    0.000    0.000    0.000 synchronize.py:232(__exit__)\n",
            "        1    0.000    0.000    0.000    0.000 std.py:90(__init__)\n",
            "        1    0.000    0.000    0.000    0.000 threading.py:568(set)\n",
            "        2    0.000    0.000    0.000    0.000 typing.py:714(__hash__)\n",
            "        2    0.000    0.000    0.000    0.000 _weakrefset.py:53(_commit_removals)\n",
            "        1    0.000    0.000    0.000    0.000 threading.py:1028(_stop)\n",
            "        1    0.000    0.000    0.000    0.000 dataloader.py:513(_create_warning_msg)\n",
            "       17    0.000    0.000    0.000    0.000 {built-in method _weakref._remove_dead_weakref}\n",
            "       35    0.000    0.000    0.000    0.000 _collections_abc.py:262(__subclasshook__)\n",
            "        4    0.000    0.000    0.000    0.000 __init__.py:219(_acquireLock)\n",
            "       16    0.000    0.000    0.000    0.000 process.py:99(_check_closed)\n",
            "       21    0.000    0.000    0.000    0.000 context.py:187(get_context)\n",
            "       13    0.000    0.000    0.000    0.000 {method 'discard' of 'set' objects}\n",
            "        4    0.000    0.000    0.000    0.000 <string>:1(<lambda>)\n",
            "        1    0.000    0.000    0.000    0.000 linecache.py:26(getline)\n",
            "        8    0.000    0.000    0.000    0.000 process.py:94(<genexpr>)\n",
            "        1    0.000    0.000    0.000    0.000 distributed_c10d.py:973(is_initialized)\n",
            "        1    0.000    0.000    0.000    0.000 functools.py:393(__get__)\n",
            "        1    0.000    0.000    0.000    0.000 utils.py:125(__eq__)\n",
            "        1    0.000    0.000    0.000    0.000 dataloader.py:1103(<listcomp>)\n",
            "        4    0.000    0.000    0.000    0.000 selectors.py:21(_fileobj_to_fd)\n",
            "        5    0.000    0.000    0.000    0.000 synchronize.py:97(__exit__)\n",
            "        1    0.000    0.000    0.000    0.000 utils.py:266(_supports_unicode)\n",
            "        1    0.000    0.000    0.000    0.000 {built-in method torch._C._remove_worker_pids}\n",
            "        4    0.000    0.000    0.000    0.000 selectors.py:276(_key_from_fd)\n",
            "        5    0.000    0.000    0.000    0.000 {method '__enter__' of '_multiprocessing.SemLock' objects}\n",
            "        1    0.000    0.000    0.000    0.000 {built-in method fcntl.ioctl}\n",
            "        1    0.000    0.000    0.000    0.000 typing.py:253(_deduplicate)\n",
            "        1    0.000    0.000    0.000    0.000 {built-in method posix.sched_getaffinity}\n",
            "        1    0.000    0.000    0.000    0.000 warnings.py:403(__init__)\n",
            "        2    0.000    0.000    0.000    0.000 _weakrefset.py:21(__enter__)\n",
            "        1    0.000    0.000    0.000    0.000 {built-in method fromtimestamp}\n",
            "        1    0.000    0.000    0.000    0.000 {method 'manual_seed' of 'torch._C.Generator' objects}\n",
            "        4    0.000    0.000    0.000    0.000 connection.py:933(<listcomp>)\n",
            "        1    0.000    0.000    0.000    0.000 threading.py:389(notify_all)\n",
            "        1    0.000    0.000    0.000    0.000 distributed_c10d.py:588(WORLD)\n",
            "        9    0.000    0.000    0.000    0.000 {built-in method _thread.get_ident}\n",
            "        9    0.000    0.000    0.000    0.000 util.py:44(sub_debug)\n",
            "        2    0.000    0.000    0.000    0.000 utils.py:187(disable_on_exception)\n",
            "        1    0.000    0.000    0.000    0.000 utils.py:156(__init__)\n",
            "        7    0.000    0.000    0.000    0.000 {method '__exit__' of '_thread.RLock' objects}\n",
            "        4    0.000    0.000    0.000    0.000 {method 'register' of 'select.poll' objects}\n",
            "        4    0.000    0.000    0.000    0.000 process.py:205(daemon)\n",
            "        2    0.000    0.000    0.000    0.000 dataloader.py:445(_index_sampler)\n",
            "        1    0.000    0.000    0.000    0.000 dataloader.py:1478(__del__)\n",
            "        1    0.000    0.000    0.000    0.000 util.py:229(cancel)\n",
            "        2    0.000    0.000    0.000    0.000 std.py:1157(__hash__)\n",
            "        4    0.000    0.000    0.000    0.000 {built-in method math.ceil}\n",
            "        2    0.000    0.000    0.000    0.000 std.py:1153(_comparable)\n",
            "        2    0.000    0.000    0.000    0.000 utils.py:222(__eq__)\n",
            "        4    0.000    0.000    0.000    0.000 selectors.py:64(__init__)\n",
            "        1    0.000    0.000    0.000    0.000 typing.py:380(__repr__)\n",
            "        2    0.000    0.000    0.000    0.000 utils.py:139(__getattr__)\n",
            "        3    0.000    0.000    0.000    0.000 utils.py:152(wrapper_setattr)\n",
            "        4    0.000    0.000    0.000    0.000 {built-in method select.poll}\n",
            "        1    0.000    0.000    0.000    0.000 __init__.py:9(is_available)\n",
            "        3    0.000    0.000    0.000    0.000 std.py:226(__init__)\n",
            "        3    0.000    0.000    0.000    0.000 typing.py:1022(<genexpr>)\n",
            "        1    0.000    0.000    0.000    0.000 linecache.py:36(getlines)\n",
            "        1    0.000    0.000    0.000    0.000 std.py:1147(__del__)\n",
            "        2    0.000    0.000    0.000    0.000 {method 'pop' of 'list' objects}\n",
            "        1    0.000    0.000    0.000    0.000 os.py:759(decode)\n",
            "        4    0.000    0.000    0.000    0.000 {built-in method posix.waitstatus_to_exitcode}\n",
            "        4    0.000    0.000    0.000    0.000 {method 'clear' of 'dict' objects}\n",
            "        3    0.000    0.000    0.000    0.000 dataloader.py:441(_auto_collation)\n",
            "        5    0.000    0.000    0.000    0.000 {method 'clear' of 'collections.deque' objects}\n",
            "        2    0.000    0.000    0.000    0.000 connection.py:130(__del__)\n",
            "        1    0.000    0.000    0.000    0.000 utils.py:282(_screen_shape_wrapper)\n",
            "        1    0.000    0.000    0.000    0.000 utils.py:252(_is_utf)\n",
            "        1    0.000    0.000    0.000    0.000 synchronize.py:235(_make_methods)\n",
            "        1    0.000    0.000    0.000    0.000 std.py:116(create_mp_lock)\n",
            "        5    0.000    0.000    0.000    0.000 {method '__exit__' of '_multiprocessing.SemLock' objects}\n",
            "        1    0.000    0.000    0.000    0.000 {built-in method torch._C._cuda_isInBadFork}\n",
            "        1    0.000    0.000    0.000    0.000 distributed_c10d.py:460(default_pg)\n",
            "        1    0.000    0.000    0.000    0.000 {method 'difference' of 'set' objects}\n",
            "        4    0.000    0.000    0.000    0.000 selectors.py:200(__enter__)\n",
            "        1    0.000    0.000    0.000    0.000 std.py:98(<listcomp>)\n",
            "        1    0.000    0.000    0.000    0.000 dataloader.py:389(multiprocessing_context)\n",
            "        2    0.000    0.000    0.000    0.000 {built-in method _weakref.proxy}\n",
            "        1    0.000    0.000    0.000    0.000 {built-in method builtins.min}\n",
            "        1    0.000    0.000    0.000    0.000 {method 'disable' of '_lsprof.Profiler' objects}\n",
            "        1    0.000    0.000    0.000    0.000 {built-in method sys._getframe}\n",
            "        1    0.000    0.000    0.000    0.000 {method 'strip' of 'str' objects}\n",
            "        1    0.000    0.000    0.000    0.000 {method 'decode' of 'bytes' objects}\n",
            "        1    0.000    0.000    0.000    0.000 {method '_is_mine' of '_multiprocessing.SemLock' objects}\n",
            "        1    0.000    0.000    0.000    0.000 {built-in method atexit.register}\n",
            "        1    0.000    0.000    0.000    0.000 std.py:1301(<lambda>)\n",
            "        1    0.000    0.000    0.000    0.000 {method 'locked' of '_thread.lock' objects}\n",
            "\n",
            "\n"
          ]
        },
        {
          "output_type": "stream",
          "name": "stderr",
          "text": [
            "  0%|          | 5/2298 [00:00<03:24, 11.22it/s]"
          ]
        },
        {
          "output_type": "stream",
          "name": "stdout",
          "text": [
            "Step 0, Loss: 3.848238706588745, Elapsed Time: 0.62s\n"
          ]
        },
        {
          "output_type": "stream",
          "name": "stderr",
          "text": [
            "  5%|▍         | 105/2298 [00:03<01:02, 35.07it/s]"
          ]
        },
        {
          "output_type": "stream",
          "name": "stdout",
          "text": [
            "Step 100, Loss: 4.002261990367776, Elapsed Time: 2.85s\n"
          ]
        },
        {
          "output_type": "stream",
          "name": "stderr",
          "text": [
            "  9%|▉         | 205/2298 [00:06<01:04, 32.46it/s]"
          ]
        },
        {
          "output_type": "stream",
          "name": "stdout",
          "text": [
            "Step 200, Loss: 3.999582444850485, Elapsed Time: 2.93s\n"
          ]
        },
        {
          "output_type": "stream",
          "name": "stderr",
          "text": [
            " 13%|█▎        | 305/2298 [00:10<01:33, 21.40it/s]"
          ]
        },
        {
          "output_type": "stream",
          "name": "stdout",
          "text": [
            "Step 300, Loss: 3.9943487929347348, Elapsed Time: 3.61s\n"
          ]
        },
        {
          "output_type": "stream",
          "name": "stderr",
          "text": [
            " 18%|█▊        | 404/2298 [00:14<01:31, 20.70it/s]"
          ]
        },
        {
          "output_type": "stream",
          "name": "stdout",
          "text": [
            "Step 400, Loss: 3.99645621699288, Elapsed Time: 4.84s\n"
          ]
        },
        {
          "output_type": "stream",
          "name": "stderr",
          "text": [
            " 22%|██▏       | 504/2298 [00:18<00:52, 33.93it/s]"
          ]
        },
        {
          "output_type": "stream",
          "name": "stdout",
          "text": [
            "Step 500, Loss: 4.000955678745658, Elapsed Time: 3.42s\n"
          ]
        },
        {
          "output_type": "stream",
          "name": "stderr",
          "text": [
            " 26%|██▋       | 604/2298 [00:21<00:50, 33.31it/s]"
          ]
        },
        {
          "output_type": "stream",
          "name": "stdout",
          "text": [
            "Step 600, Loss: 4.002450769633898, Elapsed Time: 2.94s\n"
          ]
        },
        {
          "output_type": "stream",
          "name": "stderr",
          "text": [
            " 31%|███       | 704/2298 [00:24<00:46, 34.13it/s]"
          ]
        },
        {
          "output_type": "stream",
          "name": "stdout",
          "text": [
            "Step 700, Loss: 4.0014377854520005, Elapsed Time: 3.01s\n"
          ]
        },
        {
          "output_type": "stream",
          "name": "stderr",
          "text": [
            " 35%|███▌      | 805/2298 [00:27<01:09, 21.53it/s]"
          ]
        },
        {
          "output_type": "stream",
          "name": "stdout",
          "text": [
            "Step 800, Loss: 4.000821967249952, Elapsed Time: 3.65s\n"
          ]
        },
        {
          "output_type": "stream",
          "name": "stderr",
          "text": [
            " 39%|███▉      | 904/2298 [00:32<01:09, 19.93it/s]"
          ]
        },
        {
          "output_type": "stream",
          "name": "stdout",
          "text": [
            "Step 900, Loss: 4.004646684697413, Elapsed Time: 4.91s\n"
          ]
        },
        {
          "output_type": "stream",
          "name": "stderr",
          "text": [
            " 44%|████▎     | 1004/2298 [00:36<00:38, 33.18it/s]"
          ]
        },
        {
          "output_type": "stream",
          "name": "stdout",
          "text": [
            "Step 1000, Loss: 4.005297719896376, Elapsed Time: 3.72s\n"
          ]
        },
        {
          "output_type": "stream",
          "name": "stderr",
          "text": [
            " 48%|████▊     | 1104/2298 [00:39<00:36, 32.55it/s]"
          ]
        },
        {
          "output_type": "stream",
          "name": "stdout",
          "text": [
            "Step 1100, Loss: 4.004119646971492, Elapsed Time: 2.93s\n"
          ]
        },
        {
          "output_type": "stream",
          "name": "stderr",
          "text": [
            " 52%|█████▏    | 1204/2298 [00:42<00:33, 32.59it/s]"
          ]
        },
        {
          "output_type": "stream",
          "name": "stdout",
          "text": [
            "Step 1200, Loss: 4.004516796902951, Elapsed Time: 2.99s\n"
          ]
        },
        {
          "output_type": "stream",
          "name": "stderr",
          "text": [
            " 57%|█████▋    | 1305/2298 [00:45<00:47, 20.85it/s]"
          ]
        },
        {
          "output_type": "stream",
          "name": "stdout",
          "text": [
            "Step 1300, Loss: 4.00666662274096, Elapsed Time: 3.45s\n"
          ]
        },
        {
          "output_type": "stream",
          "name": "stderr",
          "text": [
            " 61%|██████    | 1402/2298 [00:50<00:44, 20.06it/s]"
          ]
        },
        {
          "output_type": "stream",
          "name": "stdout",
          "text": [
            "Step 1400, Loss: 4.007557448789446, Elapsed Time: 4.90s\n"
          ]
        },
        {
          "output_type": "stream",
          "name": "stderr",
          "text": [
            " 65%|██████▌   | 1504/2298 [00:54<00:23, 33.98it/s]"
          ]
        },
        {
          "output_type": "stream",
          "name": "stdout",
          "text": [
            "Step 1500, Loss: 4.008317419562953, Elapsed Time: 3.51s\n"
          ]
        },
        {
          "output_type": "stream",
          "name": "stderr",
          "text": [
            " 70%|██████▉   | 1604/2298 [00:57<00:20, 33.37it/s]"
          ]
        },
        {
          "output_type": "stream",
          "name": "stdout",
          "text": [
            "Step 1600, Loss: 4.00858260303047, Elapsed Time: 3.02s\n"
          ]
        },
        {
          "output_type": "stream",
          "name": "stderr",
          "text": [
            " 74%|███████▍  | 1704/2298 [01:00<00:18, 32.84it/s]"
          ]
        },
        {
          "output_type": "stream",
          "name": "stdout",
          "text": [
            "Step 1700, Loss: 4.007825728376637, Elapsed Time: 3.08s\n"
          ]
        },
        {
          "output_type": "stream",
          "name": "stderr",
          "text": [
            " 78%|███████▊  | 1803/2298 [01:03<00:24, 20.40it/s]"
          ]
        },
        {
          "output_type": "stream",
          "name": "stdout",
          "text": [
            "Step 1800, Loss: 4.007735262838487, Elapsed Time: 3.71s\n"
          ]
        },
        {
          "output_type": "stream",
          "name": "stderr",
          "text": [
            " 83%|████████▎ | 1904/2298 [01:09<00:20, 18.78it/s]"
          ]
        },
        {
          "output_type": "stream",
          "name": "stdout",
          "text": [
            "Step 1900, Loss: 4.008292785009417, Elapsed Time: 5.00s\n"
          ]
        },
        {
          "output_type": "stream",
          "name": "stderr",
          "text": [
            " 87%|████████▋ | 2004/2298 [01:12<00:08, 33.52it/s]"
          ]
        },
        {
          "output_type": "stream",
          "name": "stdout",
          "text": [
            "Step 2000, Loss: 4.0075495138220765, Elapsed Time: 3.86s\n"
          ]
        },
        {
          "output_type": "stream",
          "name": "stderr",
          "text": [
            " 92%|█████████▏| 2104/2298 [01:15<00:05, 33.46it/s]"
          ]
        },
        {
          "output_type": "stream",
          "name": "stdout",
          "text": [
            "Step 2100, Loss: 4.008101120045048, Elapsed Time: 3.01s\n"
          ]
        },
        {
          "output_type": "stream",
          "name": "stderr",
          "text": [
            " 96%|█████████▌| 2204/2298 [01:18<00:02, 33.30it/s]"
          ]
        },
        {
          "output_type": "stream",
          "name": "stdout",
          "text": [
            "Step 2200, Loss: 4.007294384039082, Elapsed Time: 3.02s\n"
          ]
        },
        {
          "output_type": "stream",
          "name": "stderr",
          "text": [
            "100%|██████████| 2298/2298 [01:22<00:00, 27.98it/s]\n"
          ]
        },
        {
          "output_type": "stream",
          "name": "stdout",
          "text": [
            "Epoch 0, Loss: 4.006858348120182\n"
          ]
        },
        {
          "output_type": "stream",
          "name": "stderr",
          "text": [
            "  0%|          | 3/2298 [00:00<05:00,  7.64it/s]"
          ]
        },
        {
          "output_type": "stream",
          "name": "stdout",
          "text": [
            "Step 0, Loss: 4.007891654968262, Elapsed Time: 0.37s\n"
          ]
        },
        {
          "output_type": "stream",
          "name": "stderr",
          "text": [
            "  5%|▍         | 104/2298 [00:05<01:50, 19.82it/s]"
          ]
        },
        {
          "output_type": "stream",
          "name": "stdout",
          "text": [
            "Step 100, Loss: 4.00617506008337, Elapsed Time: 4.90s\n"
          ]
        },
        {
          "output_type": "stream",
          "name": "stderr",
          "text": [
            "  9%|▉         | 207/2298 [00:09<01:01, 33.95it/s]"
          ]
        },
        {
          "output_type": "stream",
          "name": "stdout",
          "text": [
            "Step 200, Loss: 4.007922490437825, Elapsed Time: 3.85s\n"
          ]
        },
        {
          "output_type": "stream",
          "name": "stderr",
          "text": [
            " 13%|█▎        | 303/2298 [00:12<01:01, 32.35it/s]"
          ]
        },
        {
          "output_type": "stream",
          "name": "stdout",
          "text": [
            "Step 300, Loss: 4.0101963253908375, Elapsed Time: 2.94s\n"
          ]
        },
        {
          "output_type": "stream",
          "name": "stderr",
          "text": [
            " 18%|█▊        | 407/2298 [00:15<00:57, 32.65it/s]"
          ]
        },
        {
          "output_type": "stream",
          "name": "stdout",
          "text": [
            "Step 400, Loss: 4.012747274669923, Elapsed Time: 3.04s\n"
          ]
        },
        {
          "output_type": "stream",
          "name": "stderr",
          "text": [
            " 22%|██▏       | 504/2298 [00:18<01:20, 22.23it/s]"
          ]
        },
        {
          "output_type": "stream",
          "name": "stdout",
          "text": [
            "Step 500, Loss: 4.009634104555476, Elapsed Time: 3.42s\n"
          ]
        },
        {
          "output_type": "stream",
          "name": "stderr",
          "text": [
            " 26%|██▋       | 604/2298 [00:23<01:28, 19.25it/s]"
          ]
        },
        {
          "output_type": "stream",
          "name": "stdout",
          "text": [
            "Step 600, Loss: 4.007200055828507, Elapsed Time: 5.01s\n"
          ]
        },
        {
          "output_type": "stream",
          "name": "stderr",
          "text": [
            " 31%|███       | 704/2298 [00:27<00:47, 33.87it/s]"
          ]
        },
        {
          "output_type": "stream",
          "name": "stdout",
          "text": [
            "Step 700, Loss: 4.0039390871426175, Elapsed Time: 3.78s\n"
          ]
        },
        {
          "output_type": "stream",
          "name": "stderr",
          "text": [
            " 35%|███▍      | 804/2298 [00:30<00:45, 33.10it/s]"
          ]
        },
        {
          "output_type": "stream",
          "name": "stdout",
          "text": [
            "Step 800, Loss: 4.002902875381165, Elapsed Time: 2.98s\n"
          ]
        },
        {
          "output_type": "stream",
          "name": "stderr",
          "text": [
            " 39%|███▉      | 904/2298 [00:33<00:43, 32.40it/s]"
          ]
        },
        {
          "output_type": "stream",
          "name": "stdout",
          "text": [
            "Step 900, Loss: 4.003149480322225, Elapsed Time: 3.01s\n"
          ]
        },
        {
          "output_type": "stream",
          "name": "stderr",
          "text": [
            " 44%|████▎     | 1002/2298 [00:36<01:04, 20.01it/s]"
          ]
        },
        {
          "output_type": "stream",
          "name": "stdout",
          "text": [
            "Step 1000, Loss: 4.003018551892215, Elapsed Time: 3.65s\n"
          ]
        },
        {
          "output_type": "stream",
          "name": "stderr",
          "text": [
            " 48%|████▊     | 1103/2298 [00:42<00:57, 20.84it/s]"
          ]
        },
        {
          "output_type": "stream",
          "name": "stdout",
          "text": [
            "Step 1100, Loss: 4.005563598670925, Elapsed Time: 5.04s\n"
          ]
        },
        {
          "output_type": "stream",
          "name": "stderr",
          "text": [
            " 52%|█████▏    | 1206/2298 [00:45<00:31, 34.46it/s]"
          ]
        },
        {
          "output_type": "stream",
          "name": "stdout",
          "text": [
            "Step 1200, Loss: 4.006387877722366, Elapsed Time: 3.47s\n"
          ]
        },
        {
          "output_type": "stream",
          "name": "stderr",
          "text": [
            " 57%|█████▋    | 1305/2298 [00:49<00:44, 22.41it/s]"
          ]
        },
        {
          "output_type": "stream",
          "name": "stdout",
          "text": [
            "Step 1300, Loss: 4.0058175280495485, Elapsed Time: 3.43s\n"
          ]
        },
        {
          "output_type": "stream",
          "name": "stderr",
          "text": [
            " 61%|██████    | 1403/2298 [00:54<00:57, 15.61it/s]"
          ]
        },
        {
          "output_type": "stream",
          "name": "stdout",
          "text": [
            "Step 1400, Loss: 4.006285140550111, Elapsed Time: 5.16s\n"
          ]
        },
        {
          "output_type": "stream",
          "name": "stderr",
          "text": [
            " 65%|██████▌   | 1504/2298 [00:59<00:38, 20.57it/s]"
          ]
        },
        {
          "output_type": "stream",
          "name": "stdout",
          "text": [
            "Step 1500, Loss: 4.006208343715528, Elapsed Time: 5.71s\n"
          ]
        },
        {
          "output_type": "stream",
          "name": "stderr",
          "text": [
            " 70%|██████▉   | 1604/2298 [01:04<00:20, 33.67it/s]"
          ]
        },
        {
          "output_type": "stream",
          "name": "stdout",
          "text": [
            "Step 1600, Loss: 4.006117612849467, Elapsed Time: 4.25s\n"
          ]
        },
        {
          "output_type": "stream",
          "name": "stderr",
          "text": [
            " 74%|███████▍  | 1704/2298 [01:07<00:17, 34.45it/s]"
          ]
        },
        {
          "output_type": "stream",
          "name": "stdout",
          "text": [
            "Step 1700, Loss: 4.006340537191769, Elapsed Time: 2.94s\n"
          ]
        },
        {
          "output_type": "stream",
          "name": "stderr",
          "text": [
            " 79%|███████▊  | 1804/2298 [01:10<00:14, 33.72it/s]"
          ]
        },
        {
          "output_type": "stream",
          "name": "stdout",
          "text": [
            "Step 1800, Loss: 4.006175874803279, Elapsed Time: 3.06s\n"
          ]
        },
        {
          "output_type": "stream",
          "name": "stderr",
          "text": [
            " 83%|████████▎ | 1905/2298 [01:13<00:15, 24.65it/s]"
          ]
        },
        {
          "output_type": "stream",
          "name": "stdout",
          "text": [
            "Step 1900, Loss: 4.004703790121866, Elapsed Time: 3.16s\n"
          ]
        },
        {
          "output_type": "stream",
          "name": "stderr",
          "text": [
            " 87%|████████▋ | 2003/2298 [01:18<00:14, 19.73it/s]"
          ]
        },
        {
          "output_type": "stream",
          "name": "stdout",
          "text": [
            "Step 2000, Loss: 4.003924801491428, Elapsed Time: 4.88s\n"
          ]
        },
        {
          "output_type": "stream",
          "name": "stderr",
          "text": [
            " 92%|█████████▏| 2107/2298 [01:22<00:05, 33.55it/s]"
          ]
        },
        {
          "output_type": "stream",
          "name": "stdout",
          "text": [
            "Step 2100, Loss: 4.0045056370313485, Elapsed Time: 4.19s\n"
          ]
        },
        {
          "output_type": "stream",
          "name": "stderr",
          "text": [
            " 96%|█████████▌| 2207/2298 [01:25<00:02, 32.17it/s]"
          ]
        },
        {
          "output_type": "stream",
          "name": "stdout",
          "text": [
            "Step 2200, Loss: 4.003730676435222, Elapsed Time: 2.99s\n"
          ]
        },
        {
          "output_type": "stream",
          "name": "stderr",
          "text": [
            "100%|██████████| 2298/2298 [01:28<00:00, 26.06it/s]\n"
          ]
        },
        {
          "output_type": "stream",
          "name": "stdout",
          "text": [
            "Epoch 1, Loss: 4.003426510526161\n"
          ]
        },
        {
          "output_type": "stream",
          "name": "stderr",
          "text": [
            "  0%|          | 1/2298 [00:00<07:02,  5.44it/s]"
          ]
        },
        {
          "output_type": "stream",
          "name": "stdout",
          "text": [
            "Step 0, Loss: 4.094254493713379, Elapsed Time: 0.19s\n"
          ]
        },
        {
          "output_type": "stream",
          "name": "stderr",
          "text": [
            "  5%|▍         | 104/2298 [00:03<01:41, 21.66it/s]"
          ]
        },
        {
          "output_type": "stream",
          "name": "stdout",
          "text": [
            "Step 100, Loss: 3.9930667546716068, Elapsed Time: 3.25s\n"
          ]
        },
        {
          "output_type": "stream",
          "name": "stderr",
          "text": [
            "  9%|▉         | 204/2298 [00:08<01:46, 19.64it/s]"
          ]
        },
        {
          "output_type": "stream",
          "name": "stdout",
          "text": [
            "Step 200, Loss: 3.989104473768775, Elapsed Time: 4.79s\n"
          ]
        },
        {
          "output_type": "stream",
          "name": "stderr",
          "text": [
            " 13%|█▎        | 304/2298 [00:12<00:58, 34.18it/s]"
          ]
        },
        {
          "output_type": "stream",
          "name": "stdout",
          "text": [
            "Step 300, Loss: 3.9946376318947423, Elapsed Time: 4.22s\n"
          ]
        },
        {
          "output_type": "stream",
          "name": "stderr",
          "text": [
            " 18%|█▊        | 404/2298 [00:15<00:57, 33.07it/s]"
          ]
        },
        {
          "output_type": "stream",
          "name": "stdout",
          "text": [
            "Step 400, Loss: 4.000832425091332, Elapsed Time: 2.96s\n"
          ]
        },
        {
          "output_type": "stream",
          "name": "stderr",
          "text": [
            " 22%|██▏       | 504/2298 [00:18<00:52, 33.93it/s]"
          ]
        },
        {
          "output_type": "stream",
          "name": "stdout",
          "text": [
            "Step 500, Loss: 4.006339287329577, Elapsed Time: 2.98s\n"
          ]
        },
        {
          "output_type": "stream",
          "name": "stderr",
          "text": [
            " 26%|██▌       | 603/2298 [00:21<01:05, 25.76it/s]"
          ]
        },
        {
          "output_type": "stream",
          "name": "stdout",
          "text": [
            "Step 600, Loss: 4.006545427436638, Elapsed Time: 3.17s\n"
          ]
        },
        {
          "output_type": "stream",
          "name": "stderr",
          "text": [
            " 31%|███       | 705/2298 [00:26<01:16, 20.74it/s]"
          ]
        },
        {
          "output_type": "stream",
          "name": "stdout",
          "text": [
            "Step 700, Loss: 4.003777496824931, Elapsed Time: 4.77s\n"
          ]
        },
        {
          "output_type": "stream",
          "name": "stderr",
          "text": [
            " 35%|███▌      | 807/2298 [00:30<00:43, 34.11it/s]"
          ]
        },
        {
          "output_type": "stream",
          "name": "stdout",
          "text": [
            "Step 800, Loss: 4.006893725579746, Elapsed Time: 4.23s\n"
          ]
        },
        {
          "output_type": "stream",
          "name": "stderr",
          "text": [
            " 39%|███▉      | 907/2298 [00:33<00:42, 32.72it/s]"
          ]
        },
        {
          "output_type": "stream",
          "name": "stdout",
          "text": [
            "Step 900, Loss: 4.006958200981826, Elapsed Time: 3.00s\n"
          ]
        },
        {
          "output_type": "stream",
          "name": "stderr",
          "text": [
            " 44%|████▍     | 1007/2298 [00:36<00:38, 33.87it/s]"
          ]
        },
        {
          "output_type": "stream",
          "name": "stdout",
          "text": [
            "Step 1000, Loss: 4.007816130583818, Elapsed Time: 3.00s\n"
          ]
        },
        {
          "output_type": "stream",
          "name": "stderr",
          "text": [
            " 48%|████▊     | 1103/2298 [00:39<00:42, 27.81it/s]"
          ]
        },
        {
          "output_type": "stream",
          "name": "stdout",
          "text": [
            "Step 1100, Loss: 4.008315102389246, Elapsed Time: 3.05s\n"
          ]
        },
        {
          "output_type": "stream",
          "name": "stderr",
          "text": [
            " 52%|█████▏    | 1204/2298 [00:44<00:55, 19.58it/s]"
          ]
        },
        {
          "output_type": "stream",
          "name": "stdout",
          "text": [
            "Step 1200, Loss: 4.008820096618627, Elapsed Time: 4.87s\n"
          ]
        },
        {
          "output_type": "stream",
          "name": "stderr",
          "text": [
            " 57%|█████▋    | 1307/2298 [00:48<00:28, 34.35it/s]"
          ]
        },
        {
          "output_type": "stream",
          "name": "stdout",
          "text": [
            "Step 1300, Loss: 4.008023537643867, Elapsed Time: 3.93s\n"
          ]
        },
        {
          "output_type": "stream",
          "name": "stderr",
          "text": [
            " 61%|██████    | 1407/2298 [00:51<00:26, 33.95it/s]"
          ]
        },
        {
          "output_type": "stream",
          "name": "stdout",
          "text": [
            "Step 1400, Loss: 4.008855889645072, Elapsed Time: 2.95s\n"
          ]
        },
        {
          "output_type": "stream",
          "name": "stderr",
          "text": [
            " 66%|██████▌   | 1507/2298 [00:54<00:23, 33.16it/s]"
          ]
        },
        {
          "output_type": "stream",
          "name": "stdout",
          "text": [
            "Step 1500, Loss: 4.009207938687949, Elapsed Time: 3.00s\n"
          ]
        },
        {
          "output_type": "stream",
          "name": "stderr",
          "text": [
            " 70%|██████▉   | 1606/2298 [00:57<00:29, 23.13it/s]"
          ]
        },
        {
          "output_type": "stream",
          "name": "stdout",
          "text": [
            "Step 1600, Loss: 4.008784990173664, Elapsed Time: 3.29s\n"
          ]
        },
        {
          "output_type": "stream",
          "name": "stderr",
          "text": [
            " 74%|███████▍  | 1705/2298 [01:02<00:29, 20.24it/s]"
          ]
        },
        {
          "output_type": "stream",
          "name": "stdout",
          "text": [
            "Step 1700, Loss: 4.008632017962026, Elapsed Time: 4.88s\n"
          ]
        },
        {
          "output_type": "stream",
          "name": "stderr",
          "text": [
            " 79%|███████▊  | 1804/2298 [01:06<00:15, 32.39it/s]"
          ]
        },
        {
          "output_type": "stream",
          "name": "stdout",
          "text": [
            "Step 1800, Loss: 4.007625143373098, Elapsed Time: 4.15s\n"
          ]
        },
        {
          "output_type": "stream",
          "name": "stderr",
          "text": [
            " 83%|████████▎ | 1904/2298 [01:09<00:12, 31.55it/s]"
          ]
        },
        {
          "output_type": "stream",
          "name": "stdout",
          "text": [
            "Step 1900, Loss: 4.006570998397017, Elapsed Time: 3.07s\n"
          ]
        },
        {
          "output_type": "stream",
          "name": "stderr",
          "text": [
            " 87%|████████▋ | 2004/2298 [01:12<00:09, 31.85it/s]"
          ]
        },
        {
          "output_type": "stream",
          "name": "stdout",
          "text": [
            "Step 2000, Loss: 4.0055120460752365, Elapsed Time: 3.08s\n"
          ]
        },
        {
          "output_type": "stream",
          "name": "stderr",
          "text": [
            " 92%|█████████▏| 2105/2298 [01:16<00:08, 23.41it/s]"
          ]
        },
        {
          "output_type": "stream",
          "name": "stdout",
          "text": [
            "Step 2100, Loss: 4.006049758419997, Elapsed Time: 3.19s\n"
          ]
        },
        {
          "output_type": "stream",
          "name": "stderr",
          "text": [
            " 96%|█████████▌| 2203/2298 [01:21<00:05, 18.46it/s]"
          ]
        },
        {
          "output_type": "stream",
          "name": "stdout",
          "text": [
            "Step 2200, Loss: 4.005665531054458, Elapsed Time: 4.89s\n"
          ]
        },
        {
          "output_type": "stream",
          "name": "stderr",
          "text": [
            "100%|██████████| 2298/2298 [01:25<00:00, 27.03it/s]"
          ]
        },
        {
          "output_type": "stream",
          "name": "stdout",
          "text": [
            "Epoch 2, Loss: 4.005854491465397\n"
          ]
        },
        {
          "output_type": "stream",
          "name": "stderr",
          "text": [
            "\n"
          ]
        }
      ]
    },
    {
      "cell_type": "code",
      "execution_count": null,
      "metadata": {
        "id": "mpxAOk89JT6Y",
        "colab": {
          "base_uri": "https://localhost:8080/"
        },
        "outputId": "41b63f0c-bddd-4e59-e8f7-d34087775118"
      },
      "outputs": [
        {
          "output_type": "stream",
          "name": "stdout",
          "text": [
            "                                            id  \\\n",
            "1085  b1585b611a9007d7b86851b6a5c9d32a47040aa8   \n",
            "2296  f7d9f33ac38ce839c81c7188d33c4e09ce11094e   \n",
            "208   da39f68c5d9a413e0759fc6bff8260f76ed1ac59   \n",
            "1178  84bdd724457a4c2161844fb4ff91fefa5465e9aa   \n",
            "282   b3a62e1415b13dfe0938e206d6353bc57dbd354a   \n",
            "\n",
            "                                                article  \\\n",
            "1085  It's truly squeaky bum time in the Premier Lea...   \n",
            "2296  Forget fetching sticks. This musically-minded ...   \n",
            "208   Martin 'Mad Dog' Allen returns with his latest...   \n",
            "1178  Jeremy Scott’s spring/summer 2015 collection f...   \n",
            "282   Joe beats Sachin to 2,000 . Joe Root became th...   \n",
            "\n",
            "                                             highlights  \n",
            "1085  Just nine points separates the bottom seven cl...  \n",
            "2296  Sadie the German Shepherd was filmed at home i...  \n",
            "208   Martin Allen believes it's a crucial time for ...  \n",
            "1178  Olivia Phillips, 30, rocked head-to-toe Moschi...  \n",
            "282   Ben Stokes' dad Gerard tweets his approval of ...  \n",
            "Length of test_dataset: 100\n"
          ]
        },
        {
          "output_type": "stream",
          "name": "stderr",
          "text": [
            "/usr/local/lib/python3.10/dist-packages/torch/utils/data/dataloader.py:558: UserWarning: This DataLoader will create 4 worker processes in total. Our suggested max number of worker in current system is 2, which is smaller than what this DataLoader is going to create. Please be aware that excessive worker creation might get DataLoader running slow or even freeze, lower the worker number to avoid potential slowness/freeze if necessary.\n",
            "  warnings.warn(_create_warning_msg(\n"
          ]
        },
        {
          "output_type": "stream",
          "name": "stdout",
          "text": [
            "{'article_input_ids': tensor([[  101,  2009,  1005,  1055,  5621, 29552,  2100, 26352,  2051,  1999,\n",
            "          1996,  4239,  2223,  9591,  2645,  2004,  2074,  3157,  2685, 18600,\n",
            "          1996,  3953,  2698,  2780,  1012,  2998, 21397,  5176,  2070,  1997,\n",
            "          1996, 10489,  1999,  1998,  2426,  1996,  3899,  2954,  2054,  2027,\n",
            "          2514,  2003,  3223,  2005,  2068,  2000,  4468,  1996,  4530,  2023,\n",
            "          2161,  1012,  3160,  1024,  1005,  2054,  2097,  2009,  2202,  2005,\n",
            "          2115,  2252,  2000,  2994,  1999,  1996,  4239,  2223,  1029,  1005,\n",
            "          3782, 15092,  1006,  1053, 18098,  1007,  1005,  2065,  2057,  2663,\n",
            "          2093,  2399,  1045,  2228,  2057,  2097,  2994,  2039,  1012,  2009,\n",
            "          2453,  2202,  2625,  1012,  1045,  1005,  1049,  2025,  3038,  2008,\n",
            "          1005,  1055,  1996, 15764,  3815,  1011,  2021,  2057,  2428,  2342,\n",
            "          2000,  2707,  3045,  1010,  3225,  2007,  2023,  5353,  1012,  2000,\n",
            "          2079,  2008,  1010,  2057,  2342,  2000, 10152,   102],\n",
            "        [  101,  5293, 18584,  2075, 12668,  1012,  2023, 21385,  1011, 13128,\n",
            "          3899,  2052,  2738,  2022,  2652,  3682, 14681,  2015,  1012, 21330,\n",
            "          1996,  2446, 11133,  2001,  6361,  2012,  2188,  1999,  7649,  1010,\n",
            "          2710,  1010, 11991,  2006,  2019,  3751,  5812,  2007,  2014,  4451,\n",
            "          1998,  3564,  2091,  2000,  2377,  2070, 13281,  1012,  8333,  3065,\n",
            "          2014, 20228,  2239,  6834,  2014,  2392, 24392,  2091,  2247,  1996,\n",
            "          9019,  1010,  2004,  2016,  7719,  2007,  2014,  2067,  3456, 10959,\n",
            "          2006,  1996,  3682, 14708,  1012,  2612,  1997,  4556,  2189,  1010,\n",
            "         21330,  3544,  2000, 28667,  4221,  1037, 10124,  2923,  3538,  2007,\n",
            "         13249,  2075,  3964,  1998,  2053,  2051,  8085,  1012,  2044,  1037,\n",
            "          9657,  2707,  1010,  1996, 26781,  3138,  1037,  8724,  1998,  3504,\n",
            "          2875,  1996,  4950,  1012,  1005,  2821,  1010,  2106,  2017,  2191,\n",
            "          1037,  6707,  1029,  1005,  2014,  3954,  2758,   102],\n",
            "        [  101,  3235,  1005,  5506,  3899,  1005,  5297,  5651,  2007,  2010,\n",
            "          6745,  5930,  2005,  2998, 21397,  1012,  1996, 26864,  3208,  7566,\n",
            "          2055,  2129,  2590,  2009,  2003,  2005,  1996,  3629,  2000,  3582,\n",
            "          2344,  2076,  2023, 10232,  2754,  1997,  1996,  2161,  1012,  2635,\n",
            "          1996, 20377, 28168,  1012,  2074,  1037,  2261,  2420,  3283,  2019,\n",
            "          2214,  2767,  1997,  3067,  5261,  5708,  1010,  1996, 16072,  2040,\n",
            "          2209,  2005,  4971,  9628,  1010,  6220,  1998,  9433,  2025,  1996,\n",
            "          2149,  2343,  1010,  4716, 26864,  1998,  2187,  2033,  1037,  3835,\n",
            "         14771,  1997,  6501,  7967, 27529,  1999,  2026,  2436,  1012,  2044,\n",
            "          2731,  1010,  2000,  2393,  2033,  2131,  9436,  1997,  2068,  1010,\n",
            "          1045,  2787,  2000,  2507,  2070,  2041,  2000,  2256,  2867,  1012,\n",
            "          1996,  2034,  2698,  2040,  2939,  2627,  2026,  2436,  2341,  2020,\n",
            "          2170,  1999,  2005,  1037,  2452,  1997, 18720,   102],\n",
            "        [  101,  7441,  3660,  1521,  1055,  3500,  1013,  2621,  2325,  3074,\n",
            "          2005,  9587, 11624,  5740,  3303,  2019, 16021,  2696,  1011, 29375,\n",
            "          1010,  3053,  4911,  1996,  4274,  2043,  2002,  2741,  2529, 22635,\n",
            "         14421,  2091,  1996,  4937, 17122,  1012,  1996,  5541,  2132,  1010,\n",
            "          2040,  2003, 15607,  2005,  2437, 18628,  2818,  4658,  1010,  2741,\n",
            "          2010,  4275,  2091,  1996,  9271,  1999,  6954,  1999, 22635, 10658,\n",
            "          4427, 14464,  2000,  1996,  2614,  1997, 28319,  1005,  1055, 14430,\n",
            "         17233,  2718,  1010,  1045,  1005,  1049,  1037, 22635,  2611,  1012,\n",
            "          2004,  1996,  7209, 21237,  1997, 12878,  1010,  2009,  3849,  2008,\n",
            "          2057,  2089,  2035,  2022,  4147,  4408,  5061,  5898,  2015,  1998,\n",
            "          3565,  2611,  2100, 14464,  2023,  2161,  1012,  2021,  2515,  1996,\n",
            "          2298,  2147,  1999,  2613,  2166,  1029,  1998,  2097,  2017, 18661,\n",
            "          3086,  2005,  1996,  2157,  4436,  1029, 12781,   102]]), 'article_attention_mask': tensor([[1, 1, 1, 1, 1, 1, 1, 1, 1, 1, 1, 1, 1, 1, 1, 1, 1, 1, 1, 1, 1, 1, 1, 1,\n",
            "         1, 1, 1, 1, 1, 1, 1, 1, 1, 1, 1, 1, 1, 1, 1, 1, 1, 1, 1, 1, 1, 1, 1, 1,\n",
            "         1, 1, 1, 1, 1, 1, 1, 1, 1, 1, 1, 1, 1, 1, 1, 1, 1, 1, 1, 1, 1, 1, 1, 1,\n",
            "         1, 1, 1, 1, 1, 1, 1, 1, 1, 1, 1, 1, 1, 1, 1, 1, 1, 1, 1, 1, 1, 1, 1, 1,\n",
            "         1, 1, 1, 1, 1, 1, 1, 1, 1, 1, 1, 1, 1, 1, 1, 1, 1, 1, 1, 1, 1, 1, 1, 1,\n",
            "         1, 1, 1, 1, 1, 1, 1, 1],\n",
            "        [1, 1, 1, 1, 1, 1, 1, 1, 1, 1, 1, 1, 1, 1, 1, 1, 1, 1, 1, 1, 1, 1, 1, 1,\n",
            "         1, 1, 1, 1, 1, 1, 1, 1, 1, 1, 1, 1, 1, 1, 1, 1, 1, 1, 1, 1, 1, 1, 1, 1,\n",
            "         1, 1, 1, 1, 1, 1, 1, 1, 1, 1, 1, 1, 1, 1, 1, 1, 1, 1, 1, 1, 1, 1, 1, 1,\n",
            "         1, 1, 1, 1, 1, 1, 1, 1, 1, 1, 1, 1, 1, 1, 1, 1, 1, 1, 1, 1, 1, 1, 1, 1,\n",
            "         1, 1, 1, 1, 1, 1, 1, 1, 1, 1, 1, 1, 1, 1, 1, 1, 1, 1, 1, 1, 1, 1, 1, 1,\n",
            "         1, 1, 1, 1, 1, 1, 1, 1],\n",
            "        [1, 1, 1, 1, 1, 1, 1, 1, 1, 1, 1, 1, 1, 1, 1, 1, 1, 1, 1, 1, 1, 1, 1, 1,\n",
            "         1, 1, 1, 1, 1, 1, 1, 1, 1, 1, 1, 1, 1, 1, 1, 1, 1, 1, 1, 1, 1, 1, 1, 1,\n",
            "         1, 1, 1, 1, 1, 1, 1, 1, 1, 1, 1, 1, 1, 1, 1, 1, 1, 1, 1, 1, 1, 1, 1, 1,\n",
            "         1, 1, 1, 1, 1, 1, 1, 1, 1, 1, 1, 1, 1, 1, 1, 1, 1, 1, 1, 1, 1, 1, 1, 1,\n",
            "         1, 1, 1, 1, 1, 1, 1, 1, 1, 1, 1, 1, 1, 1, 1, 1, 1, 1, 1, 1, 1, 1, 1, 1,\n",
            "         1, 1, 1, 1, 1, 1, 1, 1],\n",
            "        [1, 1, 1, 1, 1, 1, 1, 1, 1, 1, 1, 1, 1, 1, 1, 1, 1, 1, 1, 1, 1, 1, 1, 1,\n",
            "         1, 1, 1, 1, 1, 1, 1, 1, 1, 1, 1, 1, 1, 1, 1, 1, 1, 1, 1, 1, 1, 1, 1, 1,\n",
            "         1, 1, 1, 1, 1, 1, 1, 1, 1, 1, 1, 1, 1, 1, 1, 1, 1, 1, 1, 1, 1, 1, 1, 1,\n",
            "         1, 1, 1, 1, 1, 1, 1, 1, 1, 1, 1, 1, 1, 1, 1, 1, 1, 1, 1, 1, 1, 1, 1, 1,\n",
            "         1, 1, 1, 1, 1, 1, 1, 1, 1, 1, 1, 1, 1, 1, 1, 1, 1, 1, 1, 1, 1, 1, 1, 1,\n",
            "         1, 1, 1, 1, 1, 1, 1, 1]]), 'highlight_input_ids': tensor([[  101,  2074,  3157,  2685, 18600,  1996,  3953,  2698,  4184,  1999,\n",
            "          1996,  4239,  2223,  1012,  1053, 18098,  5795,  3782, 15092,  2758,\n",
            "          2027,  2342,  2093,  2062,  5222,  2000,  5788,  1012, 23028,  3677,\n",
            "          9591,  9169, 11258,  1999,  1996,  2223,  2006,  5095,  1012,   102,\n",
            "             0,     0,     0,     0,     0,     0,     0,     0,     0,     0,\n",
            "             0,     0,     0,     0,     0,     0,     0,     0,     0,     0,\n",
            "             0,     0,     0,     0,     0,     0,     0,     0,     0,     0,\n",
            "             0,     0,     0,     0,     0,     0,     0,     0,     0,     0,\n",
            "             0,     0,     0,     0,     0,     0,     0,     0,     0,     0,\n",
            "             0,     0,     0,     0,     0,     0,     0,     0,     0,     0,\n",
            "             0,     0,     0,     0,     0,     0,     0,     0,     0,     0,\n",
            "             0,     0,     0,     0,     0,     0,     0,     0,     0,     0,\n",
            "             0,     0,     0,     0,     0,     0,     0,     0],\n",
            "        [  101, 21330,  1996,  2446, 11133,  2001,  6361,  2012,  2188,  1999,\n",
            "          7649,  1010,  2710,  1010, 11991,  2006,  2019,  3751,  9019,  2007,\n",
            "          2014,  4451,  1998,  3564,  2091,  2000,  2377,  1012,  2612,  1997,\n",
            "          4556,  2189,  1010,  1996, 13433, 11663,  3544,  2000, 28667,  4221,\n",
            "          1037, 10124,  2923,  3538,  2007, 13249,  2075,  3964,  1998,  2053,\n",
            "          2051,  8085,  1012,  2044,  1037,  2322,  1011,  2117, 19187,  1010,\n",
            "          2016,  7288,  2016,  1005,  1055,  2018,  2438,  2005,  2028,  2154,\n",
            "          1998,  4332,  2105,  2000,  2202,  1037,  6812,  1012,   102,     0,\n",
            "             0,     0,     0,     0,     0,     0,     0,     0,     0,     0,\n",
            "             0,     0,     0,     0,     0,     0,     0,     0,     0,     0,\n",
            "             0,     0,     0,     0,     0,     0,     0,     0,     0,     0,\n",
            "             0,     0,     0,     0,     0,     0,     0,     0,     0,     0,\n",
            "             0,     0,     0,     0,     0,     0,     0,     0],\n",
            "        [  101,  3235,  5297,  7164,  2009,  1005,  1055,  1037, 10232,  2051,\n",
            "          2005,  3629,  2000,  3582,  4449,  1012,  2867,  2066,  2198,  6609,\n",
            "          5676,  2878,  4686,  2003,  4815,  1999,  2168,  3257,  1012, 23271,\n",
            "          1999,  2374,  2342,  2000,  2689,  1998,  2027,  2342,  2000,  2689,\n",
            "          2855,  1012,  6484,  5795, 21507, 20538,  4779,  2003,  5825,  2035,\n",
            "          1996,  2126,  2000,  1996,  2200,  2327,  1012,   102,     0,     0,\n",
            "             0,     0,     0,     0,     0,     0,     0,     0,     0,     0,\n",
            "             0,     0,     0,     0,     0,     0,     0,     0,     0,     0,\n",
            "             0,     0,     0,     0,     0,     0,     0,     0,     0,     0,\n",
            "             0,     0,     0,     0,     0,     0,     0,     0,     0,     0,\n",
            "             0,     0,     0,     0,     0,     0,     0,     0,     0,     0,\n",
            "             0,     0,     0,     0,     0,     0,     0,     0,     0,     0,\n",
            "             0,     0,     0,     0,     0,     0,     0,     0],\n",
            "        [  101,  7710,  8109,  1010,  2382,  1010, 14215,  2132,  1011,  2000,\n",
            "          1011, 11756,  9587, 11624,  5740,  1012,  2253,  2000,  1996, 17006,\n",
            "          1998,  2019,  2396,  2724,  1011,  1998,  2288,  7167,  1997,  3086,\n",
            "          1012,  2111,  3592,  1010,  3271,  2014,  2007,  2014,  6023,  1998,\n",
            "          2056,  2016,  2246,  2066,  1037,  9850,  1012,   102,     0,     0,\n",
            "             0,     0,     0,     0,     0,     0,     0,     0,     0,     0,\n",
            "             0,     0,     0,     0,     0,     0,     0,     0,     0,     0,\n",
            "             0,     0,     0,     0,     0,     0,     0,     0,     0,     0,\n",
            "             0,     0,     0,     0,     0,     0,     0,     0,     0,     0,\n",
            "             0,     0,     0,     0,     0,     0,     0,     0,     0,     0,\n",
            "             0,     0,     0,     0,     0,     0,     0,     0,     0,     0,\n",
            "             0,     0,     0,     0,     0,     0,     0,     0,     0,     0,\n",
            "             0,     0,     0,     0,     0,     0,     0,     0]]), 'highlight_attention_mask': tensor([[1, 1, 1, 1, 1, 1, 1, 1, 1, 1, 1, 1, 1, 1, 1, 1, 1, 1, 1, 1, 1, 1, 1, 1,\n",
            "         1, 1, 1, 1, 1, 1, 1, 1, 1, 1, 1, 1, 1, 1, 1, 1, 0, 0, 0, 0, 0, 0, 0, 0,\n",
            "         0, 0, 0, 0, 0, 0, 0, 0, 0, 0, 0, 0, 0, 0, 0, 0, 0, 0, 0, 0, 0, 0, 0, 0,\n",
            "         0, 0, 0, 0, 0, 0, 0, 0, 0, 0, 0, 0, 0, 0, 0, 0, 0, 0, 0, 0, 0, 0, 0, 0,\n",
            "         0, 0, 0, 0, 0, 0, 0, 0, 0, 0, 0, 0, 0, 0, 0, 0, 0, 0, 0, 0, 0, 0, 0, 0,\n",
            "         0, 0, 0, 0, 0, 0, 0, 0],\n",
            "        [1, 1, 1, 1, 1, 1, 1, 1, 1, 1, 1, 1, 1, 1, 1, 1, 1, 1, 1, 1, 1, 1, 1, 1,\n",
            "         1, 1, 1, 1, 1, 1, 1, 1, 1, 1, 1, 1, 1, 1, 1, 1, 1, 1, 1, 1, 1, 1, 1, 1,\n",
            "         1, 1, 1, 1, 1, 1, 1, 1, 1, 1, 1, 1, 1, 1, 1, 1, 1, 1, 1, 1, 1, 1, 1, 1,\n",
            "         1, 1, 1, 1, 1, 1, 1, 0, 0, 0, 0, 0, 0, 0, 0, 0, 0, 0, 0, 0, 0, 0, 0, 0,\n",
            "         0, 0, 0, 0, 0, 0, 0, 0, 0, 0, 0, 0, 0, 0, 0, 0, 0, 0, 0, 0, 0, 0, 0, 0,\n",
            "         0, 0, 0, 0, 0, 0, 0, 0],\n",
            "        [1, 1, 1, 1, 1, 1, 1, 1, 1, 1, 1, 1, 1, 1, 1, 1, 1, 1, 1, 1, 1, 1, 1, 1,\n",
            "         1, 1, 1, 1, 1, 1, 1, 1, 1, 1, 1, 1, 1, 1, 1, 1, 1, 1, 1, 1, 1, 1, 1, 1,\n",
            "         1, 1, 1, 1, 1, 1, 1, 1, 1, 1, 0, 0, 0, 0, 0, 0, 0, 0, 0, 0, 0, 0, 0, 0,\n",
            "         0, 0, 0, 0, 0, 0, 0, 0, 0, 0, 0, 0, 0, 0, 0, 0, 0, 0, 0, 0, 0, 0, 0, 0,\n",
            "         0, 0, 0, 0, 0, 0, 0, 0, 0, 0, 0, 0, 0, 0, 0, 0, 0, 0, 0, 0, 0, 0, 0, 0,\n",
            "         0, 0, 0, 0, 0, 0, 0, 0],\n",
            "        [1, 1, 1, 1, 1, 1, 1, 1, 1, 1, 1, 1, 1, 1, 1, 1, 1, 1, 1, 1, 1, 1, 1, 1,\n",
            "         1, 1, 1, 1, 1, 1, 1, 1, 1, 1, 1, 1, 1, 1, 1, 1, 1, 1, 1, 1, 1, 1, 1, 1,\n",
            "         0, 0, 0, 0, 0, 0, 0, 0, 0, 0, 0, 0, 0, 0, 0, 0, 0, 0, 0, 0, 0, 0, 0, 0,\n",
            "         0, 0, 0, 0, 0, 0, 0, 0, 0, 0, 0, 0, 0, 0, 0, 0, 0, 0, 0, 0, 0, 0, 0, 0,\n",
            "         0, 0, 0, 0, 0, 0, 0, 0, 0, 0, 0, 0, 0, 0, 0, 0, 0, 0, 0, 0, 0, 0, 0, 0,\n",
            "         0, 0, 0, 0, 0, 0, 0, 0]]), 'highlight': ['Just nine points separates the bottom seven clubs in the Premier League .\\nQPR boss Chris Ramsey says they need three more wins to survive .\\nBurnley host\\xa0relegation\\xa0rivals Leicester in the league on Saturday .', \"Sadie the German Shepherd was filmed at home in Alberta, Canada, switching on an electric keyboard with her nose and sitting down to play .\\nInstead of classical music, the pooch appears to recite a minimalist piece with clashing notes and no time signature .\\nAfter a 20-second rendition, she decides she's had enough for one day and turns around to take a bow .\", \"Martin Allen\\xa0believes\\xa0it's a crucial time for troops to follow orders .\\nPlayers like John Terry ensure whole squad is pulling in same direction .\\nPerceptions in football need to change and they need to change quickly .\\nBirmingham boss Garry Rowett is heading all the way to the very top .\", 'Olivia Phillips, 30, rocked head-to-toe Moschino .\\nWent to the supermarket and an art event - and got lots of attention .\\nPeople stared, helped her with her shopping and said she looked like a cake .']}\n"
          ]
        },
        {
          "output_type": "stream",
          "name": "stderr",
          "text": [
            "Validating: 100%|██████████| 25/25 [00:01<00:00, 18.49it/s]"
          ]
        },
        {
          "output_type": "stream",
          "name": "stdout",
          "text": [
            "ROUGE scores on test data: {'rouge1': 0.3967823638710646, 'rouge2': 0.1852990763553967, 'rougeL': 0.2550684468159702}\n",
            "Average Cosine Similarity on test data: 0.4350149495899677\n"
          ]
        },
        {
          "output_type": "stream",
          "name": "stderr",
          "text": [
            "\n"
          ]
        }
      ],
      "source": [
        "import os\n",
        "import torch\n",
        "import pandas as pd\n",
        "from transformers import AutoTokenizer, AutoModel\n",
        "from torch.utils.data import Dataset, DataLoader\n",
        "from tqdm import tqdm\n",
        "from sklearn.metrics.pairwise import cosine_similarity\n",
        "from rouge_score import rouge_scorer\n",
        "\n",
        "MODEL_NAME = 'sentence-transformers/paraphrase-MiniLM-L3-v2'\n",
        "\n",
        "class CustomTextDataset(Dataset):\n",
        "    def __init__(self, dataframe, tokenizer, max_length):\n",
        "        self.data = dataframe.reset_index(drop=True)  # Reset indices\n",
        "        self.articles = self.data['article']\n",
        "        self.highlights = self.data['highlights']\n",
        "        self.tokenizer = tokenizer\n",
        "        self.max_length = max_length\n",
        "\n",
        "    def __len__(self):\n",
        "        return len(self.data)\n",
        "\n",
        "    def __getitem__(self, idx):\n",
        "        article = str(self.articles[idx])\n",
        "        highlight = str(self.highlights[idx])\n",
        "\n",
        "        article_encoding = self.tokenizer.encode_plus(\n",
        "            article,\n",
        "            add_special_tokens=True,\n",
        "            max_length=self.max_length,\n",
        "            padding='max_length',\n",
        "            truncation=True,\n",
        "            return_tensors='pt'\n",
        "        )\n",
        "\n",
        "        highlight_encoding = self.tokenizer.encode_plus(\n",
        "            highlight,\n",
        "            add_special_tokens=True,\n",
        "            max_length=self.max_length,\n",
        "            padding='max_length',\n",
        "            truncation=True,\n",
        "            return_tensors='pt'\n",
        "        )\n",
        "\n",
        "        article_input_ids = article_encoding['input_ids'].flatten()\n",
        "        article_attention_mask = article_encoding['attention_mask'].flatten()\n",
        "        highlight_input_ids = highlight_encoding['input_ids'].flatten()\n",
        "        highlight_attention_mask = highlight_encoding['attention_mask'].flatten()\n",
        "\n",
        "        return {\n",
        "            'article_input_ids': article_input_ids,\n",
        "            'article_attention_mask': article_attention_mask,\n",
        "            'highlight_input_ids': highlight_input_ids,\n",
        "            'highlight_attention_mask': highlight_attention_mask,\n",
        "            'highlight': highlight  # Keep original highlight for evaluation\n",
        "        }\n",
        "\n",
        "def validate_model(model, dataloader, tokenizer, device):\n",
        "    model.eval()\n",
        "    scorer = rouge_scorer.RougeScorer(['rouge1', 'rouge2', 'rougeL'], use_stemmer=True)\n",
        "    all_scores = {'rouge1': [], 'rouge2': [], 'rougeL': []}\n",
        "    cosine_similarities = []\n",
        "\n",
        "    with torch.no_grad():\n",
        "        for batch in tqdm(dataloader, desc=\"Validating\"):\n",
        "            article_input_ids = batch['article_input_ids'].to(device)\n",
        "            article_attention_mask = batch['article_attention_mask'].to(device)\n",
        "            highlight_input_ids = batch['highlight_input_ids'].to(device)\n",
        "            highlight_attention_mask = batch['highlight_attention_mask'].to(device)\n",
        "            highlights = batch['highlight']\n",
        "\n",
        "            # Get the embeddings for articles and highlights\n",
        "            article_embeddings = model(input_ids=article_input_ids, attention_mask=article_attention_mask).last_hidden_state.mean(dim=1)\n",
        "            highlight_embeddings = model(input_ids=highlight_input_ids, attention_mask=highlight_attention_mask).last_hidden_state.mean(dim=1)\n",
        "\n",
        "            # Compute cosine similarity\n",
        "            for article_emb, highlight_emb in zip(article_embeddings, highlight_embeddings):\n",
        "                cos_sim = cosine_similarity(article_emb.cpu().numpy().reshape(1, -1), highlight_emb.cpu().numpy().reshape(1, -1))[0][0]\n",
        "                cosine_similarities.append(cos_sim)\n",
        "\n",
        "            # Decode the articles and highlights\n",
        "            articles = [tokenizer.decode(ids, skip_special_tokens=True) for ids in article_input_ids]\n",
        "            reference_summaries = [highlight for highlight in highlights]\n",
        "\n",
        "            for article, ref_sum in zip(articles, reference_summaries):\n",
        "                scores = scorer.score(ref_sum, article)\n",
        "                for key in scores:\n",
        "                    all_scores[key].append(scores[key].fmeasure)\n",
        "\n",
        "    # Calculate average ROUGE scores\n",
        "    avg_rouge_scores = {key: sum(scores) / len(scores) for key, scores in all_scores.items()}\n",
        "    avg_cosine_similarity = sum(cosine_similarities) / len(cosine_similarities)\n",
        "\n",
        "    return avg_rouge_scores, avg_cosine_similarity\n",
        "\n",
        "# Load your test dataset\n",
        "test_df = pd.read_csv(\"/content/output.csv.txttest_bdf.csv\")\n",
        "\n",
        "# Initialize the tokenizer\n",
        "tokenizer = AutoTokenizer.from_pretrained(MODEL_NAME)\n",
        "\n",
        "# Use a smaller subset for quick testing\n",
        "test_subset_df = test_df.sample(n=100, random_state=42)\n",
        "\n",
        "# Debugging: Print the first few rows of the subset\n",
        "print(test_subset_df.head())\n",
        "\n",
        "# Initialize your dataset\n",
        "test_dataset = CustomTextDataset(test_subset_df, tokenizer, max_length=128)  # Reduced lengths\n",
        "\n",
        "# Debugging: Check the length of the dataset\n",
        "print(\"Length of test_dataset:\", len(test_dataset))\n",
        "\n",
        "# Create DataLoader for the test dataset\n",
        "testing_loader = DataLoader(test_dataset, batch_size=4, shuffle=False, num_workers=4)  # Adjusted parameters\n",
        "\n",
        "# Debugging: Check the first batch\n",
        "for batch in testing_loader:\n",
        "    print(batch)\n",
        "    break\n",
        "\n",
        "# Load pre-trained model\n",
        "model = AutoModel.from_pretrained(MODEL_NAME)\n",
        "device = torch.device('cuda' if torch.cuda.is_available() else 'cpu')\n",
        "model.to(device)\n",
        "\n",
        "# Validate the model using the testing_loader\n",
        "rouge_scores, avg_cosine_similarity = validate_model(model, testing_loader, tokenizer, device)\n",
        "print(\"ROUGE scores on test data:\", rouge_scores)\n",
        "print(\"Average Cosine Similarity on test data:\", avg_cosine_similarity)\n"
      ]
    },
    {
      "cell_type": "code",
      "source": [
        "import torch\n",
        "import torch.nn as nn\n",
        "from transformers import AutoTokenizer, AutoModelForSeq2SeqLM, AutoModel\n",
        "\n",
        "model = AutoModel.from_pretrained(\"sentence-transformers/paraphrase-MiniLM-L3-v2\")\n",
        "\n",
        "# Define training function (example)\n",
        "def train_model(model, train_loader):\n",
        "    # Training loop here\n",
        "    pass\n",
        "\n",
        "# Train your model (example)\n",
        "# train_model(model, train_loader)\n",
        "\n",
        "# Save the model\n",
        "model_save_path = \"/content/minilm_bal_exsum.pth\"\n",
        "torch.save(model.state_dict(), model_save_path)\n"
      ],
      "metadata": {
        "id": "ndFQsCbtZedQ",
        "colab": {
          "base_uri": "https://localhost:8080/",
          "height": 205,
          "referenced_widgets": [
            "cb31008c99c74c59988a4ebb136b10fa",
            "e4f157e77bb443309061550e8923a2ef",
            "34b054bb4b6a4254870b498e97871229",
            "08277663c8164f2db750ac0574ea5c29",
            "4e7acd952d004ed98387519d985ac82b",
            "cf706011174242d7aa702bb9282f5d0b",
            "32e08d513b51494ab1e0f55f620f2ed1",
            "a9891223c01d4851a88d74fda1e502f0",
            "924f868f34974c31ab20f9a5dff36339",
            "75b028e576304d45be63de7119b4d6c0",
            "61297b8a7d294f119316dd78a4e6175d",
            "9eb56ca0eece4cb0bb230d56e6eb6852",
            "1b58a584b2694c528c1370245a793922",
            "4a828d81c8684cfa8fdfdd487c69c1e2",
            "2407577e4d38441190b5a2c900e541c6",
            "74f0d2eaad4b45eaa36f8ad6a195e71d",
            "093de01a24b7436cb30d549193e7a404",
            "39c9a6607d564793a0f91466093ba26e",
            "75be2fa29a79404eb009e52b5d5aecd0",
            "adccd6c4c56d40bcab4171b69cade43b",
            "a53de96f214347d2a1693c5ceffbb2a1",
            "82a6030532ea497ca7404c192fdb1f75"
          ]
        },
        "outputId": "333450db-f03d-42dd-b7ab-6e9a5f23df5c"
      },
      "execution_count": 1,
      "outputs": [
        {
          "output_type": "stream",
          "name": "stderr",
          "text": [
            "/usr/local/lib/python3.10/dist-packages/huggingface_hub/utils/_token.py:89: UserWarning: \n",
            "The secret `HF_TOKEN` does not exist in your Colab secrets.\n",
            "To authenticate with the Hugging Face Hub, create a token in your settings tab (https://huggingface.co/settings/tokens), set it as secret in your Google Colab and restart your session.\n",
            "You will be able to reuse this secret in all of your notebooks.\n",
            "Please note that authentication is recommended but still optional to access public models or datasets.\n",
            "  warnings.warn(\n"
          ]
        },
        {
          "output_type": "display_data",
          "data": {
            "text/plain": [
              "config.json:   0%|          | 0.00/629 [00:00<?, ?B/s]"
            ],
            "application/vnd.jupyter.widget-view+json": {
              "version_major": 2,
              "version_minor": 0,
              "model_id": "cb31008c99c74c59988a4ebb136b10fa"
            }
          },
          "metadata": {}
        },
        {
          "output_type": "display_data",
          "data": {
            "text/plain": [
              "model.safetensors:   0%|          | 0.00/69.6M [00:00<?, ?B/s]"
            ],
            "application/vnd.jupyter.widget-view+json": {
              "version_major": 2,
              "version_minor": 0,
              "model_id": "9eb56ca0eece4cb0bb230d56e6eb6852"
            }
          },
          "metadata": {}
        }
      ]
    },
    {
      "cell_type": "code",
      "source": [
        "! pip install streamlit transformers torch newspaper3k sumy\n",
        "\n"
      ],
      "metadata": {
        "colab": {
          "base_uri": "https://localhost:8080/"
        },
        "id": "gxBP_tq9dhlS",
        "outputId": "c9d8bee4-756d-4886-f29c-a6adf0ceb0a2"
      },
      "execution_count": 2,
      "outputs": [
        {
          "output_type": "stream",
          "name": "stdout",
          "text": [
            "Collecting streamlit\n",
            "  Downloading streamlit-1.36.0-py2.py3-none-any.whl (8.6 MB)\n",
            "\u001b[2K     \u001b[90m━━━━━━━━━━━━━━━━━━━━━━━━━━━━━━━━━━━━━━━━\u001b[0m \u001b[32m8.6/8.6 MB\u001b[0m \u001b[31m43.5 MB/s\u001b[0m eta \u001b[36m0:00:00\u001b[0m\n",
            "\u001b[?25hRequirement already satisfied: transformers in /usr/local/lib/python3.10/dist-packages (4.41.2)\n",
            "Requirement already satisfied: torch in /usr/local/lib/python3.10/dist-packages (2.3.0+cu121)\n",
            "Collecting newspaper3k\n",
            "  Downloading newspaper3k-0.2.8-py3-none-any.whl (211 kB)\n",
            "\u001b[2K     \u001b[90m━━━━━━━━━━━━━━━━━━━━━━━━━━━━━━━━━━━━━━━━\u001b[0m \u001b[32m211.1/211.1 kB\u001b[0m \u001b[31m23.0 MB/s\u001b[0m eta \u001b[36m0:00:00\u001b[0m\n",
            "\u001b[?25hCollecting sumy\n",
            "  Downloading sumy-0.11.0-py2.py3-none-any.whl (97 kB)\n",
            "\u001b[2K     \u001b[90m━━━━━━━━━━━━━━━━━━━━━━━━━━━━━━━━━━━━━━━━\u001b[0m \u001b[32m97.3/97.3 kB\u001b[0m \u001b[31m17.4 MB/s\u001b[0m eta \u001b[36m0:00:00\u001b[0m\n",
            "\u001b[?25hRequirement already satisfied: altair<6,>=4.0 in /usr/local/lib/python3.10/dist-packages (from streamlit) (4.2.2)\n",
            "Requirement already satisfied: blinker<2,>=1.0.0 in /usr/lib/python3/dist-packages (from streamlit) (1.4)\n",
            "Requirement already satisfied: cachetools<6,>=4.0 in /usr/local/lib/python3.10/dist-packages (from streamlit) (5.3.3)\n",
            "Requirement already satisfied: click<9,>=7.0 in /usr/local/lib/python3.10/dist-packages (from streamlit) (8.1.7)\n",
            "Requirement already satisfied: numpy<3,>=1.20 in /usr/local/lib/python3.10/dist-packages (from streamlit) (1.25.2)\n",
            "Requirement already satisfied: packaging<25,>=20 in /usr/local/lib/python3.10/dist-packages (from streamlit) (24.1)\n",
            "Requirement already satisfied: pandas<3,>=1.3.0 in /usr/local/lib/python3.10/dist-packages (from streamlit) (2.0.3)\n",
            "Requirement already satisfied: pillow<11,>=7.1.0 in /usr/local/lib/python3.10/dist-packages (from streamlit) (9.4.0)\n",
            "Requirement already satisfied: protobuf<6,>=3.20 in /usr/local/lib/python3.10/dist-packages (from streamlit) (3.20.3)\n",
            "Requirement already satisfied: pyarrow>=7.0 in /usr/local/lib/python3.10/dist-packages (from streamlit) (14.0.2)\n",
            "Requirement already satisfied: requests<3,>=2.27 in /usr/local/lib/python3.10/dist-packages (from streamlit) (2.31.0)\n",
            "Requirement already satisfied: rich<14,>=10.14.0 in /usr/local/lib/python3.10/dist-packages (from streamlit) (13.7.1)\n",
            "Requirement already satisfied: tenacity<9,>=8.1.0 in /usr/local/lib/python3.10/dist-packages (from streamlit) (8.4.1)\n",
            "Requirement already satisfied: toml<2,>=0.10.1 in /usr/local/lib/python3.10/dist-packages (from streamlit) (0.10.2)\n",
            "Requirement already satisfied: typing-extensions<5,>=4.3.0 in /usr/local/lib/python3.10/dist-packages (from streamlit) (4.12.2)\n",
            "Collecting gitpython!=3.1.19,<4,>=3.0.7 (from streamlit)\n",
            "  Downloading GitPython-3.1.43-py3-none-any.whl (207 kB)\n",
            "\u001b[2K     \u001b[90m━━━━━━━━━━━━━━━━━━━━━━━━━━━━━━━━━━━━━━━━\u001b[0m \u001b[32m207.3/207.3 kB\u001b[0m \u001b[31m27.1 MB/s\u001b[0m eta \u001b[36m0:00:00\u001b[0m\n",
            "\u001b[?25hCollecting pydeck<1,>=0.8.0b4 (from streamlit)\n",
            "  Downloading pydeck-0.9.1-py2.py3-none-any.whl (6.9 MB)\n",
            "\u001b[2K     \u001b[90m━━━━━━━━━━━━━━━━━━━━━━━━━━━━━━━━━━━━━━━━\u001b[0m \u001b[32m6.9/6.9 MB\u001b[0m \u001b[31m86.3 MB/s\u001b[0m eta \u001b[36m0:00:00\u001b[0m\n",
            "\u001b[?25hRequirement already satisfied: tornado<7,>=6.0.3 in /usr/local/lib/python3.10/dist-packages (from streamlit) (6.3.3)\n",
            "Collecting watchdog<5,>=2.1.5 (from streamlit)\n",
            "  Downloading watchdog-4.0.1-py3-none-manylinux2014_x86_64.whl (83 kB)\n",
            "\u001b[2K     \u001b[90m━━━━━━━━━━━━━━━━━━━━━━━━━━━━━━━━━━━━━━━━\u001b[0m \u001b[32m83.0/83.0 kB\u001b[0m \u001b[31m11.5 MB/s\u001b[0m eta \u001b[36m0:00:00\u001b[0m\n",
            "\u001b[?25hRequirement already satisfied: filelock in /usr/local/lib/python3.10/dist-packages (from transformers) (3.15.3)\n",
            "Requirement already satisfied: huggingface-hub<1.0,>=0.23.0 in /usr/local/lib/python3.10/dist-packages (from transformers) (0.23.4)\n",
            "Requirement already satisfied: pyyaml>=5.1 in /usr/local/lib/python3.10/dist-packages (from transformers) (6.0.1)\n",
            "Requirement already satisfied: regex!=2019.12.17 in /usr/local/lib/python3.10/dist-packages (from transformers) (2024.5.15)\n",
            "Requirement already satisfied: tokenizers<0.20,>=0.19 in /usr/local/lib/python3.10/dist-packages (from transformers) (0.19.1)\n",
            "Requirement already satisfied: safetensors>=0.4.1 in /usr/local/lib/python3.10/dist-packages (from transformers) (0.4.3)\n",
            "Requirement already satisfied: tqdm>=4.27 in /usr/local/lib/python3.10/dist-packages (from transformers) (4.66.4)\n",
            "Requirement already satisfied: sympy in /usr/local/lib/python3.10/dist-packages (from torch) (1.12.1)\n",
            "Requirement already satisfied: networkx in /usr/local/lib/python3.10/dist-packages (from torch) (3.3)\n",
            "Requirement already satisfied: jinja2 in /usr/local/lib/python3.10/dist-packages (from torch) (3.1.4)\n",
            "Requirement already satisfied: fsspec in /usr/local/lib/python3.10/dist-packages (from torch) (2023.6.0)\n",
            "Collecting nvidia-cuda-nvrtc-cu12==12.1.105 (from torch)\n",
            "  Using cached nvidia_cuda_nvrtc_cu12-12.1.105-py3-none-manylinux1_x86_64.whl (23.7 MB)\n",
            "Collecting nvidia-cuda-runtime-cu12==12.1.105 (from torch)\n",
            "  Using cached nvidia_cuda_runtime_cu12-12.1.105-py3-none-manylinux1_x86_64.whl (823 kB)\n",
            "Collecting nvidia-cuda-cupti-cu12==12.1.105 (from torch)\n",
            "  Using cached nvidia_cuda_cupti_cu12-12.1.105-py3-none-manylinux1_x86_64.whl (14.1 MB)\n",
            "Collecting nvidia-cudnn-cu12==8.9.2.26 (from torch)\n",
            "  Using cached nvidia_cudnn_cu12-8.9.2.26-py3-none-manylinux1_x86_64.whl (731.7 MB)\n",
            "Collecting nvidia-cublas-cu12==12.1.3.1 (from torch)\n",
            "  Using cached nvidia_cublas_cu12-12.1.3.1-py3-none-manylinux1_x86_64.whl (410.6 MB)\n",
            "Collecting nvidia-cufft-cu12==11.0.2.54 (from torch)\n",
            "  Using cached nvidia_cufft_cu12-11.0.2.54-py3-none-manylinux1_x86_64.whl (121.6 MB)\n",
            "Collecting nvidia-curand-cu12==10.3.2.106 (from torch)\n",
            "  Using cached nvidia_curand_cu12-10.3.2.106-py3-none-manylinux1_x86_64.whl (56.5 MB)\n",
            "Collecting nvidia-cusolver-cu12==11.4.5.107 (from torch)\n",
            "  Using cached nvidia_cusolver_cu12-11.4.5.107-py3-none-manylinux1_x86_64.whl (124.2 MB)\n",
            "Collecting nvidia-cusparse-cu12==12.1.0.106 (from torch)\n",
            "  Using cached nvidia_cusparse_cu12-12.1.0.106-py3-none-manylinux1_x86_64.whl (196.0 MB)\n",
            "Collecting nvidia-nccl-cu12==2.20.5 (from torch)\n",
            "  Using cached nvidia_nccl_cu12-2.20.5-py3-none-manylinux2014_x86_64.whl (176.2 MB)\n",
            "Collecting nvidia-nvtx-cu12==12.1.105 (from torch)\n",
            "  Using cached nvidia_nvtx_cu12-12.1.105-py3-none-manylinux1_x86_64.whl (99 kB)\n",
            "Requirement already satisfied: triton==2.3.0 in /usr/local/lib/python3.10/dist-packages (from torch) (2.3.0)\n",
            "Collecting nvidia-nvjitlink-cu12 (from nvidia-cusolver-cu12==11.4.5.107->torch)\n",
            "  Downloading nvidia_nvjitlink_cu12-12.5.40-py3-none-manylinux2014_x86_64.whl (21.3 MB)\n",
            "\u001b[2K     \u001b[90m━━━━━━━━━━━━━━━━━━━━━━━━━━━━━━━━━━━━━━━━\u001b[0m \u001b[32m21.3/21.3 MB\u001b[0m \u001b[31m48.0 MB/s\u001b[0m eta \u001b[36m0:00:00\u001b[0m\n",
            "\u001b[?25hRequirement already satisfied: beautifulsoup4>=4.4.1 in /usr/local/lib/python3.10/dist-packages (from newspaper3k) (4.12.3)\n",
            "Collecting cssselect>=0.9.2 (from newspaper3k)\n",
            "  Downloading cssselect-1.2.0-py2.py3-none-any.whl (18 kB)\n",
            "Requirement already satisfied: lxml>=3.6.0 in /usr/local/lib/python3.10/dist-packages (from newspaper3k) (4.9.4)\n",
            "Requirement already satisfied: nltk>=3.2.1 in /usr/local/lib/python3.10/dist-packages (from newspaper3k) (3.8.1)\n",
            "Collecting feedparser>=5.2.1 (from newspaper3k)\n",
            "  Downloading feedparser-6.0.11-py3-none-any.whl (81 kB)\n",
            "\u001b[2K     \u001b[90m━━━━━━━━━━━━━━━━━━━━━━━━━━━━━━━━━━━━━━━━\u001b[0m \u001b[32m81.3/81.3 kB\u001b[0m \u001b[31m12.4 MB/s\u001b[0m eta \u001b[36m0:00:00\u001b[0m\n",
            "\u001b[?25hCollecting tldextract>=2.0.1 (from newspaper3k)\n",
            "  Downloading tldextract-5.1.2-py3-none-any.whl (97 kB)\n",
            "\u001b[2K     \u001b[90m━━━━━━━━━━━━━━━━━━━━━━━━━━━━━━━━━━━━━━━━\u001b[0m \u001b[32m97.6/97.6 kB\u001b[0m \u001b[31m13.9 MB/s\u001b[0m eta \u001b[36m0:00:00\u001b[0m\n",
            "\u001b[?25hCollecting feedfinder2>=0.0.4 (from newspaper3k)\n",
            "  Downloading feedfinder2-0.0.4.tar.gz (3.3 kB)\n",
            "  Preparing metadata (setup.py) ... \u001b[?25l\u001b[?25hdone\n",
            "Collecting jieba3k>=0.35.1 (from newspaper3k)\n",
            "  Downloading jieba3k-0.35.1.zip (7.4 MB)\n",
            "\u001b[2K     \u001b[90m━━━━━━━━━━━━━━━━━━━━━━━━━━━━━━━━━━━━━━━━\u001b[0m \u001b[32m7.4/7.4 MB\u001b[0m \u001b[31m102.5 MB/s\u001b[0m eta \u001b[36m0:00:00\u001b[0m\n",
            "\u001b[?25h  Preparing metadata (setup.py) ... \u001b[?25l\u001b[?25hdone\n",
            "Requirement already satisfied: python-dateutil>=2.5.3 in /usr/local/lib/python3.10/dist-packages (from newspaper3k) (2.8.2)\n",
            "Collecting tinysegmenter==0.3 (from newspaper3k)\n",
            "  Downloading tinysegmenter-0.3.tar.gz (16 kB)\n",
            "  Preparing metadata (setup.py) ... \u001b[?25l\u001b[?25hdone\n",
            "Collecting docopt<0.7,>=0.6.1 (from sumy)\n",
            "  Downloading docopt-0.6.2.tar.gz (25 kB)\n",
            "  Preparing metadata (setup.py) ... \u001b[?25l\u001b[?25hdone\n",
            "Collecting breadability>=0.1.20 (from sumy)\n",
            "  Downloading breadability-0.1.20.tar.gz (32 kB)\n",
            "  Preparing metadata (setup.py) ... \u001b[?25l\u001b[?25hdone\n",
            "Collecting pycountry>=18.2.23 (from sumy)\n",
            "  Downloading pycountry-24.6.1-py3-none-any.whl (6.3 MB)\n",
            "\u001b[2K     \u001b[90m━━━━━━━━━━━━━━━━━━━━━━━━━━━━━━━━━━━━━━━━\u001b[0m \u001b[32m6.3/6.3 MB\u001b[0m \u001b[31m109.2 MB/s\u001b[0m eta \u001b[36m0:00:00\u001b[0m\n",
            "\u001b[?25hRequirement already satisfied: entrypoints in /usr/local/lib/python3.10/dist-packages (from altair<6,>=4.0->streamlit) (0.4)\n",
            "Requirement already satisfied: jsonschema>=3.0 in /usr/local/lib/python3.10/dist-packages (from altair<6,>=4.0->streamlit) (4.19.2)\n",
            "Requirement already satisfied: toolz in /usr/local/lib/python3.10/dist-packages (from altair<6,>=4.0->streamlit) (0.12.1)\n",
            "Requirement already satisfied: soupsieve>1.2 in /usr/local/lib/python3.10/dist-packages (from beautifulsoup4>=4.4.1->newspaper3k) (2.5)\n",
            "Requirement already satisfied: chardet in /usr/local/lib/python3.10/dist-packages (from breadability>=0.1.20->sumy) (5.2.0)\n",
            "Requirement already satisfied: six in /usr/local/lib/python3.10/dist-packages (from feedfinder2>=0.0.4->newspaper3k) (1.16.0)\n",
            "Collecting sgmllib3k (from feedparser>=5.2.1->newspaper3k)\n",
            "  Downloading sgmllib3k-1.0.0.tar.gz (5.8 kB)\n",
            "  Preparing metadata (setup.py) ... \u001b[?25l\u001b[?25hdone\n",
            "Collecting gitdb<5,>=4.0.1 (from gitpython!=3.1.19,<4,>=3.0.7->streamlit)\n",
            "  Downloading gitdb-4.0.11-py3-none-any.whl (62 kB)\n",
            "\u001b[2K     \u001b[90m━━━━━━━━━━━━━━━━━━━━━━━━━━━━━━━━━━━━━━━━\u001b[0m \u001b[32m62.7/62.7 kB\u001b[0m \u001b[31m5.5 MB/s\u001b[0m eta \u001b[36m0:00:00\u001b[0m\n",
            "\u001b[?25hRequirement already satisfied: joblib in /usr/local/lib/python3.10/dist-packages (from nltk>=3.2.1->newspaper3k) (1.4.2)\n",
            "Requirement already satisfied: pytz>=2020.1 in /usr/local/lib/python3.10/dist-packages (from pandas<3,>=1.3.0->streamlit) (2023.4)\n",
            "Requirement already satisfied: tzdata>=2022.1 in /usr/local/lib/python3.10/dist-packages (from pandas<3,>=1.3.0->streamlit) (2024.1)\n",
            "Requirement already satisfied: MarkupSafe>=2.0 in /usr/local/lib/python3.10/dist-packages (from jinja2->torch) (2.1.5)\n",
            "Requirement already satisfied: charset-normalizer<4,>=2 in /usr/local/lib/python3.10/dist-packages (from requests<3,>=2.27->streamlit) (3.3.2)\n",
            "Requirement already satisfied: idna<4,>=2.5 in /usr/local/lib/python3.10/dist-packages (from requests<3,>=2.27->streamlit) (3.7)\n",
            "Requirement already satisfied: urllib3<3,>=1.21.1 in /usr/local/lib/python3.10/dist-packages (from requests<3,>=2.27->streamlit) (2.0.7)\n",
            "Requirement already satisfied: certifi>=2017.4.17 in /usr/local/lib/python3.10/dist-packages (from requests<3,>=2.27->streamlit) (2024.6.2)\n",
            "Requirement already satisfied: markdown-it-py>=2.2.0 in /usr/local/lib/python3.10/dist-packages (from rich<14,>=10.14.0->streamlit) (3.0.0)\n",
            "Requirement already satisfied: pygments<3.0.0,>=2.13.0 in /usr/local/lib/python3.10/dist-packages (from rich<14,>=10.14.0->streamlit) (2.16.1)\n",
            "Collecting requests-file>=1.4 (from tldextract>=2.0.1->newspaper3k)\n",
            "  Downloading requests_file-2.1.0-py2.py3-none-any.whl (4.2 kB)\n",
            "Requirement already satisfied: mpmath<1.4.0,>=1.1.0 in /usr/local/lib/python3.10/dist-packages (from sympy->torch) (1.3.0)\n",
            "Collecting smmap<6,>=3.0.1 (from gitdb<5,>=4.0.1->gitpython!=3.1.19,<4,>=3.0.7->streamlit)\n",
            "  Downloading smmap-5.0.1-py3-none-any.whl (24 kB)\n",
            "Requirement already satisfied: attrs>=22.2.0 in /usr/local/lib/python3.10/dist-packages (from jsonschema>=3.0->altair<6,>=4.0->streamlit) (23.2.0)\n",
            "Requirement already satisfied: jsonschema-specifications>=2023.03.6 in /usr/local/lib/python3.10/dist-packages (from jsonschema>=3.0->altair<6,>=4.0->streamlit) (2023.12.1)\n",
            "Requirement already satisfied: referencing>=0.28.4 in /usr/local/lib/python3.10/dist-packages (from jsonschema>=3.0->altair<6,>=4.0->streamlit) (0.35.1)\n",
            "Requirement already satisfied: rpds-py>=0.7.1 in /usr/local/lib/python3.10/dist-packages (from jsonschema>=3.0->altair<6,>=4.0->streamlit) (0.18.1)\n",
            "Requirement already satisfied: mdurl~=0.1 in /usr/local/lib/python3.10/dist-packages (from markdown-it-py>=2.2.0->rich<14,>=10.14.0->streamlit) (0.1.2)\n",
            "Building wheels for collected packages: tinysegmenter, breadability, docopt, feedfinder2, jieba3k, sgmllib3k\n",
            "  Building wheel for tinysegmenter (setup.py) ... \u001b[?25l\u001b[?25hdone\n",
            "  Created wheel for tinysegmenter: filename=tinysegmenter-0.3-py3-none-any.whl size=13538 sha256=08f717c9d029eab4d074e8c56988bc423deb9193f2aaebd4713ba02f2c50f436\n",
            "  Stored in directory: /root/.cache/pip/wheels/c8/d6/6c/384f58df48c00b9a31d638005143b5b3ac62c3d25fb1447f23\n",
            "  Building wheel for breadability (setup.py) ... \u001b[?25l\u001b[?25hdone\n",
            "  Created wheel for breadability: filename=breadability-0.1.20-py2.py3-none-any.whl size=21693 sha256=c638335f3e79cc11d58c9af5f89c6528d2e022772b5023d7bc60c78091db9073\n",
            "  Stored in directory: /root/.cache/pip/wheels/64/22/90/b84fcc30e16598db20a0d41340616dbf9b1e82bbcc627b0b33\n",
            "  Building wheel for docopt (setup.py) ... \u001b[?25l\u001b[?25hdone\n",
            "  Created wheel for docopt: filename=docopt-0.6.2-py2.py3-none-any.whl size=13706 sha256=30f5f483f86046d741a6a0a478966835afc7d8d8e51b6393372591f5bc6b8ceb\n",
            "  Stored in directory: /root/.cache/pip/wheels/fc/ab/d4/5da2067ac95b36618c629a5f93f809425700506f72c9732fac\n",
            "  Building wheel for feedfinder2 (setup.py) ... \u001b[?25l\u001b[?25hdone\n",
            "  Created wheel for feedfinder2: filename=feedfinder2-0.0.4-py3-none-any.whl size=3340 sha256=db51e690d383a570ebdd5ea6415267fdd183b2a77248989acd8a87f1471a54bc\n",
            "  Stored in directory: /root/.cache/pip/wheels/97/02/e7/a1ff1760e12bdbaab0ac824fae5c1bc933e41c4ccd6a8f8edb\n",
            "  Building wheel for jieba3k (setup.py) ... \u001b[?25l\u001b[?25hdone\n",
            "  Created wheel for jieba3k: filename=jieba3k-0.35.1-py3-none-any.whl size=7398382 sha256=bee3b8b7236c62c84915dec638e8e488d1d7abb3f7cfb8ba5247d1f33090a0a1\n",
            "  Stored in directory: /root/.cache/pip/wheels/7a/c4/0c/12a9a314ecac499456c4c3b2fcc2f635a3b45a39dfbd240299\n",
            "  Building wheel for sgmllib3k (setup.py) ... \u001b[?25l\u001b[?25hdone\n",
            "  Created wheel for sgmllib3k: filename=sgmllib3k-1.0.0-py3-none-any.whl size=6049 sha256=c05fa407c68b83e632122913e24f91600cbaf6f8e96f740bff6e488160552c4e\n",
            "  Stored in directory: /root/.cache/pip/wheels/f0/69/93/a47e9d621be168e9e33c7ce60524393c0b92ae83cf6c6e89c5\n",
            "Successfully built tinysegmenter breadability docopt feedfinder2 jieba3k sgmllib3k\n",
            "Installing collected packages: tinysegmenter, sgmllib3k, jieba3k, docopt, watchdog, smmap, pycountry, nvidia-nvtx-cu12, nvidia-nvjitlink-cu12, nvidia-nccl-cu12, nvidia-curand-cu12, nvidia-cufft-cu12, nvidia-cuda-runtime-cu12, nvidia-cuda-nvrtc-cu12, nvidia-cuda-cupti-cu12, nvidia-cublas-cu12, feedparser, cssselect, breadability, sumy, requests-file, pydeck, nvidia-cusparse-cu12, nvidia-cudnn-cu12, gitdb, feedfinder2, tldextract, nvidia-cusolver-cu12, gitpython, newspaper3k, streamlit\n",
            "Successfully installed breadability-0.1.20 cssselect-1.2.0 docopt-0.6.2 feedfinder2-0.0.4 feedparser-6.0.11 gitdb-4.0.11 gitpython-3.1.43 jieba3k-0.35.1 newspaper3k-0.2.8 nvidia-cublas-cu12-12.1.3.1 nvidia-cuda-cupti-cu12-12.1.105 nvidia-cuda-nvrtc-cu12-12.1.105 nvidia-cuda-runtime-cu12-12.1.105 nvidia-cudnn-cu12-8.9.2.26 nvidia-cufft-cu12-11.0.2.54 nvidia-curand-cu12-10.3.2.106 nvidia-cusolver-cu12-11.4.5.107 nvidia-cusparse-cu12-12.1.0.106 nvidia-nccl-cu12-2.20.5 nvidia-nvjitlink-cu12-12.5.40 nvidia-nvtx-cu12-12.1.105 pycountry-24.6.1 pydeck-0.9.1 requests-file-2.1.0 sgmllib3k-1.0.0 smmap-5.0.1 streamlit-1.36.0 sumy-0.11.0 tinysegmenter-0.3 tldextract-5.1.2 watchdog-4.0.1\n"
          ]
        }
      ]
    },
    {
      "cell_type": "code",
      "source": [
        "!pip install streamlit\n"
      ],
      "metadata": {
        "colab": {
          "base_uri": "https://localhost:8080/"
        },
        "id": "vSJENrUc8Rpf",
        "outputId": "b02f3928-dd8d-4e7a-ef56-cf5ef2c26da0"
      },
      "execution_count": 3,
      "outputs": [
        {
          "output_type": "stream",
          "name": "stdout",
          "text": [
            "Requirement already satisfied: streamlit in /usr/local/lib/python3.10/dist-packages (1.36.0)\n",
            "Requirement already satisfied: altair<6,>=4.0 in /usr/local/lib/python3.10/dist-packages (from streamlit) (4.2.2)\n",
            "Requirement already satisfied: blinker<2,>=1.0.0 in /usr/lib/python3/dist-packages (from streamlit) (1.4)\n",
            "Requirement already satisfied: cachetools<6,>=4.0 in /usr/local/lib/python3.10/dist-packages (from streamlit) (5.3.3)\n",
            "Requirement already satisfied: click<9,>=7.0 in /usr/local/lib/python3.10/dist-packages (from streamlit) (8.1.7)\n",
            "Requirement already satisfied: numpy<3,>=1.20 in /usr/local/lib/python3.10/dist-packages (from streamlit) (1.25.2)\n",
            "Requirement already satisfied: packaging<25,>=20 in /usr/local/lib/python3.10/dist-packages (from streamlit) (24.1)\n",
            "Requirement already satisfied: pandas<3,>=1.3.0 in /usr/local/lib/python3.10/dist-packages (from streamlit) (2.0.3)\n",
            "Requirement already satisfied: pillow<11,>=7.1.0 in /usr/local/lib/python3.10/dist-packages (from streamlit) (9.4.0)\n",
            "Requirement already satisfied: protobuf<6,>=3.20 in /usr/local/lib/python3.10/dist-packages (from streamlit) (3.20.3)\n",
            "Requirement already satisfied: pyarrow>=7.0 in /usr/local/lib/python3.10/dist-packages (from streamlit) (14.0.2)\n",
            "Requirement already satisfied: requests<3,>=2.27 in /usr/local/lib/python3.10/dist-packages (from streamlit) (2.31.0)\n",
            "Requirement already satisfied: rich<14,>=10.14.0 in /usr/local/lib/python3.10/dist-packages (from streamlit) (13.7.1)\n",
            "Requirement already satisfied: tenacity<9,>=8.1.0 in /usr/local/lib/python3.10/dist-packages (from streamlit) (8.4.1)\n",
            "Requirement already satisfied: toml<2,>=0.10.1 in /usr/local/lib/python3.10/dist-packages (from streamlit) (0.10.2)\n",
            "Requirement already satisfied: typing-extensions<5,>=4.3.0 in /usr/local/lib/python3.10/dist-packages (from streamlit) (4.12.2)\n",
            "Requirement already satisfied: gitpython!=3.1.19,<4,>=3.0.7 in /usr/local/lib/python3.10/dist-packages (from streamlit) (3.1.43)\n",
            "Requirement already satisfied: pydeck<1,>=0.8.0b4 in /usr/local/lib/python3.10/dist-packages (from streamlit) (0.9.1)\n",
            "Requirement already satisfied: tornado<7,>=6.0.3 in /usr/local/lib/python3.10/dist-packages (from streamlit) (6.3.3)\n",
            "Requirement already satisfied: watchdog<5,>=2.1.5 in /usr/local/lib/python3.10/dist-packages (from streamlit) (4.0.1)\n",
            "Requirement already satisfied: entrypoints in /usr/local/lib/python3.10/dist-packages (from altair<6,>=4.0->streamlit) (0.4)\n",
            "Requirement already satisfied: jinja2 in /usr/local/lib/python3.10/dist-packages (from altair<6,>=4.0->streamlit) (3.1.4)\n",
            "Requirement already satisfied: jsonschema>=3.0 in /usr/local/lib/python3.10/dist-packages (from altair<6,>=4.0->streamlit) (4.19.2)\n",
            "Requirement already satisfied: toolz in /usr/local/lib/python3.10/dist-packages (from altair<6,>=4.0->streamlit) (0.12.1)\n",
            "Requirement already satisfied: gitdb<5,>=4.0.1 in /usr/local/lib/python3.10/dist-packages (from gitpython!=3.1.19,<4,>=3.0.7->streamlit) (4.0.11)\n",
            "Requirement already satisfied: python-dateutil>=2.8.2 in /usr/local/lib/python3.10/dist-packages (from pandas<3,>=1.3.0->streamlit) (2.8.2)\n",
            "Requirement already satisfied: pytz>=2020.1 in /usr/local/lib/python3.10/dist-packages (from pandas<3,>=1.3.0->streamlit) (2023.4)\n",
            "Requirement already satisfied: tzdata>=2022.1 in /usr/local/lib/python3.10/dist-packages (from pandas<3,>=1.3.0->streamlit) (2024.1)\n",
            "Requirement already satisfied: charset-normalizer<4,>=2 in /usr/local/lib/python3.10/dist-packages (from requests<3,>=2.27->streamlit) (3.3.2)\n",
            "Requirement already satisfied: idna<4,>=2.5 in /usr/local/lib/python3.10/dist-packages (from requests<3,>=2.27->streamlit) (3.7)\n",
            "Requirement already satisfied: urllib3<3,>=1.21.1 in /usr/local/lib/python3.10/dist-packages (from requests<3,>=2.27->streamlit) (2.0.7)\n",
            "Requirement already satisfied: certifi>=2017.4.17 in /usr/local/lib/python3.10/dist-packages (from requests<3,>=2.27->streamlit) (2024.6.2)\n",
            "Requirement already satisfied: markdown-it-py>=2.2.0 in /usr/local/lib/python3.10/dist-packages (from rich<14,>=10.14.0->streamlit) (3.0.0)\n",
            "Requirement already satisfied: pygments<3.0.0,>=2.13.0 in /usr/local/lib/python3.10/dist-packages (from rich<14,>=10.14.0->streamlit) (2.16.1)\n",
            "Requirement already satisfied: smmap<6,>=3.0.1 in /usr/local/lib/python3.10/dist-packages (from gitdb<5,>=4.0.1->gitpython!=3.1.19,<4,>=3.0.7->streamlit) (5.0.1)\n",
            "Requirement already satisfied: MarkupSafe>=2.0 in /usr/local/lib/python3.10/dist-packages (from jinja2->altair<6,>=4.0->streamlit) (2.1.5)\n",
            "Requirement already satisfied: attrs>=22.2.0 in /usr/local/lib/python3.10/dist-packages (from jsonschema>=3.0->altair<6,>=4.0->streamlit) (23.2.0)\n",
            "Requirement already satisfied: jsonschema-specifications>=2023.03.6 in /usr/local/lib/python3.10/dist-packages (from jsonschema>=3.0->altair<6,>=4.0->streamlit) (2023.12.1)\n",
            "Requirement already satisfied: referencing>=0.28.4 in /usr/local/lib/python3.10/dist-packages (from jsonschema>=3.0->altair<6,>=4.0->streamlit) (0.35.1)\n",
            "Requirement already satisfied: rpds-py>=0.7.1 in /usr/local/lib/python3.10/dist-packages (from jsonschema>=3.0->altair<6,>=4.0->streamlit) (0.18.1)\n",
            "Requirement already satisfied: mdurl~=0.1 in /usr/local/lib/python3.10/dist-packages (from markdown-it-py>=2.2.0->rich<14,>=10.14.0->streamlit) (0.1.2)\n",
            "Requirement already satisfied: six>=1.5 in /usr/local/lib/python3.10/dist-packages (from python-dateutil>=2.8.2->pandas<3,>=1.3.0->streamlit) (1.16.0)\n"
          ]
        }
      ]
    },
    {
      "cell_type": "code",
      "source": [
        "!pip install sumy\n"
      ],
      "metadata": {
        "colab": {
          "base_uri": "https://localhost:8080/"
        },
        "id": "NPxdq9g98e39",
        "outputId": "7a73dc80-c0c8-43f2-f0ee-8ecd2d4215f3"
      },
      "execution_count": 4,
      "outputs": [
        {
          "output_type": "stream",
          "name": "stdout",
          "text": [
            "Requirement already satisfied: sumy in /usr/local/lib/python3.10/dist-packages (0.11.0)\n",
            "Requirement already satisfied: docopt<0.7,>=0.6.1 in /usr/local/lib/python3.10/dist-packages (from sumy) (0.6.2)\n",
            "Requirement already satisfied: breadability>=0.1.20 in /usr/local/lib/python3.10/dist-packages (from sumy) (0.1.20)\n",
            "Requirement already satisfied: requests>=2.7.0 in /usr/local/lib/python3.10/dist-packages (from sumy) (2.31.0)\n",
            "Requirement already satisfied: pycountry>=18.2.23 in /usr/local/lib/python3.10/dist-packages (from sumy) (24.6.1)\n",
            "Requirement already satisfied: nltk>=3.0.2 in /usr/local/lib/python3.10/dist-packages (from sumy) (3.8.1)\n",
            "Requirement already satisfied: chardet in /usr/local/lib/python3.10/dist-packages (from breadability>=0.1.20->sumy) (5.2.0)\n",
            "Requirement already satisfied: lxml>=2.0 in /usr/local/lib/python3.10/dist-packages (from breadability>=0.1.20->sumy) (4.9.4)\n",
            "Requirement already satisfied: click in /usr/local/lib/python3.10/dist-packages (from nltk>=3.0.2->sumy) (8.1.7)\n",
            "Requirement already satisfied: joblib in /usr/local/lib/python3.10/dist-packages (from nltk>=3.0.2->sumy) (1.4.2)\n",
            "Requirement already satisfied: regex>=2021.8.3 in /usr/local/lib/python3.10/dist-packages (from nltk>=3.0.2->sumy) (2024.5.15)\n",
            "Requirement already satisfied: tqdm in /usr/local/lib/python3.10/dist-packages (from nltk>=3.0.2->sumy) (4.66.4)\n",
            "Requirement already satisfied: charset-normalizer<4,>=2 in /usr/local/lib/python3.10/dist-packages (from requests>=2.7.0->sumy) (3.3.2)\n",
            "Requirement already satisfied: idna<4,>=2.5 in /usr/local/lib/python3.10/dist-packages (from requests>=2.7.0->sumy) (3.7)\n",
            "Requirement already satisfied: urllib3<3,>=1.21.1 in /usr/local/lib/python3.10/dist-packages (from requests>=2.7.0->sumy) (2.0.7)\n",
            "Requirement already satisfied: certifi>=2017.4.17 in /usr/local/lib/python3.10/dist-packages (from requests>=2.7.0->sumy) (2024.6.2)\n"
          ]
        }
      ]
    },
    {
      "cell_type": "code",
      "source": [
        "!pip install newspaper3k\n"
      ],
      "metadata": {
        "colab": {
          "base_uri": "https://localhost:8080/"
        },
        "id": "pcTrJmSr8thH",
        "outputId": "12209baa-076c-4c76-cf3b-696e7ee03a60"
      },
      "execution_count": 5,
      "outputs": [
        {
          "output_type": "stream",
          "name": "stdout",
          "text": [
            "Requirement already satisfied: newspaper3k in /usr/local/lib/python3.10/dist-packages (0.2.8)\n",
            "Requirement already satisfied: beautifulsoup4>=4.4.1 in /usr/local/lib/python3.10/dist-packages (from newspaper3k) (4.12.3)\n",
            "Requirement already satisfied: Pillow>=3.3.0 in /usr/local/lib/python3.10/dist-packages (from newspaper3k) (9.4.0)\n",
            "Requirement already satisfied: PyYAML>=3.11 in /usr/local/lib/python3.10/dist-packages (from newspaper3k) (6.0.1)\n",
            "Requirement already satisfied: cssselect>=0.9.2 in /usr/local/lib/python3.10/dist-packages (from newspaper3k) (1.2.0)\n",
            "Requirement already satisfied: lxml>=3.6.0 in /usr/local/lib/python3.10/dist-packages (from newspaper3k) (4.9.4)\n",
            "Requirement already satisfied: nltk>=3.2.1 in /usr/local/lib/python3.10/dist-packages (from newspaper3k) (3.8.1)\n",
            "Requirement already satisfied: requests>=2.10.0 in /usr/local/lib/python3.10/dist-packages (from newspaper3k) (2.31.0)\n",
            "Requirement already satisfied: feedparser>=5.2.1 in /usr/local/lib/python3.10/dist-packages (from newspaper3k) (6.0.11)\n",
            "Requirement already satisfied: tldextract>=2.0.1 in /usr/local/lib/python3.10/dist-packages (from newspaper3k) (5.1.2)\n",
            "Requirement already satisfied: feedfinder2>=0.0.4 in /usr/local/lib/python3.10/dist-packages (from newspaper3k) (0.0.4)\n",
            "Requirement already satisfied: jieba3k>=0.35.1 in /usr/local/lib/python3.10/dist-packages (from newspaper3k) (0.35.1)\n",
            "Requirement already satisfied: python-dateutil>=2.5.3 in /usr/local/lib/python3.10/dist-packages (from newspaper3k) (2.8.2)\n",
            "Requirement already satisfied: tinysegmenter==0.3 in /usr/local/lib/python3.10/dist-packages (from newspaper3k) (0.3)\n",
            "Requirement already satisfied: soupsieve>1.2 in /usr/local/lib/python3.10/dist-packages (from beautifulsoup4>=4.4.1->newspaper3k) (2.5)\n",
            "Requirement already satisfied: six in /usr/local/lib/python3.10/dist-packages (from feedfinder2>=0.0.4->newspaper3k) (1.16.0)\n",
            "Requirement already satisfied: sgmllib3k in /usr/local/lib/python3.10/dist-packages (from feedparser>=5.2.1->newspaper3k) (1.0.0)\n",
            "Requirement already satisfied: click in /usr/local/lib/python3.10/dist-packages (from nltk>=3.2.1->newspaper3k) (8.1.7)\n",
            "Requirement already satisfied: joblib in /usr/local/lib/python3.10/dist-packages (from nltk>=3.2.1->newspaper3k) (1.4.2)\n",
            "Requirement already satisfied: regex>=2021.8.3 in /usr/local/lib/python3.10/dist-packages (from nltk>=3.2.1->newspaper3k) (2024.5.15)\n",
            "Requirement already satisfied: tqdm in /usr/local/lib/python3.10/dist-packages (from nltk>=3.2.1->newspaper3k) (4.66.4)\n",
            "Requirement already satisfied: charset-normalizer<4,>=2 in /usr/local/lib/python3.10/dist-packages (from requests>=2.10.0->newspaper3k) (3.3.2)\n",
            "Requirement already satisfied: idna<4,>=2.5 in /usr/local/lib/python3.10/dist-packages (from requests>=2.10.0->newspaper3k) (3.7)\n",
            "Requirement already satisfied: urllib3<3,>=1.21.1 in /usr/local/lib/python3.10/dist-packages (from requests>=2.10.0->newspaper3k) (2.0.7)\n",
            "Requirement already satisfied: certifi>=2017.4.17 in /usr/local/lib/python3.10/dist-packages (from requests>=2.10.0->newspaper3k) (2024.6.2)\n",
            "Requirement already satisfied: requests-file>=1.4 in /usr/local/lib/python3.10/dist-packages (from tldextract>=2.0.1->newspaper3k) (2.1.0)\n",
            "Requirement already satisfied: filelock>=3.0.8 in /usr/local/lib/python3.10/dist-packages (from tldextract>=2.0.1->newspaper3k) (3.15.3)\n"
          ]
        }
      ]
    },
    {
      "cell_type": "code",
      "source": [
        "!pip install transformers torch\n"
      ],
      "metadata": {
        "colab": {
          "base_uri": "https://localhost:8080/"
        },
        "id": "ngkcKe68_sFT",
        "outputId": "d8f7593a-e43c-4fd7-df18-fdada7dbcc4f"
      },
      "execution_count": 6,
      "outputs": [
        {
          "output_type": "stream",
          "name": "stdout",
          "text": [
            "Requirement already satisfied: transformers in /usr/local/lib/python3.10/dist-packages (4.41.2)\n",
            "Requirement already satisfied: torch in /usr/local/lib/python3.10/dist-packages (2.3.0+cu121)\n",
            "Requirement already satisfied: filelock in /usr/local/lib/python3.10/dist-packages (from transformers) (3.15.3)\n",
            "Requirement already satisfied: huggingface-hub<1.0,>=0.23.0 in /usr/local/lib/python3.10/dist-packages (from transformers) (0.23.4)\n",
            "Requirement already satisfied: numpy>=1.17 in /usr/local/lib/python3.10/dist-packages (from transformers) (1.25.2)\n",
            "Requirement already satisfied: packaging>=20.0 in /usr/local/lib/python3.10/dist-packages (from transformers) (24.1)\n",
            "Requirement already satisfied: pyyaml>=5.1 in /usr/local/lib/python3.10/dist-packages (from transformers) (6.0.1)\n",
            "Requirement already satisfied: regex!=2019.12.17 in /usr/local/lib/python3.10/dist-packages (from transformers) (2024.5.15)\n",
            "Requirement already satisfied: requests in /usr/local/lib/python3.10/dist-packages (from transformers) (2.31.0)\n",
            "Requirement already satisfied: tokenizers<0.20,>=0.19 in /usr/local/lib/python3.10/dist-packages (from transformers) (0.19.1)\n",
            "Requirement already satisfied: safetensors>=0.4.1 in /usr/local/lib/python3.10/dist-packages (from transformers) (0.4.3)\n",
            "Requirement already satisfied: tqdm>=4.27 in /usr/local/lib/python3.10/dist-packages (from transformers) (4.66.4)\n",
            "Requirement already satisfied: typing-extensions>=4.8.0 in /usr/local/lib/python3.10/dist-packages (from torch) (4.12.2)\n",
            "Requirement already satisfied: sympy in /usr/local/lib/python3.10/dist-packages (from torch) (1.12.1)\n",
            "Requirement already satisfied: networkx in /usr/local/lib/python3.10/dist-packages (from torch) (3.3)\n",
            "Requirement already satisfied: jinja2 in /usr/local/lib/python3.10/dist-packages (from torch) (3.1.4)\n",
            "Requirement already satisfied: fsspec in /usr/local/lib/python3.10/dist-packages (from torch) (2023.6.0)\n",
            "Requirement already satisfied: nvidia-cuda-nvrtc-cu12==12.1.105 in /usr/local/lib/python3.10/dist-packages (from torch) (12.1.105)\n",
            "Requirement already satisfied: nvidia-cuda-runtime-cu12==12.1.105 in /usr/local/lib/python3.10/dist-packages (from torch) (12.1.105)\n",
            "Requirement already satisfied: nvidia-cuda-cupti-cu12==12.1.105 in /usr/local/lib/python3.10/dist-packages (from torch) (12.1.105)\n",
            "Requirement already satisfied: nvidia-cudnn-cu12==8.9.2.26 in /usr/local/lib/python3.10/dist-packages (from torch) (8.9.2.26)\n",
            "Requirement already satisfied: nvidia-cublas-cu12==12.1.3.1 in /usr/local/lib/python3.10/dist-packages (from torch) (12.1.3.1)\n",
            "Requirement already satisfied: nvidia-cufft-cu12==11.0.2.54 in /usr/local/lib/python3.10/dist-packages (from torch) (11.0.2.54)\n",
            "Requirement already satisfied: nvidia-curand-cu12==10.3.2.106 in /usr/local/lib/python3.10/dist-packages (from torch) (10.3.2.106)\n",
            "Requirement already satisfied: nvidia-cusolver-cu12==11.4.5.107 in /usr/local/lib/python3.10/dist-packages (from torch) (11.4.5.107)\n",
            "Requirement already satisfied: nvidia-cusparse-cu12==12.1.0.106 in /usr/local/lib/python3.10/dist-packages (from torch) (12.1.0.106)\n",
            "Requirement already satisfied: nvidia-nccl-cu12==2.20.5 in /usr/local/lib/python3.10/dist-packages (from torch) (2.20.5)\n",
            "Requirement already satisfied: nvidia-nvtx-cu12==12.1.105 in /usr/local/lib/python3.10/dist-packages (from torch) (12.1.105)\n",
            "Requirement already satisfied: triton==2.3.0 in /usr/local/lib/python3.10/dist-packages (from torch) (2.3.0)\n",
            "Requirement already satisfied: nvidia-nvjitlink-cu12 in /usr/local/lib/python3.10/dist-packages (from nvidia-cusolver-cu12==11.4.5.107->torch) (12.5.40)\n",
            "Requirement already satisfied: MarkupSafe>=2.0 in /usr/local/lib/python3.10/dist-packages (from jinja2->torch) (2.1.5)\n",
            "Requirement already satisfied: charset-normalizer<4,>=2 in /usr/local/lib/python3.10/dist-packages (from requests->transformers) (3.3.2)\n",
            "Requirement already satisfied: idna<4,>=2.5 in /usr/local/lib/python3.10/dist-packages (from requests->transformers) (3.7)\n",
            "Requirement already satisfied: urllib3<3,>=1.21.1 in /usr/local/lib/python3.10/dist-packages (from requests->transformers) (2.0.7)\n",
            "Requirement already satisfied: certifi>=2017.4.17 in /usr/local/lib/python3.10/dist-packages (from requests->transformers) (2024.6.2)\n",
            "Requirement already satisfied: mpmath<1.4.0,>=1.1.0 in /usr/local/lib/python3.10/dist-packages (from sympy->torch) (1.3.0)\n"
          ]
        }
      ]
    },
    {
      "cell_type": "code",
      "source": [
        "!npm install -g localtunnel\n"
      ],
      "metadata": {
        "colab": {
          "base_uri": "https://localhost:8080/"
        },
        "id": "itNWZf7vEj3g",
        "outputId": "e211b19f-0979-417a-e259-a5d852d3ab30"
      },
      "execution_count": 7,
      "outputs": [
        {
          "output_type": "stream",
          "name": "stdout",
          "text": [
            "\u001b[K\u001b[?25h/tools/node/bin/lt -> /tools/node/lib/node_modules/localtunnel/bin/lt.js\n",
            "+ localtunnel@2.0.2\n",
            "added 22 packages from 22 contributors in 3.704s\n"
          ]
        }
      ]
    },
    {
      "cell_type": "code",
      "source": [
        "! pip install streamlit -q"
      ],
      "metadata": {
        "id": "9dRddyUugLMk"
      },
      "execution_count": 8,
      "outputs": []
    },
    {
      "cell_type": "code",
      "source": [
        "!pip install nltk"
      ],
      "metadata": {
        "colab": {
          "base_uri": "https://localhost:8080/"
        },
        "id": "eEMfxYcAvRev",
        "outputId": "36d6f24c-1847-4893-ed89-c031b247c0f4"
      },
      "execution_count": 9,
      "outputs": [
        {
          "output_type": "stream",
          "name": "stdout",
          "text": [
            "Requirement already satisfied: nltk in /usr/local/lib/python3.10/dist-packages (3.8.1)\n",
            "Requirement already satisfied: click in /usr/local/lib/python3.10/dist-packages (from nltk) (8.1.7)\n",
            "Requirement already satisfied: joblib in /usr/local/lib/python3.10/dist-packages (from nltk) (1.4.2)\n",
            "Requirement already satisfied: regex>=2021.8.3 in /usr/local/lib/python3.10/dist-packages (from nltk) (2024.5.15)\n",
            "Requirement already satisfied: tqdm in /usr/local/lib/python3.10/dist-packages (from nltk) (4.66.4)\n"
          ]
        }
      ]
    },
    {
      "cell_type": "code",
      "source": [
        "!pip install streamlit sentence-transformers newspaper3k nltk scikit-learn\n"
      ],
      "metadata": {
        "colab": {
          "base_uri": "https://localhost:8080/"
        },
        "id": "p5lty9-zxyql",
        "outputId": "919040ce-f738-451e-cf5f-c361c970d169"
      },
      "execution_count": 10,
      "outputs": [
        {
          "output_type": "stream",
          "name": "stdout",
          "text": [
            "Requirement already satisfied: streamlit in /usr/local/lib/python3.10/dist-packages (1.36.0)\n",
            "Collecting sentence-transformers\n",
            "  Downloading sentence_transformers-3.0.1-py3-none-any.whl (227 kB)\n",
            "\u001b[2K     \u001b[90m━━━━━━━━━━━━━━━━━━━━━━━━━━━━━━━━━━━━━━━━\u001b[0m \u001b[32m227.1/227.1 kB\u001b[0m \u001b[31m4.3 MB/s\u001b[0m eta \u001b[36m0:00:00\u001b[0m\n",
            "\u001b[?25hRequirement already satisfied: newspaper3k in /usr/local/lib/python3.10/dist-packages (0.2.8)\n",
            "Requirement already satisfied: nltk in /usr/local/lib/python3.10/dist-packages (3.8.1)\n",
            "Requirement already satisfied: scikit-learn in /usr/local/lib/python3.10/dist-packages (1.2.2)\n",
            "Requirement already satisfied: altair<6,>=4.0 in /usr/local/lib/python3.10/dist-packages (from streamlit) (4.2.2)\n",
            "Requirement already satisfied: blinker<2,>=1.0.0 in /usr/lib/python3/dist-packages (from streamlit) (1.4)\n",
            "Requirement already satisfied: cachetools<6,>=4.0 in /usr/local/lib/python3.10/dist-packages (from streamlit) (5.3.3)\n",
            "Requirement already satisfied: click<9,>=7.0 in /usr/local/lib/python3.10/dist-packages (from streamlit) (8.1.7)\n",
            "Requirement already satisfied: numpy<3,>=1.20 in /usr/local/lib/python3.10/dist-packages (from streamlit) (1.25.2)\n",
            "Requirement already satisfied: packaging<25,>=20 in /usr/local/lib/python3.10/dist-packages (from streamlit) (24.1)\n",
            "Requirement already satisfied: pandas<3,>=1.3.0 in /usr/local/lib/python3.10/dist-packages (from streamlit) (2.0.3)\n",
            "Requirement already satisfied: pillow<11,>=7.1.0 in /usr/local/lib/python3.10/dist-packages (from streamlit) (9.4.0)\n",
            "Requirement already satisfied: protobuf<6,>=3.20 in /usr/local/lib/python3.10/dist-packages (from streamlit) (3.20.3)\n",
            "Requirement already satisfied: pyarrow>=7.0 in /usr/local/lib/python3.10/dist-packages (from streamlit) (14.0.2)\n",
            "Requirement already satisfied: requests<3,>=2.27 in /usr/local/lib/python3.10/dist-packages (from streamlit) (2.31.0)\n",
            "Requirement already satisfied: rich<14,>=10.14.0 in /usr/local/lib/python3.10/dist-packages (from streamlit) (13.7.1)\n",
            "Requirement already satisfied: tenacity<9,>=8.1.0 in /usr/local/lib/python3.10/dist-packages (from streamlit) (8.4.1)\n",
            "Requirement already satisfied: toml<2,>=0.10.1 in /usr/local/lib/python3.10/dist-packages (from streamlit) (0.10.2)\n",
            "Requirement already satisfied: typing-extensions<5,>=4.3.0 in /usr/local/lib/python3.10/dist-packages (from streamlit) (4.12.2)\n",
            "Requirement already satisfied: gitpython!=3.1.19,<4,>=3.0.7 in /usr/local/lib/python3.10/dist-packages (from streamlit) (3.1.43)\n",
            "Requirement already satisfied: pydeck<1,>=0.8.0b4 in /usr/local/lib/python3.10/dist-packages (from streamlit) (0.9.1)\n",
            "Requirement already satisfied: tornado<7,>=6.0.3 in /usr/local/lib/python3.10/dist-packages (from streamlit) (6.3.3)\n",
            "Requirement already satisfied: watchdog<5,>=2.1.5 in /usr/local/lib/python3.10/dist-packages (from streamlit) (4.0.1)\n",
            "Requirement already satisfied: transformers<5.0.0,>=4.34.0 in /usr/local/lib/python3.10/dist-packages (from sentence-transformers) (4.41.2)\n",
            "Requirement already satisfied: tqdm in /usr/local/lib/python3.10/dist-packages (from sentence-transformers) (4.66.4)\n",
            "Requirement already satisfied: torch>=1.11.0 in /usr/local/lib/python3.10/dist-packages (from sentence-transformers) (2.3.0+cu121)\n",
            "Requirement already satisfied: scipy in /usr/local/lib/python3.10/dist-packages (from sentence-transformers) (1.11.4)\n",
            "Requirement already satisfied: huggingface-hub>=0.15.1 in /usr/local/lib/python3.10/dist-packages (from sentence-transformers) (0.23.4)\n",
            "Requirement already satisfied: beautifulsoup4>=4.4.1 in /usr/local/lib/python3.10/dist-packages (from newspaper3k) (4.12.3)\n",
            "Requirement already satisfied: PyYAML>=3.11 in /usr/local/lib/python3.10/dist-packages (from newspaper3k) (6.0.1)\n",
            "Requirement already satisfied: cssselect>=0.9.2 in /usr/local/lib/python3.10/dist-packages (from newspaper3k) (1.2.0)\n",
            "Requirement already satisfied: lxml>=3.6.0 in /usr/local/lib/python3.10/dist-packages (from newspaper3k) (4.9.4)\n",
            "Requirement already satisfied: feedparser>=5.2.1 in /usr/local/lib/python3.10/dist-packages (from newspaper3k) (6.0.11)\n",
            "Requirement already satisfied: tldextract>=2.0.1 in /usr/local/lib/python3.10/dist-packages (from newspaper3k) (5.1.2)\n",
            "Requirement already satisfied: feedfinder2>=0.0.4 in /usr/local/lib/python3.10/dist-packages (from newspaper3k) (0.0.4)\n",
            "Requirement already satisfied: jieba3k>=0.35.1 in /usr/local/lib/python3.10/dist-packages (from newspaper3k) (0.35.1)\n",
            "Requirement already satisfied: python-dateutil>=2.5.3 in /usr/local/lib/python3.10/dist-packages (from newspaper3k) (2.8.2)\n",
            "Requirement already satisfied: tinysegmenter==0.3 in /usr/local/lib/python3.10/dist-packages (from newspaper3k) (0.3)\n",
            "Requirement already satisfied: joblib in /usr/local/lib/python3.10/dist-packages (from nltk) (1.4.2)\n",
            "Requirement already satisfied: regex>=2021.8.3 in /usr/local/lib/python3.10/dist-packages (from nltk) (2024.5.15)\n",
            "Requirement already satisfied: threadpoolctl>=2.0.0 in /usr/local/lib/python3.10/dist-packages (from scikit-learn) (3.5.0)\n",
            "Requirement already satisfied: entrypoints in /usr/local/lib/python3.10/dist-packages (from altair<6,>=4.0->streamlit) (0.4)\n",
            "Requirement already satisfied: jinja2 in /usr/local/lib/python3.10/dist-packages (from altair<6,>=4.0->streamlit) (3.1.4)\n",
            "Requirement already satisfied: jsonschema>=3.0 in /usr/local/lib/python3.10/dist-packages (from altair<6,>=4.0->streamlit) (4.19.2)\n",
            "Requirement already satisfied: toolz in /usr/local/lib/python3.10/dist-packages (from altair<6,>=4.0->streamlit) (0.12.1)\n",
            "Requirement already satisfied: soupsieve>1.2 in /usr/local/lib/python3.10/dist-packages (from beautifulsoup4>=4.4.1->newspaper3k) (2.5)\n",
            "Requirement already satisfied: six in /usr/local/lib/python3.10/dist-packages (from feedfinder2>=0.0.4->newspaper3k) (1.16.0)\n",
            "Requirement already satisfied: sgmllib3k in /usr/local/lib/python3.10/dist-packages (from feedparser>=5.2.1->newspaper3k) (1.0.0)\n",
            "Requirement already satisfied: gitdb<5,>=4.0.1 in /usr/local/lib/python3.10/dist-packages (from gitpython!=3.1.19,<4,>=3.0.7->streamlit) (4.0.11)\n",
            "Requirement already satisfied: filelock in /usr/local/lib/python3.10/dist-packages (from huggingface-hub>=0.15.1->sentence-transformers) (3.15.3)\n",
            "Requirement already satisfied: fsspec>=2023.5.0 in /usr/local/lib/python3.10/dist-packages (from huggingface-hub>=0.15.1->sentence-transformers) (2023.6.0)\n",
            "Requirement already satisfied: pytz>=2020.1 in /usr/local/lib/python3.10/dist-packages (from pandas<3,>=1.3.0->streamlit) (2023.4)\n",
            "Requirement already satisfied: tzdata>=2022.1 in /usr/local/lib/python3.10/dist-packages (from pandas<3,>=1.3.0->streamlit) (2024.1)\n",
            "Requirement already satisfied: charset-normalizer<4,>=2 in /usr/local/lib/python3.10/dist-packages (from requests<3,>=2.27->streamlit) (3.3.2)\n",
            "Requirement already satisfied: idna<4,>=2.5 in /usr/local/lib/python3.10/dist-packages (from requests<3,>=2.27->streamlit) (3.7)\n",
            "Requirement already satisfied: urllib3<3,>=1.21.1 in /usr/local/lib/python3.10/dist-packages (from requests<3,>=2.27->streamlit) (2.0.7)\n",
            "Requirement already satisfied: certifi>=2017.4.17 in /usr/local/lib/python3.10/dist-packages (from requests<3,>=2.27->streamlit) (2024.6.2)\n",
            "Requirement already satisfied: markdown-it-py>=2.2.0 in /usr/local/lib/python3.10/dist-packages (from rich<14,>=10.14.0->streamlit) (3.0.0)\n",
            "Requirement already satisfied: pygments<3.0.0,>=2.13.0 in /usr/local/lib/python3.10/dist-packages (from rich<14,>=10.14.0->streamlit) (2.16.1)\n",
            "Requirement already satisfied: requests-file>=1.4 in /usr/local/lib/python3.10/dist-packages (from tldextract>=2.0.1->newspaper3k) (2.1.0)\n",
            "Requirement already satisfied: sympy in /usr/local/lib/python3.10/dist-packages (from torch>=1.11.0->sentence-transformers) (1.12.1)\n",
            "Requirement already satisfied: networkx in /usr/local/lib/python3.10/dist-packages (from torch>=1.11.0->sentence-transformers) (3.3)\n",
            "Requirement already satisfied: nvidia-cuda-nvrtc-cu12==12.1.105 in /usr/local/lib/python3.10/dist-packages (from torch>=1.11.0->sentence-transformers) (12.1.105)\n",
            "Requirement already satisfied: nvidia-cuda-runtime-cu12==12.1.105 in /usr/local/lib/python3.10/dist-packages (from torch>=1.11.0->sentence-transformers) (12.1.105)\n",
            "Requirement already satisfied: nvidia-cuda-cupti-cu12==12.1.105 in /usr/local/lib/python3.10/dist-packages (from torch>=1.11.0->sentence-transformers) (12.1.105)\n",
            "Requirement already satisfied: nvidia-cudnn-cu12==8.9.2.26 in /usr/local/lib/python3.10/dist-packages (from torch>=1.11.0->sentence-transformers) (8.9.2.26)\n",
            "Requirement already satisfied: nvidia-cublas-cu12==12.1.3.1 in /usr/local/lib/python3.10/dist-packages (from torch>=1.11.0->sentence-transformers) (12.1.3.1)\n",
            "Requirement already satisfied: nvidia-cufft-cu12==11.0.2.54 in /usr/local/lib/python3.10/dist-packages (from torch>=1.11.0->sentence-transformers) (11.0.2.54)\n",
            "Requirement already satisfied: nvidia-curand-cu12==10.3.2.106 in /usr/local/lib/python3.10/dist-packages (from torch>=1.11.0->sentence-transformers) (10.3.2.106)\n",
            "Requirement already satisfied: nvidia-cusolver-cu12==11.4.5.107 in /usr/local/lib/python3.10/dist-packages (from torch>=1.11.0->sentence-transformers) (11.4.5.107)\n",
            "Requirement already satisfied: nvidia-cusparse-cu12==12.1.0.106 in /usr/local/lib/python3.10/dist-packages (from torch>=1.11.0->sentence-transformers) (12.1.0.106)\n",
            "Requirement already satisfied: nvidia-nccl-cu12==2.20.5 in /usr/local/lib/python3.10/dist-packages (from torch>=1.11.0->sentence-transformers) (2.20.5)\n",
            "Requirement already satisfied: nvidia-nvtx-cu12==12.1.105 in /usr/local/lib/python3.10/dist-packages (from torch>=1.11.0->sentence-transformers) (12.1.105)\n",
            "Requirement already satisfied: triton==2.3.0 in /usr/local/lib/python3.10/dist-packages (from torch>=1.11.0->sentence-transformers) (2.3.0)\n",
            "Requirement already satisfied: nvidia-nvjitlink-cu12 in /usr/local/lib/python3.10/dist-packages (from nvidia-cusolver-cu12==11.4.5.107->torch>=1.11.0->sentence-transformers) (12.5.40)\n",
            "Requirement already satisfied: tokenizers<0.20,>=0.19 in /usr/local/lib/python3.10/dist-packages (from transformers<5.0.0,>=4.34.0->sentence-transformers) (0.19.1)\n",
            "Requirement already satisfied: safetensors>=0.4.1 in /usr/local/lib/python3.10/dist-packages (from transformers<5.0.0,>=4.34.0->sentence-transformers) (0.4.3)\n",
            "Requirement already satisfied: smmap<6,>=3.0.1 in /usr/local/lib/python3.10/dist-packages (from gitdb<5,>=4.0.1->gitpython!=3.1.19,<4,>=3.0.7->streamlit) (5.0.1)\n",
            "Requirement already satisfied: MarkupSafe>=2.0 in /usr/local/lib/python3.10/dist-packages (from jinja2->altair<6,>=4.0->streamlit) (2.1.5)\n",
            "Requirement already satisfied: attrs>=22.2.0 in /usr/local/lib/python3.10/dist-packages (from jsonschema>=3.0->altair<6,>=4.0->streamlit) (23.2.0)\n",
            "Requirement already satisfied: jsonschema-specifications>=2023.03.6 in /usr/local/lib/python3.10/dist-packages (from jsonschema>=3.0->altair<6,>=4.0->streamlit) (2023.12.1)\n",
            "Requirement already satisfied: referencing>=0.28.4 in /usr/local/lib/python3.10/dist-packages (from jsonschema>=3.0->altair<6,>=4.0->streamlit) (0.35.1)\n",
            "Requirement already satisfied: rpds-py>=0.7.1 in /usr/local/lib/python3.10/dist-packages (from jsonschema>=3.0->altair<6,>=4.0->streamlit) (0.18.1)\n",
            "Requirement already satisfied: mdurl~=0.1 in /usr/local/lib/python3.10/dist-packages (from markdown-it-py>=2.2.0->rich<14,>=10.14.0->streamlit) (0.1.2)\n",
            "Requirement already satisfied: mpmath<1.4.0,>=1.1.0 in /usr/local/lib/python3.10/dist-packages (from sympy->torch>=1.11.0->sentence-transformers) (1.3.0)\n",
            "Installing collected packages: sentence-transformers\n",
            "Successfully installed sentence-transformers-3.0.1\n"
          ]
        }
      ]
    },
    {
      "cell_type": "code",
      "source": [
        "!wget -q -O - ipv4.icanhazip.com"
      ],
      "metadata": {
        "colab": {
          "base_uri": "https://localhost:8080/"
        },
        "id": "RSNQ9i6VgWN_",
        "outputId": "703d4f84-564f-4555-bb92-eca451ae5ca5"
      },
      "execution_count": 11,
      "outputs": [
        {
          "output_type": "stream",
          "name": "stdout",
          "text": [
            "34.143.156.106\n"
          ]
        }
      ]
    },
    {
      "cell_type": "code",
      "source": [
        "%%writefile app.py\n",
        "import streamlit as st\n",
        "from sentence_transformers import SentenceTransformer, util\n",
        "import newspaper\n",
        "import nltk\n",
        "nltk.download('punkt')\n",
        "\n",
        "\n",
        "model = SentenceTransformer('sentence-transformers/paraphrase-MiniLM-L3-v2')\n",
        "\n",
        "def summarize_news(text, num_sentences=2):\n",
        "    sentences = nltk.sent_tokenize(text)\n",
        "    embeddings = model.encode(sentences, convert_to_tensor=True)\n",
        "    cosine_similarities = util.pytorch_cos_sim(embeddings, embeddings)\n",
        "    sentence_indices = cosine_similarities.sum(axis=1).topk(num_sentences).indices\n",
        "    representative_sentences = [sentences[i] for i in sentence_indices]\n",
        "    summarized_news = \" \".join(representative_sentences)\n",
        "    return summarized_news\n",
        "\n",
        "def scrape_and_summarize(url, num_sentences=2):\n",
        "    article = newspaper.Article(url)\n",
        "    article.download()\n",
        "    article.parse()\n",
        "    text = article.text\n",
        "    summarized_news = summarize_news(text, num_sentences)\n",
        "    return summarized_news\n",
        "\n",
        "def main():\n",
        "    st.title(\"NEWS SUMMARIZATION APP\")\n",
        "    choice = st.radio(\"Choose Input Type\", (\"Enter News\", \"Enter URL\"))\n",
        "    num_sentences = st.slider(\"Number of Sentences in Summary:\", min_value=1, max_value=3, value=2)\n",
        "\n",
        "    if choice == \"Enter News\":\n",
        "        text = st.text_area(\"Enter News:\")\n",
        "        if st.button(\"Summarize News\"):\n",
        "            if text:\n",
        "                summarized_news = summarize_news(text, num_sentences)\n",
        "                st.subheader(\"Summary:\")\n",
        "                st.write(summarized_news)\n",
        "            else:\n",
        "                st.warning(\"Please enter the news to summarize.\")\n",
        "\n",
        "    elif choice == \"Enter URL\":\n",
        "        url = st.text_input(\"Enter URL of the News Article:\")\n",
        "        if st.button(\"Summarize URL\"):\n",
        "            if url:\n",
        "                summarized_news = scrape_and_summarize(url, num_sentences)\n",
        "                st.subheader(\"Summary:\")\n",
        "                st.write(summarized_news)\n",
        "            else:\n",
        "                st.warning(\"Please enter the URL of the news article.\")\n",
        "\n",
        "if __name__ == \"__main__\":\n",
        "    main()\n"
      ],
      "metadata": {
        "colab": {
          "base_uri": "https://localhost:8080/"
        },
        "id": "mFS0GQ5tohRj",
        "outputId": "ff065de3-9460-4080-8d8d-69ea1d217011"
      },
      "execution_count": 14,
      "outputs": [
        {
          "output_type": "stream",
          "name": "stdout",
          "text": [
            "Overwriting app.py\n"
          ]
        }
      ]
    },
    {
      "cell_type": "code",
      "source": [
        "!streamlit run app.py & npx localtunnel --port 8501"
      ],
      "metadata": {
        "colab": {
          "base_uri": "https://localhost:8080/"
        },
        "id": "WUmeQt6Ive9y",
        "outputId": "a7f6ae5a-6332-4f80-cc3e-0de74088f39f"
      },
      "execution_count": 15,
      "outputs": [
        {
          "output_type": "stream",
          "name": "stdout",
          "text": [
            "\n",
            "Collecting usage statistics. To deactivate, set browser.gatherUsageStats to false.\n",
            "\u001b[0m\n",
            "\u001b[0m\n",
            "\u001b[34m\u001b[1m  You can now view your Streamlit app in your browser.\u001b[0m\n",
            "\u001b[0m\n",
            "\u001b[34m  Local URL: \u001b[0m\u001b[1mhttp://localhost:8501\u001b[0m\n",
            "\u001b[34m  Network URL: \u001b[0m\u001b[1mhttp://172.28.0.12:8501\u001b[0m\n",
            "\u001b[34m  External URL: \u001b[0m\u001b[1mhttp://34.143.156.106:8501\u001b[0m\n",
            "\u001b[0m\n",
            "\u001b[K\u001b[?25hnpx: installed 22 in 2.577s\n",
            "your url is: https://six-foxes-stare.loca.lt\n",
            "2024-06-25 05:18:23.357519: E external/local_xla/xla/stream_executor/cuda/cuda_dnn.cc:9261] Unable to register cuDNN factory: Attempting to register factory for plugin cuDNN when one has already been registered\n",
            "2024-06-25 05:18:23.357570: E external/local_xla/xla/stream_executor/cuda/cuda_fft.cc:607] Unable to register cuFFT factory: Attempting to register factory for plugin cuFFT when one has already been registered\n",
            "2024-06-25 05:18:23.467801: E external/local_xla/xla/stream_executor/cuda/cuda_blas.cc:1515] Unable to register cuBLAS factory: Attempting to register factory for plugin cuBLAS when one has already been registered\n",
            "2024-06-25 05:18:23.690021: I tensorflow/core/platform/cpu_feature_guard.cc:182] This TensorFlow binary is optimized to use available CPU instructions in performance-critical operations.\n",
            "To enable the following instructions: AVX2 FMA, in other operations, rebuild TensorFlow with the appropriate compiler flags.\n",
            "2024-06-25 05:18:24.941271: W tensorflow/compiler/tf2tensorrt/utils/py_utils.cc:38] TF-TRT Warning: Could not find TensorRT\n",
            "[nltk_data] Downloading package punkt to /root/nltk_data...\n",
            "[nltk_data]   Unzipping tokenizers/punkt.zip.\n",
            "modules.json: 100% 229/229 [00:00<00:00, 1.62MB/s]\n",
            "config_sentence_transformers.json: 100% 122/122 [00:00<00:00, 997kB/s]\n",
            "README.md: 100% 4.04k/4.04k [00:00<00:00, 30.2MB/s]\n",
            "sentence_bert_config.json: 100% 53.0/53.0 [00:00<00:00, 377kB/s]\n",
            "/usr/local/lib/python3.10/dist-packages/huggingface_hub/file_download.py:1132: FutureWarning: `resume_download` is deprecated and will be removed in version 1.0.0. Downloads always resume when possible. If you want to force a new download, use `force_download=True`.\n",
            "  warnings.warn(\n",
            "tokenizer_config.json: 100% 314/314 [00:00<00:00, 1.86MB/s]\n",
            "vocab.txt: 100% 232k/232k [00:00<00:00, 23.6MB/s]\n",
            "tokenizer.json: 100% 466k/466k [00:00<00:00, 1.09MB/s]\n",
            "special_tokens_map.json: 100% 112/112 [00:00<00:00, 695kB/s]\n",
            "1_Pooling/config.json: 100% 190/190 [00:00<00:00, 1.10MB/s]\n",
            "[nltk_data] Downloading package punkt to /root/nltk_data...\n",
            "[nltk_data]   Package punkt is already up-to-date!\n",
            "[nltk_data] Downloading package punkt to /root/nltk_data...\n",
            "[nltk_data]   Package punkt is already up-to-date!\n",
            "2024-06-25 05:20:42.317 Uncaught app exception\n",
            "Traceback (most recent call last):\n",
            "  File \"/usr/local/lib/python3.10/dist-packages/streamlit/runtime/scriptrunner/script_runner.py\", line 589, in _run_script\n",
            "    exec(code, module.__dict__)\n",
            "  File \"/content/app.py\", line 53, in <module>\n",
            "    main()\n",
            "  File \"/content/app.py\", line 36, in main\n",
            "    summarized_news = summarize_news(text, num_sentences)\n",
            "  File \"/content/app.py\", line 14, in summarize_news\n",
            "    sentence_indices = cosine_similarities.sum(axis=1).topk(num_sentences).indices\n",
            "RuntimeError: selected index k out of range\n",
            "[nltk_data] Downloading package punkt to /root/nltk_data...\n",
            "[nltk_data]   Package punkt is already up-to-date!\n",
            "[nltk_data] Downloading package punkt to /root/nltk_data...\n",
            "[nltk_data]   Package punkt is already up-to-date!\n",
            "[nltk_data] Downloading package punkt to /root/nltk_data...\n",
            "[nltk_data]   Package punkt is already up-to-date!\n",
            "[nltk_data] Downloading package punkt to /root/nltk_data...\n",
            "[nltk_data]   Package punkt is already up-to-date!\n",
            "[nltk_data] Downloading package punkt to /root/nltk_data...\n",
            "[nltk_data]   Package punkt is already up-to-date!\n",
            "[nltk_data] Downloading package punkt to /root/nltk_data...\n",
            "[nltk_data]   Package punkt is already up-to-date!\n",
            "[nltk_data] Downloading package punkt to /root/nltk_data...\n",
            "[nltk_data]   Package punkt is already up-to-date!\n",
            "[nltk_data] Downloading package punkt to /root/nltk_data...\n",
            "[nltk_data]   Package punkt is already up-to-date!\n",
            "[nltk_data] Downloading package punkt to /root/nltk_data...\n",
            "[nltk_data]   Package punkt is already up-to-date!\n",
            "[nltk_data] Downloading package punkt to /root/nltk_data...\n",
            "[nltk_data]   Package punkt is already up-to-date!\n",
            "[nltk_data] Downloading package punkt to /root/nltk_data...\n",
            "[nltk_data]   Package punkt is already up-to-date!\n",
            "[nltk_data] Downloading package punkt to /root/nltk_data...\n",
            "[nltk_data]   Package punkt is already up-to-date!\n",
            "[nltk_data] Downloading package punkt to /root/nltk_data...\n",
            "[nltk_data]   Package punkt is already up-to-date!\n",
            "[nltk_data] Downloading package punkt to /root/nltk_data...\n",
            "[nltk_data]   Package punkt is already up-to-date!\n",
            "[nltk_data] Downloading package punkt to /root/nltk_data...\n",
            "[nltk_data]   Package punkt is already up-to-date!\n",
            "[nltk_data] Downloading package punkt to /root/nltk_data...\n",
            "[nltk_data]   Package punkt is already up-to-date!\n",
            "[nltk_data] Downloading package punkt to /root/nltk_data...\n",
            "[nltk_data]   Package punkt is already up-to-date!\n",
            "[nltk_data] Downloading package punkt to /root/nltk_data...\n",
            "[nltk_data]   Package punkt is already up-to-date!\n",
            "[nltk_data] Downloading package punkt to /root/nltk_data...\n",
            "[nltk_data]   Package punkt is already up-to-date!\n",
            "[nltk_data] Downloading package punkt to /root/nltk_data...\n",
            "[nltk_data]   Package punkt is already up-to-date!\n",
            "[nltk_data] Downloading package punkt to /root/nltk_data...\n",
            "[nltk_data]   Package punkt is already up-to-date!\n",
            "[nltk_data] Downloading package punkt to /root/nltk_data...\n",
            "[nltk_data]   Package punkt is already up-to-date!\n",
            "[nltk_data] Downloading package punkt to /root/nltk_data...\n",
            "[nltk_data]   Package punkt is already up-to-date!\n",
            "[nltk_data] Downloading package punkt to /root/nltk_data...\n",
            "[nltk_data]   Package punkt is already up-to-date!\n",
            "[nltk_data] Downloading package punkt to /root/nltk_data...\n",
            "[nltk_data]   Package punkt is already up-to-date!\n",
            "\u001b[34m  Stopping...\u001b[0m\n",
            "^C\n"
          ]
        }
      ]
    }
  ],
  "metadata": {
    "accelerator": "GPU",
    "colab": {
      "provenance": [],
      "gpuType": "T4",
      "include_colab_link": true
    },
    "kernelspec": {
      "display_name": "Python 3",
      "name": "python3"
    },
    "language_info": {
      "codemirror_mode": {
        "name": "ipython",
        "version": 3
      },
      "file_extension": ".py",
      "mimetype": "text/x-python",
      "name": "python",
      "nbconvert_exporter": "python",
      "pygments_lexer": "ipython3",
      "version": "3.12.3"
    },
    "widgets": {
      "application/vnd.jupyter.widget-state+json": {
        "32416e4ba56745a69f5a30bb94a897d5": {
          "model_module": "@jupyter-widgets/controls",
          "model_name": "HBoxModel",
          "model_module_version": "1.5.0",
          "state": {
            "_dom_classes": [],
            "_model_module": "@jupyter-widgets/controls",
            "_model_module_version": "1.5.0",
            "_model_name": "HBoxModel",
            "_view_count": null,
            "_view_module": "@jupyter-widgets/controls",
            "_view_module_version": "1.5.0",
            "_view_name": "HBoxView",
            "box_style": "",
            "children": [
              "IPY_MODEL_92c5128df96543979ddcea397f920025",
              "IPY_MODEL_a57da609f5eb4685ac86912d05f38e0a",
              "IPY_MODEL_99e831811c57433bac8e689011c79734"
            ],
            "layout": "IPY_MODEL_0c38c8d38afb43088dc1b54a0b8eb45a"
          }
        },
        "92c5128df96543979ddcea397f920025": {
          "model_module": "@jupyter-widgets/controls",
          "model_name": "HTMLModel",
          "model_module_version": "1.5.0",
          "state": {
            "_dom_classes": [],
            "_model_module": "@jupyter-widgets/controls",
            "_model_module_version": "1.5.0",
            "_model_name": "HTMLModel",
            "_view_count": null,
            "_view_module": "@jupyter-widgets/controls",
            "_view_module_version": "1.5.0",
            "_view_name": "HTMLView",
            "description": "",
            "description_tooltip": null,
            "layout": "IPY_MODEL_00dffb30d13040efa45c09d3ec92d21c",
            "placeholder": "​",
            "style": "IPY_MODEL_428bf26319a14869aa46b74c47a71885",
            "value": "tokenizer_config.json: 100%"
          }
        },
        "a57da609f5eb4685ac86912d05f38e0a": {
          "model_module": "@jupyter-widgets/controls",
          "model_name": "FloatProgressModel",
          "model_module_version": "1.5.0",
          "state": {
            "_dom_classes": [],
            "_model_module": "@jupyter-widgets/controls",
            "_model_module_version": "1.5.0",
            "_model_name": "FloatProgressModel",
            "_view_count": null,
            "_view_module": "@jupyter-widgets/controls",
            "_view_module_version": "1.5.0",
            "_view_name": "ProgressView",
            "bar_style": "success",
            "description": "",
            "description_tooltip": null,
            "layout": "IPY_MODEL_b08cc7b0317a403d9f88e45093ca54f5",
            "max": 314,
            "min": 0,
            "orientation": "horizontal",
            "style": "IPY_MODEL_c525f81f7625494e80ad0dfb425066f1",
            "value": 314
          }
        },
        "99e831811c57433bac8e689011c79734": {
          "model_module": "@jupyter-widgets/controls",
          "model_name": "HTMLModel",
          "model_module_version": "1.5.0",
          "state": {
            "_dom_classes": [],
            "_model_module": "@jupyter-widgets/controls",
            "_model_module_version": "1.5.0",
            "_model_name": "HTMLModel",
            "_view_count": null,
            "_view_module": "@jupyter-widgets/controls",
            "_view_module_version": "1.5.0",
            "_view_name": "HTMLView",
            "description": "",
            "description_tooltip": null,
            "layout": "IPY_MODEL_f8564aba5e52439b810dbf558e6b4b40",
            "placeholder": "​",
            "style": "IPY_MODEL_e312989837824a3bb803aa323047e343",
            "value": " 314/314 [00:00&lt;00:00, 22.1kB/s]"
          }
        },
        "0c38c8d38afb43088dc1b54a0b8eb45a": {
          "model_module": "@jupyter-widgets/base",
          "model_name": "LayoutModel",
          "model_module_version": "1.2.0",
          "state": {
            "_model_module": "@jupyter-widgets/base",
            "_model_module_version": "1.2.0",
            "_model_name": "LayoutModel",
            "_view_count": null,
            "_view_module": "@jupyter-widgets/base",
            "_view_module_version": "1.2.0",
            "_view_name": "LayoutView",
            "align_content": null,
            "align_items": null,
            "align_self": null,
            "border": null,
            "bottom": null,
            "display": null,
            "flex": null,
            "flex_flow": null,
            "grid_area": null,
            "grid_auto_columns": null,
            "grid_auto_flow": null,
            "grid_auto_rows": null,
            "grid_column": null,
            "grid_gap": null,
            "grid_row": null,
            "grid_template_areas": null,
            "grid_template_columns": null,
            "grid_template_rows": null,
            "height": null,
            "justify_content": null,
            "justify_items": null,
            "left": null,
            "margin": null,
            "max_height": null,
            "max_width": null,
            "min_height": null,
            "min_width": null,
            "object_fit": null,
            "object_position": null,
            "order": null,
            "overflow": null,
            "overflow_x": null,
            "overflow_y": null,
            "padding": null,
            "right": null,
            "top": null,
            "visibility": null,
            "width": null
          }
        },
        "00dffb30d13040efa45c09d3ec92d21c": {
          "model_module": "@jupyter-widgets/base",
          "model_name": "LayoutModel",
          "model_module_version": "1.2.0",
          "state": {
            "_model_module": "@jupyter-widgets/base",
            "_model_module_version": "1.2.0",
            "_model_name": "LayoutModel",
            "_view_count": null,
            "_view_module": "@jupyter-widgets/base",
            "_view_module_version": "1.2.0",
            "_view_name": "LayoutView",
            "align_content": null,
            "align_items": null,
            "align_self": null,
            "border": null,
            "bottom": null,
            "display": null,
            "flex": null,
            "flex_flow": null,
            "grid_area": null,
            "grid_auto_columns": null,
            "grid_auto_flow": null,
            "grid_auto_rows": null,
            "grid_column": null,
            "grid_gap": null,
            "grid_row": null,
            "grid_template_areas": null,
            "grid_template_columns": null,
            "grid_template_rows": null,
            "height": null,
            "justify_content": null,
            "justify_items": null,
            "left": null,
            "margin": null,
            "max_height": null,
            "max_width": null,
            "min_height": null,
            "min_width": null,
            "object_fit": null,
            "object_position": null,
            "order": null,
            "overflow": null,
            "overflow_x": null,
            "overflow_y": null,
            "padding": null,
            "right": null,
            "top": null,
            "visibility": null,
            "width": null
          }
        },
        "428bf26319a14869aa46b74c47a71885": {
          "model_module": "@jupyter-widgets/controls",
          "model_name": "DescriptionStyleModel",
          "model_module_version": "1.5.0",
          "state": {
            "_model_module": "@jupyter-widgets/controls",
            "_model_module_version": "1.5.0",
            "_model_name": "DescriptionStyleModel",
            "_view_count": null,
            "_view_module": "@jupyter-widgets/base",
            "_view_module_version": "1.2.0",
            "_view_name": "StyleView",
            "description_width": ""
          }
        },
        "b08cc7b0317a403d9f88e45093ca54f5": {
          "model_module": "@jupyter-widgets/base",
          "model_name": "LayoutModel",
          "model_module_version": "1.2.0",
          "state": {
            "_model_module": "@jupyter-widgets/base",
            "_model_module_version": "1.2.0",
            "_model_name": "LayoutModel",
            "_view_count": null,
            "_view_module": "@jupyter-widgets/base",
            "_view_module_version": "1.2.0",
            "_view_name": "LayoutView",
            "align_content": null,
            "align_items": null,
            "align_self": null,
            "border": null,
            "bottom": null,
            "display": null,
            "flex": null,
            "flex_flow": null,
            "grid_area": null,
            "grid_auto_columns": null,
            "grid_auto_flow": null,
            "grid_auto_rows": null,
            "grid_column": null,
            "grid_gap": null,
            "grid_row": null,
            "grid_template_areas": null,
            "grid_template_columns": null,
            "grid_template_rows": null,
            "height": null,
            "justify_content": null,
            "justify_items": null,
            "left": null,
            "margin": null,
            "max_height": null,
            "max_width": null,
            "min_height": null,
            "min_width": null,
            "object_fit": null,
            "object_position": null,
            "order": null,
            "overflow": null,
            "overflow_x": null,
            "overflow_y": null,
            "padding": null,
            "right": null,
            "top": null,
            "visibility": null,
            "width": null
          }
        },
        "c525f81f7625494e80ad0dfb425066f1": {
          "model_module": "@jupyter-widgets/controls",
          "model_name": "ProgressStyleModel",
          "model_module_version": "1.5.0",
          "state": {
            "_model_module": "@jupyter-widgets/controls",
            "_model_module_version": "1.5.0",
            "_model_name": "ProgressStyleModel",
            "_view_count": null,
            "_view_module": "@jupyter-widgets/base",
            "_view_module_version": "1.2.0",
            "_view_name": "StyleView",
            "bar_color": null,
            "description_width": ""
          }
        },
        "f8564aba5e52439b810dbf558e6b4b40": {
          "model_module": "@jupyter-widgets/base",
          "model_name": "LayoutModel",
          "model_module_version": "1.2.0",
          "state": {
            "_model_module": "@jupyter-widgets/base",
            "_model_module_version": "1.2.0",
            "_model_name": "LayoutModel",
            "_view_count": null,
            "_view_module": "@jupyter-widgets/base",
            "_view_module_version": "1.2.0",
            "_view_name": "LayoutView",
            "align_content": null,
            "align_items": null,
            "align_self": null,
            "border": null,
            "bottom": null,
            "display": null,
            "flex": null,
            "flex_flow": null,
            "grid_area": null,
            "grid_auto_columns": null,
            "grid_auto_flow": null,
            "grid_auto_rows": null,
            "grid_column": null,
            "grid_gap": null,
            "grid_row": null,
            "grid_template_areas": null,
            "grid_template_columns": null,
            "grid_template_rows": null,
            "height": null,
            "justify_content": null,
            "justify_items": null,
            "left": null,
            "margin": null,
            "max_height": null,
            "max_width": null,
            "min_height": null,
            "min_width": null,
            "object_fit": null,
            "object_position": null,
            "order": null,
            "overflow": null,
            "overflow_x": null,
            "overflow_y": null,
            "padding": null,
            "right": null,
            "top": null,
            "visibility": null,
            "width": null
          }
        },
        "e312989837824a3bb803aa323047e343": {
          "model_module": "@jupyter-widgets/controls",
          "model_name": "DescriptionStyleModel",
          "model_module_version": "1.5.0",
          "state": {
            "_model_module": "@jupyter-widgets/controls",
            "_model_module_version": "1.5.0",
            "_model_name": "DescriptionStyleModel",
            "_view_count": null,
            "_view_module": "@jupyter-widgets/base",
            "_view_module_version": "1.2.0",
            "_view_name": "StyleView",
            "description_width": ""
          }
        },
        "c80f9566c87041deacc0c5424012069c": {
          "model_module": "@jupyter-widgets/controls",
          "model_name": "HBoxModel",
          "model_module_version": "1.5.0",
          "state": {
            "_dom_classes": [],
            "_model_module": "@jupyter-widgets/controls",
            "_model_module_version": "1.5.0",
            "_model_name": "HBoxModel",
            "_view_count": null,
            "_view_module": "@jupyter-widgets/controls",
            "_view_module_version": "1.5.0",
            "_view_name": "HBoxView",
            "box_style": "",
            "children": [
              "IPY_MODEL_d740ba01b6ff4f30a32592fc7e468817",
              "IPY_MODEL_3b58b6ca9a474a309c70cf7836517203",
              "IPY_MODEL_dfd20a76d7124dbc9f55ab50a7a0ab51"
            ],
            "layout": "IPY_MODEL_30a99bf5c89e46f19a39754ecd522f1d"
          }
        },
        "d740ba01b6ff4f30a32592fc7e468817": {
          "model_module": "@jupyter-widgets/controls",
          "model_name": "HTMLModel",
          "model_module_version": "1.5.0",
          "state": {
            "_dom_classes": [],
            "_model_module": "@jupyter-widgets/controls",
            "_model_module_version": "1.5.0",
            "_model_name": "HTMLModel",
            "_view_count": null,
            "_view_module": "@jupyter-widgets/controls",
            "_view_module_version": "1.5.0",
            "_view_name": "HTMLView",
            "description": "",
            "description_tooltip": null,
            "layout": "IPY_MODEL_a8e1c29caa4d4a72bc821d525871bea5",
            "placeholder": "​",
            "style": "IPY_MODEL_eac215b299804790beba895f90a0c4a7",
            "value": "config.json: 100%"
          }
        },
        "3b58b6ca9a474a309c70cf7836517203": {
          "model_module": "@jupyter-widgets/controls",
          "model_name": "FloatProgressModel",
          "model_module_version": "1.5.0",
          "state": {
            "_dom_classes": [],
            "_model_module": "@jupyter-widgets/controls",
            "_model_module_version": "1.5.0",
            "_model_name": "FloatProgressModel",
            "_view_count": null,
            "_view_module": "@jupyter-widgets/controls",
            "_view_module_version": "1.5.0",
            "_view_name": "ProgressView",
            "bar_style": "success",
            "description": "",
            "description_tooltip": null,
            "layout": "IPY_MODEL_5538e60bcc30441198feb88bd627af19",
            "max": 629,
            "min": 0,
            "orientation": "horizontal",
            "style": "IPY_MODEL_adf244f201a44b5a876947910fe44c08",
            "value": 629
          }
        },
        "dfd20a76d7124dbc9f55ab50a7a0ab51": {
          "model_module": "@jupyter-widgets/controls",
          "model_name": "HTMLModel",
          "model_module_version": "1.5.0",
          "state": {
            "_dom_classes": [],
            "_model_module": "@jupyter-widgets/controls",
            "_model_module_version": "1.5.0",
            "_model_name": "HTMLModel",
            "_view_count": null,
            "_view_module": "@jupyter-widgets/controls",
            "_view_module_version": "1.5.0",
            "_view_name": "HTMLView",
            "description": "",
            "description_tooltip": null,
            "layout": "IPY_MODEL_2d1384bed040442687f839851d0c29c2",
            "placeholder": "​",
            "style": "IPY_MODEL_f617853546bb4ae3969014b6f991c838",
            "value": " 629/629 [00:00&lt;00:00, 45.1kB/s]"
          }
        },
        "30a99bf5c89e46f19a39754ecd522f1d": {
          "model_module": "@jupyter-widgets/base",
          "model_name": "LayoutModel",
          "model_module_version": "1.2.0",
          "state": {
            "_model_module": "@jupyter-widgets/base",
            "_model_module_version": "1.2.0",
            "_model_name": "LayoutModel",
            "_view_count": null,
            "_view_module": "@jupyter-widgets/base",
            "_view_module_version": "1.2.0",
            "_view_name": "LayoutView",
            "align_content": null,
            "align_items": null,
            "align_self": null,
            "border": null,
            "bottom": null,
            "display": null,
            "flex": null,
            "flex_flow": null,
            "grid_area": null,
            "grid_auto_columns": null,
            "grid_auto_flow": null,
            "grid_auto_rows": null,
            "grid_column": null,
            "grid_gap": null,
            "grid_row": null,
            "grid_template_areas": null,
            "grid_template_columns": null,
            "grid_template_rows": null,
            "height": null,
            "justify_content": null,
            "justify_items": null,
            "left": null,
            "margin": null,
            "max_height": null,
            "max_width": null,
            "min_height": null,
            "min_width": null,
            "object_fit": null,
            "object_position": null,
            "order": null,
            "overflow": null,
            "overflow_x": null,
            "overflow_y": null,
            "padding": null,
            "right": null,
            "top": null,
            "visibility": null,
            "width": null
          }
        },
        "a8e1c29caa4d4a72bc821d525871bea5": {
          "model_module": "@jupyter-widgets/base",
          "model_name": "LayoutModel",
          "model_module_version": "1.2.0",
          "state": {
            "_model_module": "@jupyter-widgets/base",
            "_model_module_version": "1.2.0",
            "_model_name": "LayoutModel",
            "_view_count": null,
            "_view_module": "@jupyter-widgets/base",
            "_view_module_version": "1.2.0",
            "_view_name": "LayoutView",
            "align_content": null,
            "align_items": null,
            "align_self": null,
            "border": null,
            "bottom": null,
            "display": null,
            "flex": null,
            "flex_flow": null,
            "grid_area": null,
            "grid_auto_columns": null,
            "grid_auto_flow": null,
            "grid_auto_rows": null,
            "grid_column": null,
            "grid_gap": null,
            "grid_row": null,
            "grid_template_areas": null,
            "grid_template_columns": null,
            "grid_template_rows": null,
            "height": null,
            "justify_content": null,
            "justify_items": null,
            "left": null,
            "margin": null,
            "max_height": null,
            "max_width": null,
            "min_height": null,
            "min_width": null,
            "object_fit": null,
            "object_position": null,
            "order": null,
            "overflow": null,
            "overflow_x": null,
            "overflow_y": null,
            "padding": null,
            "right": null,
            "top": null,
            "visibility": null,
            "width": null
          }
        },
        "eac215b299804790beba895f90a0c4a7": {
          "model_module": "@jupyter-widgets/controls",
          "model_name": "DescriptionStyleModel",
          "model_module_version": "1.5.0",
          "state": {
            "_model_module": "@jupyter-widgets/controls",
            "_model_module_version": "1.5.0",
            "_model_name": "DescriptionStyleModel",
            "_view_count": null,
            "_view_module": "@jupyter-widgets/base",
            "_view_module_version": "1.2.0",
            "_view_name": "StyleView",
            "description_width": ""
          }
        },
        "5538e60bcc30441198feb88bd627af19": {
          "model_module": "@jupyter-widgets/base",
          "model_name": "LayoutModel",
          "model_module_version": "1.2.0",
          "state": {
            "_model_module": "@jupyter-widgets/base",
            "_model_module_version": "1.2.0",
            "_model_name": "LayoutModel",
            "_view_count": null,
            "_view_module": "@jupyter-widgets/base",
            "_view_module_version": "1.2.0",
            "_view_name": "LayoutView",
            "align_content": null,
            "align_items": null,
            "align_self": null,
            "border": null,
            "bottom": null,
            "display": null,
            "flex": null,
            "flex_flow": null,
            "grid_area": null,
            "grid_auto_columns": null,
            "grid_auto_flow": null,
            "grid_auto_rows": null,
            "grid_column": null,
            "grid_gap": null,
            "grid_row": null,
            "grid_template_areas": null,
            "grid_template_columns": null,
            "grid_template_rows": null,
            "height": null,
            "justify_content": null,
            "justify_items": null,
            "left": null,
            "margin": null,
            "max_height": null,
            "max_width": null,
            "min_height": null,
            "min_width": null,
            "object_fit": null,
            "object_position": null,
            "order": null,
            "overflow": null,
            "overflow_x": null,
            "overflow_y": null,
            "padding": null,
            "right": null,
            "top": null,
            "visibility": null,
            "width": null
          }
        },
        "adf244f201a44b5a876947910fe44c08": {
          "model_module": "@jupyter-widgets/controls",
          "model_name": "ProgressStyleModel",
          "model_module_version": "1.5.0",
          "state": {
            "_model_module": "@jupyter-widgets/controls",
            "_model_module_version": "1.5.0",
            "_model_name": "ProgressStyleModel",
            "_view_count": null,
            "_view_module": "@jupyter-widgets/base",
            "_view_module_version": "1.2.0",
            "_view_name": "StyleView",
            "bar_color": null,
            "description_width": ""
          }
        },
        "2d1384bed040442687f839851d0c29c2": {
          "model_module": "@jupyter-widgets/base",
          "model_name": "LayoutModel",
          "model_module_version": "1.2.0",
          "state": {
            "_model_module": "@jupyter-widgets/base",
            "_model_module_version": "1.2.0",
            "_model_name": "LayoutModel",
            "_view_count": null,
            "_view_module": "@jupyter-widgets/base",
            "_view_module_version": "1.2.0",
            "_view_name": "LayoutView",
            "align_content": null,
            "align_items": null,
            "align_self": null,
            "border": null,
            "bottom": null,
            "display": null,
            "flex": null,
            "flex_flow": null,
            "grid_area": null,
            "grid_auto_columns": null,
            "grid_auto_flow": null,
            "grid_auto_rows": null,
            "grid_column": null,
            "grid_gap": null,
            "grid_row": null,
            "grid_template_areas": null,
            "grid_template_columns": null,
            "grid_template_rows": null,
            "height": null,
            "justify_content": null,
            "justify_items": null,
            "left": null,
            "margin": null,
            "max_height": null,
            "max_width": null,
            "min_height": null,
            "min_width": null,
            "object_fit": null,
            "object_position": null,
            "order": null,
            "overflow": null,
            "overflow_x": null,
            "overflow_y": null,
            "padding": null,
            "right": null,
            "top": null,
            "visibility": null,
            "width": null
          }
        },
        "f617853546bb4ae3969014b6f991c838": {
          "model_module": "@jupyter-widgets/controls",
          "model_name": "DescriptionStyleModel",
          "model_module_version": "1.5.0",
          "state": {
            "_model_module": "@jupyter-widgets/controls",
            "_model_module_version": "1.5.0",
            "_model_name": "DescriptionStyleModel",
            "_view_count": null,
            "_view_module": "@jupyter-widgets/base",
            "_view_module_version": "1.2.0",
            "_view_name": "StyleView",
            "description_width": ""
          }
        },
        "af5b882af23c40c19c8104213dd8ac80": {
          "model_module": "@jupyter-widgets/controls",
          "model_name": "HBoxModel",
          "model_module_version": "1.5.0",
          "state": {
            "_dom_classes": [],
            "_model_module": "@jupyter-widgets/controls",
            "_model_module_version": "1.5.0",
            "_model_name": "HBoxModel",
            "_view_count": null,
            "_view_module": "@jupyter-widgets/controls",
            "_view_module_version": "1.5.0",
            "_view_name": "HBoxView",
            "box_style": "",
            "children": [
              "IPY_MODEL_6ce91d073de746edb07b1eb1d53cd7b0",
              "IPY_MODEL_bbb9749f76f04bc8bdae52fd951f04bc",
              "IPY_MODEL_0620c76e5bf34a44a1c604fcba4d972d"
            ],
            "layout": "IPY_MODEL_944003f173a546569e06a9b06b65496c"
          }
        },
        "6ce91d073de746edb07b1eb1d53cd7b0": {
          "model_module": "@jupyter-widgets/controls",
          "model_name": "HTMLModel",
          "model_module_version": "1.5.0",
          "state": {
            "_dom_classes": [],
            "_model_module": "@jupyter-widgets/controls",
            "_model_module_version": "1.5.0",
            "_model_name": "HTMLModel",
            "_view_count": null,
            "_view_module": "@jupyter-widgets/controls",
            "_view_module_version": "1.5.0",
            "_view_name": "HTMLView",
            "description": "",
            "description_tooltip": null,
            "layout": "IPY_MODEL_269aa36d19f14deea3dd289f39b536d3",
            "placeholder": "​",
            "style": "IPY_MODEL_59a157a023384e4f9b20fc67bdf776d8",
            "value": "vocab.txt: 100%"
          }
        },
        "bbb9749f76f04bc8bdae52fd951f04bc": {
          "model_module": "@jupyter-widgets/controls",
          "model_name": "FloatProgressModel",
          "model_module_version": "1.5.0",
          "state": {
            "_dom_classes": [],
            "_model_module": "@jupyter-widgets/controls",
            "_model_module_version": "1.5.0",
            "_model_name": "FloatProgressModel",
            "_view_count": null,
            "_view_module": "@jupyter-widgets/controls",
            "_view_module_version": "1.5.0",
            "_view_name": "ProgressView",
            "bar_style": "success",
            "description": "",
            "description_tooltip": null,
            "layout": "IPY_MODEL_476a242bbc6044a39d84e2e4c6918157",
            "max": 231508,
            "min": 0,
            "orientation": "horizontal",
            "style": "IPY_MODEL_91275a665bf6463e80d91fea134906cf",
            "value": 231508
          }
        },
        "0620c76e5bf34a44a1c604fcba4d972d": {
          "model_module": "@jupyter-widgets/controls",
          "model_name": "HTMLModel",
          "model_module_version": "1.5.0",
          "state": {
            "_dom_classes": [],
            "_model_module": "@jupyter-widgets/controls",
            "_model_module_version": "1.5.0",
            "_model_name": "HTMLModel",
            "_view_count": null,
            "_view_module": "@jupyter-widgets/controls",
            "_view_module_version": "1.5.0",
            "_view_name": "HTMLView",
            "description": "",
            "description_tooltip": null,
            "layout": "IPY_MODEL_08338c1055064d2d857ba8acfcfe4249",
            "placeholder": "​",
            "style": "IPY_MODEL_861865dae2554041950db498120c71c6",
            "value": " 232k/232k [00:00&lt;00:00, 3.12MB/s]"
          }
        },
        "944003f173a546569e06a9b06b65496c": {
          "model_module": "@jupyter-widgets/base",
          "model_name": "LayoutModel",
          "model_module_version": "1.2.0",
          "state": {
            "_model_module": "@jupyter-widgets/base",
            "_model_module_version": "1.2.0",
            "_model_name": "LayoutModel",
            "_view_count": null,
            "_view_module": "@jupyter-widgets/base",
            "_view_module_version": "1.2.0",
            "_view_name": "LayoutView",
            "align_content": null,
            "align_items": null,
            "align_self": null,
            "border": null,
            "bottom": null,
            "display": null,
            "flex": null,
            "flex_flow": null,
            "grid_area": null,
            "grid_auto_columns": null,
            "grid_auto_flow": null,
            "grid_auto_rows": null,
            "grid_column": null,
            "grid_gap": null,
            "grid_row": null,
            "grid_template_areas": null,
            "grid_template_columns": null,
            "grid_template_rows": null,
            "height": null,
            "justify_content": null,
            "justify_items": null,
            "left": null,
            "margin": null,
            "max_height": null,
            "max_width": null,
            "min_height": null,
            "min_width": null,
            "object_fit": null,
            "object_position": null,
            "order": null,
            "overflow": null,
            "overflow_x": null,
            "overflow_y": null,
            "padding": null,
            "right": null,
            "top": null,
            "visibility": null,
            "width": null
          }
        },
        "269aa36d19f14deea3dd289f39b536d3": {
          "model_module": "@jupyter-widgets/base",
          "model_name": "LayoutModel",
          "model_module_version": "1.2.0",
          "state": {
            "_model_module": "@jupyter-widgets/base",
            "_model_module_version": "1.2.0",
            "_model_name": "LayoutModel",
            "_view_count": null,
            "_view_module": "@jupyter-widgets/base",
            "_view_module_version": "1.2.0",
            "_view_name": "LayoutView",
            "align_content": null,
            "align_items": null,
            "align_self": null,
            "border": null,
            "bottom": null,
            "display": null,
            "flex": null,
            "flex_flow": null,
            "grid_area": null,
            "grid_auto_columns": null,
            "grid_auto_flow": null,
            "grid_auto_rows": null,
            "grid_column": null,
            "grid_gap": null,
            "grid_row": null,
            "grid_template_areas": null,
            "grid_template_columns": null,
            "grid_template_rows": null,
            "height": null,
            "justify_content": null,
            "justify_items": null,
            "left": null,
            "margin": null,
            "max_height": null,
            "max_width": null,
            "min_height": null,
            "min_width": null,
            "object_fit": null,
            "object_position": null,
            "order": null,
            "overflow": null,
            "overflow_x": null,
            "overflow_y": null,
            "padding": null,
            "right": null,
            "top": null,
            "visibility": null,
            "width": null
          }
        },
        "59a157a023384e4f9b20fc67bdf776d8": {
          "model_module": "@jupyter-widgets/controls",
          "model_name": "DescriptionStyleModel",
          "model_module_version": "1.5.0",
          "state": {
            "_model_module": "@jupyter-widgets/controls",
            "_model_module_version": "1.5.0",
            "_model_name": "DescriptionStyleModel",
            "_view_count": null,
            "_view_module": "@jupyter-widgets/base",
            "_view_module_version": "1.2.0",
            "_view_name": "StyleView",
            "description_width": ""
          }
        },
        "476a242bbc6044a39d84e2e4c6918157": {
          "model_module": "@jupyter-widgets/base",
          "model_name": "LayoutModel",
          "model_module_version": "1.2.0",
          "state": {
            "_model_module": "@jupyter-widgets/base",
            "_model_module_version": "1.2.0",
            "_model_name": "LayoutModel",
            "_view_count": null,
            "_view_module": "@jupyter-widgets/base",
            "_view_module_version": "1.2.0",
            "_view_name": "LayoutView",
            "align_content": null,
            "align_items": null,
            "align_self": null,
            "border": null,
            "bottom": null,
            "display": null,
            "flex": null,
            "flex_flow": null,
            "grid_area": null,
            "grid_auto_columns": null,
            "grid_auto_flow": null,
            "grid_auto_rows": null,
            "grid_column": null,
            "grid_gap": null,
            "grid_row": null,
            "grid_template_areas": null,
            "grid_template_columns": null,
            "grid_template_rows": null,
            "height": null,
            "justify_content": null,
            "justify_items": null,
            "left": null,
            "margin": null,
            "max_height": null,
            "max_width": null,
            "min_height": null,
            "min_width": null,
            "object_fit": null,
            "object_position": null,
            "order": null,
            "overflow": null,
            "overflow_x": null,
            "overflow_y": null,
            "padding": null,
            "right": null,
            "top": null,
            "visibility": null,
            "width": null
          }
        },
        "91275a665bf6463e80d91fea134906cf": {
          "model_module": "@jupyter-widgets/controls",
          "model_name": "ProgressStyleModel",
          "model_module_version": "1.5.0",
          "state": {
            "_model_module": "@jupyter-widgets/controls",
            "_model_module_version": "1.5.0",
            "_model_name": "ProgressStyleModel",
            "_view_count": null,
            "_view_module": "@jupyter-widgets/base",
            "_view_module_version": "1.2.0",
            "_view_name": "StyleView",
            "bar_color": null,
            "description_width": ""
          }
        },
        "08338c1055064d2d857ba8acfcfe4249": {
          "model_module": "@jupyter-widgets/base",
          "model_name": "LayoutModel",
          "model_module_version": "1.2.0",
          "state": {
            "_model_module": "@jupyter-widgets/base",
            "_model_module_version": "1.2.0",
            "_model_name": "LayoutModel",
            "_view_count": null,
            "_view_module": "@jupyter-widgets/base",
            "_view_module_version": "1.2.0",
            "_view_name": "LayoutView",
            "align_content": null,
            "align_items": null,
            "align_self": null,
            "border": null,
            "bottom": null,
            "display": null,
            "flex": null,
            "flex_flow": null,
            "grid_area": null,
            "grid_auto_columns": null,
            "grid_auto_flow": null,
            "grid_auto_rows": null,
            "grid_column": null,
            "grid_gap": null,
            "grid_row": null,
            "grid_template_areas": null,
            "grid_template_columns": null,
            "grid_template_rows": null,
            "height": null,
            "justify_content": null,
            "justify_items": null,
            "left": null,
            "margin": null,
            "max_height": null,
            "max_width": null,
            "min_height": null,
            "min_width": null,
            "object_fit": null,
            "object_position": null,
            "order": null,
            "overflow": null,
            "overflow_x": null,
            "overflow_y": null,
            "padding": null,
            "right": null,
            "top": null,
            "visibility": null,
            "width": null
          }
        },
        "861865dae2554041950db498120c71c6": {
          "model_module": "@jupyter-widgets/controls",
          "model_name": "DescriptionStyleModel",
          "model_module_version": "1.5.0",
          "state": {
            "_model_module": "@jupyter-widgets/controls",
            "_model_module_version": "1.5.0",
            "_model_name": "DescriptionStyleModel",
            "_view_count": null,
            "_view_module": "@jupyter-widgets/base",
            "_view_module_version": "1.2.0",
            "_view_name": "StyleView",
            "description_width": ""
          }
        },
        "db71b678968b471f951588fc288f3782": {
          "model_module": "@jupyter-widgets/controls",
          "model_name": "HBoxModel",
          "model_module_version": "1.5.0",
          "state": {
            "_dom_classes": [],
            "_model_module": "@jupyter-widgets/controls",
            "_model_module_version": "1.5.0",
            "_model_name": "HBoxModel",
            "_view_count": null,
            "_view_module": "@jupyter-widgets/controls",
            "_view_module_version": "1.5.0",
            "_view_name": "HBoxView",
            "box_style": "",
            "children": [
              "IPY_MODEL_6e833051dcb744c59cd5be2696dba247",
              "IPY_MODEL_b058e35450754037929a97350320e5c2",
              "IPY_MODEL_cc60ddf63d0245ee92e93b2cc341a166"
            ],
            "layout": "IPY_MODEL_6a87a15c675840ed9fe2e3fce17e52a1"
          }
        },
        "6e833051dcb744c59cd5be2696dba247": {
          "model_module": "@jupyter-widgets/controls",
          "model_name": "HTMLModel",
          "model_module_version": "1.5.0",
          "state": {
            "_dom_classes": [],
            "_model_module": "@jupyter-widgets/controls",
            "_model_module_version": "1.5.0",
            "_model_name": "HTMLModel",
            "_view_count": null,
            "_view_module": "@jupyter-widgets/controls",
            "_view_module_version": "1.5.0",
            "_view_name": "HTMLView",
            "description": "",
            "description_tooltip": null,
            "layout": "IPY_MODEL_c1db3bea03ea4867bd6c8d5bb8d1170c",
            "placeholder": "​",
            "style": "IPY_MODEL_9b5c4a6f96034b5ea1783a946ae4fe69",
            "value": "tokenizer.json: 100%"
          }
        },
        "b058e35450754037929a97350320e5c2": {
          "model_module": "@jupyter-widgets/controls",
          "model_name": "FloatProgressModel",
          "model_module_version": "1.5.0",
          "state": {
            "_dom_classes": [],
            "_model_module": "@jupyter-widgets/controls",
            "_model_module_version": "1.5.0",
            "_model_name": "FloatProgressModel",
            "_view_count": null,
            "_view_module": "@jupyter-widgets/controls",
            "_view_module_version": "1.5.0",
            "_view_name": "ProgressView",
            "bar_style": "success",
            "description": "",
            "description_tooltip": null,
            "layout": "IPY_MODEL_c36b6a0eeabb49dab4dde72a0edaa5fa",
            "max": 466248,
            "min": 0,
            "orientation": "horizontal",
            "style": "IPY_MODEL_f204173716074f5fbe8efcc7729e3f7d",
            "value": 466248
          }
        },
        "cc60ddf63d0245ee92e93b2cc341a166": {
          "model_module": "@jupyter-widgets/controls",
          "model_name": "HTMLModel",
          "model_module_version": "1.5.0",
          "state": {
            "_dom_classes": [],
            "_model_module": "@jupyter-widgets/controls",
            "_model_module_version": "1.5.0",
            "_model_name": "HTMLModel",
            "_view_count": null,
            "_view_module": "@jupyter-widgets/controls",
            "_view_module_version": "1.5.0",
            "_view_name": "HTMLView",
            "description": "",
            "description_tooltip": null,
            "layout": "IPY_MODEL_85fb3459301848c78aa0a2bb4d00e5ae",
            "placeholder": "​",
            "style": "IPY_MODEL_16ff4abb386e4eccb70c78606902f7ce",
            "value": " 466k/466k [00:00&lt;00:00, 15.4MB/s]"
          }
        },
        "6a87a15c675840ed9fe2e3fce17e52a1": {
          "model_module": "@jupyter-widgets/base",
          "model_name": "LayoutModel",
          "model_module_version": "1.2.0",
          "state": {
            "_model_module": "@jupyter-widgets/base",
            "_model_module_version": "1.2.0",
            "_model_name": "LayoutModel",
            "_view_count": null,
            "_view_module": "@jupyter-widgets/base",
            "_view_module_version": "1.2.0",
            "_view_name": "LayoutView",
            "align_content": null,
            "align_items": null,
            "align_self": null,
            "border": null,
            "bottom": null,
            "display": null,
            "flex": null,
            "flex_flow": null,
            "grid_area": null,
            "grid_auto_columns": null,
            "grid_auto_flow": null,
            "grid_auto_rows": null,
            "grid_column": null,
            "grid_gap": null,
            "grid_row": null,
            "grid_template_areas": null,
            "grid_template_columns": null,
            "grid_template_rows": null,
            "height": null,
            "justify_content": null,
            "justify_items": null,
            "left": null,
            "margin": null,
            "max_height": null,
            "max_width": null,
            "min_height": null,
            "min_width": null,
            "object_fit": null,
            "object_position": null,
            "order": null,
            "overflow": null,
            "overflow_x": null,
            "overflow_y": null,
            "padding": null,
            "right": null,
            "top": null,
            "visibility": null,
            "width": null
          }
        },
        "c1db3bea03ea4867bd6c8d5bb8d1170c": {
          "model_module": "@jupyter-widgets/base",
          "model_name": "LayoutModel",
          "model_module_version": "1.2.0",
          "state": {
            "_model_module": "@jupyter-widgets/base",
            "_model_module_version": "1.2.0",
            "_model_name": "LayoutModel",
            "_view_count": null,
            "_view_module": "@jupyter-widgets/base",
            "_view_module_version": "1.2.0",
            "_view_name": "LayoutView",
            "align_content": null,
            "align_items": null,
            "align_self": null,
            "border": null,
            "bottom": null,
            "display": null,
            "flex": null,
            "flex_flow": null,
            "grid_area": null,
            "grid_auto_columns": null,
            "grid_auto_flow": null,
            "grid_auto_rows": null,
            "grid_column": null,
            "grid_gap": null,
            "grid_row": null,
            "grid_template_areas": null,
            "grid_template_columns": null,
            "grid_template_rows": null,
            "height": null,
            "justify_content": null,
            "justify_items": null,
            "left": null,
            "margin": null,
            "max_height": null,
            "max_width": null,
            "min_height": null,
            "min_width": null,
            "object_fit": null,
            "object_position": null,
            "order": null,
            "overflow": null,
            "overflow_x": null,
            "overflow_y": null,
            "padding": null,
            "right": null,
            "top": null,
            "visibility": null,
            "width": null
          }
        },
        "9b5c4a6f96034b5ea1783a946ae4fe69": {
          "model_module": "@jupyter-widgets/controls",
          "model_name": "DescriptionStyleModel",
          "model_module_version": "1.5.0",
          "state": {
            "_model_module": "@jupyter-widgets/controls",
            "_model_module_version": "1.5.0",
            "_model_name": "DescriptionStyleModel",
            "_view_count": null,
            "_view_module": "@jupyter-widgets/base",
            "_view_module_version": "1.2.0",
            "_view_name": "StyleView",
            "description_width": ""
          }
        },
        "c36b6a0eeabb49dab4dde72a0edaa5fa": {
          "model_module": "@jupyter-widgets/base",
          "model_name": "LayoutModel",
          "model_module_version": "1.2.0",
          "state": {
            "_model_module": "@jupyter-widgets/base",
            "_model_module_version": "1.2.0",
            "_model_name": "LayoutModel",
            "_view_count": null,
            "_view_module": "@jupyter-widgets/base",
            "_view_module_version": "1.2.0",
            "_view_name": "LayoutView",
            "align_content": null,
            "align_items": null,
            "align_self": null,
            "border": null,
            "bottom": null,
            "display": null,
            "flex": null,
            "flex_flow": null,
            "grid_area": null,
            "grid_auto_columns": null,
            "grid_auto_flow": null,
            "grid_auto_rows": null,
            "grid_column": null,
            "grid_gap": null,
            "grid_row": null,
            "grid_template_areas": null,
            "grid_template_columns": null,
            "grid_template_rows": null,
            "height": null,
            "justify_content": null,
            "justify_items": null,
            "left": null,
            "margin": null,
            "max_height": null,
            "max_width": null,
            "min_height": null,
            "min_width": null,
            "object_fit": null,
            "object_position": null,
            "order": null,
            "overflow": null,
            "overflow_x": null,
            "overflow_y": null,
            "padding": null,
            "right": null,
            "top": null,
            "visibility": null,
            "width": null
          }
        },
        "f204173716074f5fbe8efcc7729e3f7d": {
          "model_module": "@jupyter-widgets/controls",
          "model_name": "ProgressStyleModel",
          "model_module_version": "1.5.0",
          "state": {
            "_model_module": "@jupyter-widgets/controls",
            "_model_module_version": "1.5.0",
            "_model_name": "ProgressStyleModel",
            "_view_count": null,
            "_view_module": "@jupyter-widgets/base",
            "_view_module_version": "1.2.0",
            "_view_name": "StyleView",
            "bar_color": null,
            "description_width": ""
          }
        },
        "85fb3459301848c78aa0a2bb4d00e5ae": {
          "model_module": "@jupyter-widgets/base",
          "model_name": "LayoutModel",
          "model_module_version": "1.2.0",
          "state": {
            "_model_module": "@jupyter-widgets/base",
            "_model_module_version": "1.2.0",
            "_model_name": "LayoutModel",
            "_view_count": null,
            "_view_module": "@jupyter-widgets/base",
            "_view_module_version": "1.2.0",
            "_view_name": "LayoutView",
            "align_content": null,
            "align_items": null,
            "align_self": null,
            "border": null,
            "bottom": null,
            "display": null,
            "flex": null,
            "flex_flow": null,
            "grid_area": null,
            "grid_auto_columns": null,
            "grid_auto_flow": null,
            "grid_auto_rows": null,
            "grid_column": null,
            "grid_gap": null,
            "grid_row": null,
            "grid_template_areas": null,
            "grid_template_columns": null,
            "grid_template_rows": null,
            "height": null,
            "justify_content": null,
            "justify_items": null,
            "left": null,
            "margin": null,
            "max_height": null,
            "max_width": null,
            "min_height": null,
            "min_width": null,
            "object_fit": null,
            "object_position": null,
            "order": null,
            "overflow": null,
            "overflow_x": null,
            "overflow_y": null,
            "padding": null,
            "right": null,
            "top": null,
            "visibility": null,
            "width": null
          }
        },
        "16ff4abb386e4eccb70c78606902f7ce": {
          "model_module": "@jupyter-widgets/controls",
          "model_name": "DescriptionStyleModel",
          "model_module_version": "1.5.0",
          "state": {
            "_model_module": "@jupyter-widgets/controls",
            "_model_module_version": "1.5.0",
            "_model_name": "DescriptionStyleModel",
            "_view_count": null,
            "_view_module": "@jupyter-widgets/base",
            "_view_module_version": "1.2.0",
            "_view_name": "StyleView",
            "description_width": ""
          }
        },
        "4216b09ac4cc4456ab2a9161f7d61b41": {
          "model_module": "@jupyter-widgets/controls",
          "model_name": "HBoxModel",
          "model_module_version": "1.5.0",
          "state": {
            "_dom_classes": [],
            "_model_module": "@jupyter-widgets/controls",
            "_model_module_version": "1.5.0",
            "_model_name": "HBoxModel",
            "_view_count": null,
            "_view_module": "@jupyter-widgets/controls",
            "_view_module_version": "1.5.0",
            "_view_name": "HBoxView",
            "box_style": "",
            "children": [
              "IPY_MODEL_d315d7cd68a049fca330c37ad12d034e",
              "IPY_MODEL_6e2f05196c2c40948bbe90a31174b3e7",
              "IPY_MODEL_5fe8d4cdff614cb685714d9f110220ea"
            ],
            "layout": "IPY_MODEL_3344e7f211f84e79b96f663b47543b3b"
          }
        },
        "d315d7cd68a049fca330c37ad12d034e": {
          "model_module": "@jupyter-widgets/controls",
          "model_name": "HTMLModel",
          "model_module_version": "1.5.0",
          "state": {
            "_dom_classes": [],
            "_model_module": "@jupyter-widgets/controls",
            "_model_module_version": "1.5.0",
            "_model_name": "HTMLModel",
            "_view_count": null,
            "_view_module": "@jupyter-widgets/controls",
            "_view_module_version": "1.5.0",
            "_view_name": "HTMLView",
            "description": "",
            "description_tooltip": null,
            "layout": "IPY_MODEL_a3ae5d286f624e089c4923b9591f8957",
            "placeholder": "​",
            "style": "IPY_MODEL_bb2b6f18495c4b3891ba3170f16042ca",
            "value": "special_tokens_map.json: 100%"
          }
        },
        "6e2f05196c2c40948bbe90a31174b3e7": {
          "model_module": "@jupyter-widgets/controls",
          "model_name": "FloatProgressModel",
          "model_module_version": "1.5.0",
          "state": {
            "_dom_classes": [],
            "_model_module": "@jupyter-widgets/controls",
            "_model_module_version": "1.5.0",
            "_model_name": "FloatProgressModel",
            "_view_count": null,
            "_view_module": "@jupyter-widgets/controls",
            "_view_module_version": "1.5.0",
            "_view_name": "ProgressView",
            "bar_style": "success",
            "description": "",
            "description_tooltip": null,
            "layout": "IPY_MODEL_aa43e1bdae1b4f9bbb885849d6679b89",
            "max": 112,
            "min": 0,
            "orientation": "horizontal",
            "style": "IPY_MODEL_0373ed23c7294e6fa49a0f0741e1ee24",
            "value": 112
          }
        },
        "5fe8d4cdff614cb685714d9f110220ea": {
          "model_module": "@jupyter-widgets/controls",
          "model_name": "HTMLModel",
          "model_module_version": "1.5.0",
          "state": {
            "_dom_classes": [],
            "_model_module": "@jupyter-widgets/controls",
            "_model_module_version": "1.5.0",
            "_model_name": "HTMLModel",
            "_view_count": null,
            "_view_module": "@jupyter-widgets/controls",
            "_view_module_version": "1.5.0",
            "_view_name": "HTMLView",
            "description": "",
            "description_tooltip": null,
            "layout": "IPY_MODEL_773bd8dd95d64d098d305047a155d31e",
            "placeholder": "​",
            "style": "IPY_MODEL_4905d5b3b48d4bbfb9b07c78b3bbb08b",
            "value": " 112/112 [00:00&lt;00:00, 7.74kB/s]"
          }
        },
        "3344e7f211f84e79b96f663b47543b3b": {
          "model_module": "@jupyter-widgets/base",
          "model_name": "LayoutModel",
          "model_module_version": "1.2.0",
          "state": {
            "_model_module": "@jupyter-widgets/base",
            "_model_module_version": "1.2.0",
            "_model_name": "LayoutModel",
            "_view_count": null,
            "_view_module": "@jupyter-widgets/base",
            "_view_module_version": "1.2.0",
            "_view_name": "LayoutView",
            "align_content": null,
            "align_items": null,
            "align_self": null,
            "border": null,
            "bottom": null,
            "display": null,
            "flex": null,
            "flex_flow": null,
            "grid_area": null,
            "grid_auto_columns": null,
            "grid_auto_flow": null,
            "grid_auto_rows": null,
            "grid_column": null,
            "grid_gap": null,
            "grid_row": null,
            "grid_template_areas": null,
            "grid_template_columns": null,
            "grid_template_rows": null,
            "height": null,
            "justify_content": null,
            "justify_items": null,
            "left": null,
            "margin": null,
            "max_height": null,
            "max_width": null,
            "min_height": null,
            "min_width": null,
            "object_fit": null,
            "object_position": null,
            "order": null,
            "overflow": null,
            "overflow_x": null,
            "overflow_y": null,
            "padding": null,
            "right": null,
            "top": null,
            "visibility": null,
            "width": null
          }
        },
        "a3ae5d286f624e089c4923b9591f8957": {
          "model_module": "@jupyter-widgets/base",
          "model_name": "LayoutModel",
          "model_module_version": "1.2.0",
          "state": {
            "_model_module": "@jupyter-widgets/base",
            "_model_module_version": "1.2.0",
            "_model_name": "LayoutModel",
            "_view_count": null,
            "_view_module": "@jupyter-widgets/base",
            "_view_module_version": "1.2.0",
            "_view_name": "LayoutView",
            "align_content": null,
            "align_items": null,
            "align_self": null,
            "border": null,
            "bottom": null,
            "display": null,
            "flex": null,
            "flex_flow": null,
            "grid_area": null,
            "grid_auto_columns": null,
            "grid_auto_flow": null,
            "grid_auto_rows": null,
            "grid_column": null,
            "grid_gap": null,
            "grid_row": null,
            "grid_template_areas": null,
            "grid_template_columns": null,
            "grid_template_rows": null,
            "height": null,
            "justify_content": null,
            "justify_items": null,
            "left": null,
            "margin": null,
            "max_height": null,
            "max_width": null,
            "min_height": null,
            "min_width": null,
            "object_fit": null,
            "object_position": null,
            "order": null,
            "overflow": null,
            "overflow_x": null,
            "overflow_y": null,
            "padding": null,
            "right": null,
            "top": null,
            "visibility": null,
            "width": null
          }
        },
        "bb2b6f18495c4b3891ba3170f16042ca": {
          "model_module": "@jupyter-widgets/controls",
          "model_name": "DescriptionStyleModel",
          "model_module_version": "1.5.0",
          "state": {
            "_model_module": "@jupyter-widgets/controls",
            "_model_module_version": "1.5.0",
            "_model_name": "DescriptionStyleModel",
            "_view_count": null,
            "_view_module": "@jupyter-widgets/base",
            "_view_module_version": "1.2.0",
            "_view_name": "StyleView",
            "description_width": ""
          }
        },
        "aa43e1bdae1b4f9bbb885849d6679b89": {
          "model_module": "@jupyter-widgets/base",
          "model_name": "LayoutModel",
          "model_module_version": "1.2.0",
          "state": {
            "_model_module": "@jupyter-widgets/base",
            "_model_module_version": "1.2.0",
            "_model_name": "LayoutModel",
            "_view_count": null,
            "_view_module": "@jupyter-widgets/base",
            "_view_module_version": "1.2.0",
            "_view_name": "LayoutView",
            "align_content": null,
            "align_items": null,
            "align_self": null,
            "border": null,
            "bottom": null,
            "display": null,
            "flex": null,
            "flex_flow": null,
            "grid_area": null,
            "grid_auto_columns": null,
            "grid_auto_flow": null,
            "grid_auto_rows": null,
            "grid_column": null,
            "grid_gap": null,
            "grid_row": null,
            "grid_template_areas": null,
            "grid_template_columns": null,
            "grid_template_rows": null,
            "height": null,
            "justify_content": null,
            "justify_items": null,
            "left": null,
            "margin": null,
            "max_height": null,
            "max_width": null,
            "min_height": null,
            "min_width": null,
            "object_fit": null,
            "object_position": null,
            "order": null,
            "overflow": null,
            "overflow_x": null,
            "overflow_y": null,
            "padding": null,
            "right": null,
            "top": null,
            "visibility": null,
            "width": null
          }
        },
        "0373ed23c7294e6fa49a0f0741e1ee24": {
          "model_module": "@jupyter-widgets/controls",
          "model_name": "ProgressStyleModel",
          "model_module_version": "1.5.0",
          "state": {
            "_model_module": "@jupyter-widgets/controls",
            "_model_module_version": "1.5.0",
            "_model_name": "ProgressStyleModel",
            "_view_count": null,
            "_view_module": "@jupyter-widgets/base",
            "_view_module_version": "1.2.0",
            "_view_name": "StyleView",
            "bar_color": null,
            "description_width": ""
          }
        },
        "773bd8dd95d64d098d305047a155d31e": {
          "model_module": "@jupyter-widgets/base",
          "model_name": "LayoutModel",
          "model_module_version": "1.2.0",
          "state": {
            "_model_module": "@jupyter-widgets/base",
            "_model_module_version": "1.2.0",
            "_model_name": "LayoutModel",
            "_view_count": null,
            "_view_module": "@jupyter-widgets/base",
            "_view_module_version": "1.2.0",
            "_view_name": "LayoutView",
            "align_content": null,
            "align_items": null,
            "align_self": null,
            "border": null,
            "bottom": null,
            "display": null,
            "flex": null,
            "flex_flow": null,
            "grid_area": null,
            "grid_auto_columns": null,
            "grid_auto_flow": null,
            "grid_auto_rows": null,
            "grid_column": null,
            "grid_gap": null,
            "grid_row": null,
            "grid_template_areas": null,
            "grid_template_columns": null,
            "grid_template_rows": null,
            "height": null,
            "justify_content": null,
            "justify_items": null,
            "left": null,
            "margin": null,
            "max_height": null,
            "max_width": null,
            "min_height": null,
            "min_width": null,
            "object_fit": null,
            "object_position": null,
            "order": null,
            "overflow": null,
            "overflow_x": null,
            "overflow_y": null,
            "padding": null,
            "right": null,
            "top": null,
            "visibility": null,
            "width": null
          }
        },
        "4905d5b3b48d4bbfb9b07c78b3bbb08b": {
          "model_module": "@jupyter-widgets/controls",
          "model_name": "DescriptionStyleModel",
          "model_module_version": "1.5.0",
          "state": {
            "_model_module": "@jupyter-widgets/controls",
            "_model_module_version": "1.5.0",
            "_model_name": "DescriptionStyleModel",
            "_view_count": null,
            "_view_module": "@jupyter-widgets/base",
            "_view_module_version": "1.2.0",
            "_view_name": "StyleView",
            "description_width": ""
          }
        },
        "895e34d9d36541ef9530477bb20ce9ea": {
          "model_module": "@jupyter-widgets/controls",
          "model_name": "HBoxModel",
          "model_module_version": "1.5.0",
          "state": {
            "_dom_classes": [],
            "_model_module": "@jupyter-widgets/controls",
            "_model_module_version": "1.5.0",
            "_model_name": "HBoxModel",
            "_view_count": null,
            "_view_module": "@jupyter-widgets/controls",
            "_view_module_version": "1.5.0",
            "_view_name": "HBoxView",
            "box_style": "",
            "children": [
              "IPY_MODEL_ec1bfd9aebca48d2bb5775e4cb092e72",
              "IPY_MODEL_e32a89052cd2479b8dab55365766bb9e",
              "IPY_MODEL_dfa25eb23e6349dbb8ed6c60d2f0bb95"
            ],
            "layout": "IPY_MODEL_0950c89459b94e43abbcedb0b040bac6"
          }
        },
        "ec1bfd9aebca48d2bb5775e4cb092e72": {
          "model_module": "@jupyter-widgets/controls",
          "model_name": "HTMLModel",
          "model_module_version": "1.5.0",
          "state": {
            "_dom_classes": [],
            "_model_module": "@jupyter-widgets/controls",
            "_model_module_version": "1.5.0",
            "_model_name": "HTMLModel",
            "_view_count": null,
            "_view_module": "@jupyter-widgets/controls",
            "_view_module_version": "1.5.0",
            "_view_name": "HTMLView",
            "description": "",
            "description_tooltip": null,
            "layout": "IPY_MODEL_8b446d7c610b451294c7e4f9cf83ed31",
            "placeholder": "​",
            "style": "IPY_MODEL_67f702170d694ecabbdc50f4a372f94d",
            "value": "model.safetensors: 100%"
          }
        },
        "e32a89052cd2479b8dab55365766bb9e": {
          "model_module": "@jupyter-widgets/controls",
          "model_name": "FloatProgressModel",
          "model_module_version": "1.5.0",
          "state": {
            "_dom_classes": [],
            "_model_module": "@jupyter-widgets/controls",
            "_model_module_version": "1.5.0",
            "_model_name": "FloatProgressModel",
            "_view_count": null,
            "_view_module": "@jupyter-widgets/controls",
            "_view_module_version": "1.5.0",
            "_view_name": "ProgressView",
            "bar_style": "success",
            "description": "",
            "description_tooltip": null,
            "layout": "IPY_MODEL_885d37268cee47d684dbe14a54da0b63",
            "max": 69569488,
            "min": 0,
            "orientation": "horizontal",
            "style": "IPY_MODEL_72e8f8093b9b419798f89fca4bcc8ccd",
            "value": 69569488
          }
        },
        "dfa25eb23e6349dbb8ed6c60d2f0bb95": {
          "model_module": "@jupyter-widgets/controls",
          "model_name": "HTMLModel",
          "model_module_version": "1.5.0",
          "state": {
            "_dom_classes": [],
            "_model_module": "@jupyter-widgets/controls",
            "_model_module_version": "1.5.0",
            "_model_name": "HTMLModel",
            "_view_count": null,
            "_view_module": "@jupyter-widgets/controls",
            "_view_module_version": "1.5.0",
            "_view_name": "HTMLView",
            "description": "",
            "description_tooltip": null,
            "layout": "IPY_MODEL_9409e2e53b0b47df9b40b6fc16a3856f",
            "placeholder": "​",
            "style": "IPY_MODEL_4b32371fb198420e83b5c37363b39003",
            "value": " 69.6M/69.6M [00:02&lt;00:00, 40.9MB/s]"
          }
        },
        "0950c89459b94e43abbcedb0b040bac6": {
          "model_module": "@jupyter-widgets/base",
          "model_name": "LayoutModel",
          "model_module_version": "1.2.0",
          "state": {
            "_model_module": "@jupyter-widgets/base",
            "_model_module_version": "1.2.0",
            "_model_name": "LayoutModel",
            "_view_count": null,
            "_view_module": "@jupyter-widgets/base",
            "_view_module_version": "1.2.0",
            "_view_name": "LayoutView",
            "align_content": null,
            "align_items": null,
            "align_self": null,
            "border": null,
            "bottom": null,
            "display": null,
            "flex": null,
            "flex_flow": null,
            "grid_area": null,
            "grid_auto_columns": null,
            "grid_auto_flow": null,
            "grid_auto_rows": null,
            "grid_column": null,
            "grid_gap": null,
            "grid_row": null,
            "grid_template_areas": null,
            "grid_template_columns": null,
            "grid_template_rows": null,
            "height": null,
            "justify_content": null,
            "justify_items": null,
            "left": null,
            "margin": null,
            "max_height": null,
            "max_width": null,
            "min_height": null,
            "min_width": null,
            "object_fit": null,
            "object_position": null,
            "order": null,
            "overflow": null,
            "overflow_x": null,
            "overflow_y": null,
            "padding": null,
            "right": null,
            "top": null,
            "visibility": null,
            "width": null
          }
        },
        "8b446d7c610b451294c7e4f9cf83ed31": {
          "model_module": "@jupyter-widgets/base",
          "model_name": "LayoutModel",
          "model_module_version": "1.2.0",
          "state": {
            "_model_module": "@jupyter-widgets/base",
            "_model_module_version": "1.2.0",
            "_model_name": "LayoutModel",
            "_view_count": null,
            "_view_module": "@jupyter-widgets/base",
            "_view_module_version": "1.2.0",
            "_view_name": "LayoutView",
            "align_content": null,
            "align_items": null,
            "align_self": null,
            "border": null,
            "bottom": null,
            "display": null,
            "flex": null,
            "flex_flow": null,
            "grid_area": null,
            "grid_auto_columns": null,
            "grid_auto_flow": null,
            "grid_auto_rows": null,
            "grid_column": null,
            "grid_gap": null,
            "grid_row": null,
            "grid_template_areas": null,
            "grid_template_columns": null,
            "grid_template_rows": null,
            "height": null,
            "justify_content": null,
            "justify_items": null,
            "left": null,
            "margin": null,
            "max_height": null,
            "max_width": null,
            "min_height": null,
            "min_width": null,
            "object_fit": null,
            "object_position": null,
            "order": null,
            "overflow": null,
            "overflow_x": null,
            "overflow_y": null,
            "padding": null,
            "right": null,
            "top": null,
            "visibility": null,
            "width": null
          }
        },
        "67f702170d694ecabbdc50f4a372f94d": {
          "model_module": "@jupyter-widgets/controls",
          "model_name": "DescriptionStyleModel",
          "model_module_version": "1.5.0",
          "state": {
            "_model_module": "@jupyter-widgets/controls",
            "_model_module_version": "1.5.0",
            "_model_name": "DescriptionStyleModel",
            "_view_count": null,
            "_view_module": "@jupyter-widgets/base",
            "_view_module_version": "1.2.0",
            "_view_name": "StyleView",
            "description_width": ""
          }
        },
        "885d37268cee47d684dbe14a54da0b63": {
          "model_module": "@jupyter-widgets/base",
          "model_name": "LayoutModel",
          "model_module_version": "1.2.0",
          "state": {
            "_model_module": "@jupyter-widgets/base",
            "_model_module_version": "1.2.0",
            "_model_name": "LayoutModel",
            "_view_count": null,
            "_view_module": "@jupyter-widgets/base",
            "_view_module_version": "1.2.0",
            "_view_name": "LayoutView",
            "align_content": null,
            "align_items": null,
            "align_self": null,
            "border": null,
            "bottom": null,
            "display": null,
            "flex": null,
            "flex_flow": null,
            "grid_area": null,
            "grid_auto_columns": null,
            "grid_auto_flow": null,
            "grid_auto_rows": null,
            "grid_column": null,
            "grid_gap": null,
            "grid_row": null,
            "grid_template_areas": null,
            "grid_template_columns": null,
            "grid_template_rows": null,
            "height": null,
            "justify_content": null,
            "justify_items": null,
            "left": null,
            "margin": null,
            "max_height": null,
            "max_width": null,
            "min_height": null,
            "min_width": null,
            "object_fit": null,
            "object_position": null,
            "order": null,
            "overflow": null,
            "overflow_x": null,
            "overflow_y": null,
            "padding": null,
            "right": null,
            "top": null,
            "visibility": null,
            "width": null
          }
        },
        "72e8f8093b9b419798f89fca4bcc8ccd": {
          "model_module": "@jupyter-widgets/controls",
          "model_name": "ProgressStyleModel",
          "model_module_version": "1.5.0",
          "state": {
            "_model_module": "@jupyter-widgets/controls",
            "_model_module_version": "1.5.0",
            "_model_name": "ProgressStyleModel",
            "_view_count": null,
            "_view_module": "@jupyter-widgets/base",
            "_view_module_version": "1.2.0",
            "_view_name": "StyleView",
            "bar_color": null,
            "description_width": ""
          }
        },
        "9409e2e53b0b47df9b40b6fc16a3856f": {
          "model_module": "@jupyter-widgets/base",
          "model_name": "LayoutModel",
          "model_module_version": "1.2.0",
          "state": {
            "_model_module": "@jupyter-widgets/base",
            "_model_module_version": "1.2.0",
            "_model_name": "LayoutModel",
            "_view_count": null,
            "_view_module": "@jupyter-widgets/base",
            "_view_module_version": "1.2.0",
            "_view_name": "LayoutView",
            "align_content": null,
            "align_items": null,
            "align_self": null,
            "border": null,
            "bottom": null,
            "display": null,
            "flex": null,
            "flex_flow": null,
            "grid_area": null,
            "grid_auto_columns": null,
            "grid_auto_flow": null,
            "grid_auto_rows": null,
            "grid_column": null,
            "grid_gap": null,
            "grid_row": null,
            "grid_template_areas": null,
            "grid_template_columns": null,
            "grid_template_rows": null,
            "height": null,
            "justify_content": null,
            "justify_items": null,
            "left": null,
            "margin": null,
            "max_height": null,
            "max_width": null,
            "min_height": null,
            "min_width": null,
            "object_fit": null,
            "object_position": null,
            "order": null,
            "overflow": null,
            "overflow_x": null,
            "overflow_y": null,
            "padding": null,
            "right": null,
            "top": null,
            "visibility": null,
            "width": null
          }
        },
        "4b32371fb198420e83b5c37363b39003": {
          "model_module": "@jupyter-widgets/controls",
          "model_name": "DescriptionStyleModel",
          "model_module_version": "1.5.0",
          "state": {
            "_model_module": "@jupyter-widgets/controls",
            "_model_module_version": "1.5.0",
            "_model_name": "DescriptionStyleModel",
            "_view_count": null,
            "_view_module": "@jupyter-widgets/base",
            "_view_module_version": "1.2.0",
            "_view_name": "StyleView",
            "description_width": ""
          }
        },
        "cb31008c99c74c59988a4ebb136b10fa": {
          "model_module": "@jupyter-widgets/controls",
          "model_name": "HBoxModel",
          "model_module_version": "1.5.0",
          "state": {
            "_dom_classes": [],
            "_model_module": "@jupyter-widgets/controls",
            "_model_module_version": "1.5.0",
            "_model_name": "HBoxModel",
            "_view_count": null,
            "_view_module": "@jupyter-widgets/controls",
            "_view_module_version": "1.5.0",
            "_view_name": "HBoxView",
            "box_style": "",
            "children": [
              "IPY_MODEL_e4f157e77bb443309061550e8923a2ef",
              "IPY_MODEL_34b054bb4b6a4254870b498e97871229",
              "IPY_MODEL_08277663c8164f2db750ac0574ea5c29"
            ],
            "layout": "IPY_MODEL_4e7acd952d004ed98387519d985ac82b"
          }
        },
        "e4f157e77bb443309061550e8923a2ef": {
          "model_module": "@jupyter-widgets/controls",
          "model_name": "HTMLModel",
          "model_module_version": "1.5.0",
          "state": {
            "_dom_classes": [],
            "_model_module": "@jupyter-widgets/controls",
            "_model_module_version": "1.5.0",
            "_model_name": "HTMLModel",
            "_view_count": null,
            "_view_module": "@jupyter-widgets/controls",
            "_view_module_version": "1.5.0",
            "_view_name": "HTMLView",
            "description": "",
            "description_tooltip": null,
            "layout": "IPY_MODEL_cf706011174242d7aa702bb9282f5d0b",
            "placeholder": "​",
            "style": "IPY_MODEL_32e08d513b51494ab1e0f55f620f2ed1",
            "value": "config.json: 100%"
          }
        },
        "34b054bb4b6a4254870b498e97871229": {
          "model_module": "@jupyter-widgets/controls",
          "model_name": "FloatProgressModel",
          "model_module_version": "1.5.0",
          "state": {
            "_dom_classes": [],
            "_model_module": "@jupyter-widgets/controls",
            "_model_module_version": "1.5.0",
            "_model_name": "FloatProgressModel",
            "_view_count": null,
            "_view_module": "@jupyter-widgets/controls",
            "_view_module_version": "1.5.0",
            "_view_name": "ProgressView",
            "bar_style": "success",
            "description": "",
            "description_tooltip": null,
            "layout": "IPY_MODEL_a9891223c01d4851a88d74fda1e502f0",
            "max": 629,
            "min": 0,
            "orientation": "horizontal",
            "style": "IPY_MODEL_924f868f34974c31ab20f9a5dff36339",
            "value": 629
          }
        },
        "08277663c8164f2db750ac0574ea5c29": {
          "model_module": "@jupyter-widgets/controls",
          "model_name": "HTMLModel",
          "model_module_version": "1.5.0",
          "state": {
            "_dom_classes": [],
            "_model_module": "@jupyter-widgets/controls",
            "_model_module_version": "1.5.0",
            "_model_name": "HTMLModel",
            "_view_count": null,
            "_view_module": "@jupyter-widgets/controls",
            "_view_module_version": "1.5.0",
            "_view_name": "HTMLView",
            "description": "",
            "description_tooltip": null,
            "layout": "IPY_MODEL_75b028e576304d45be63de7119b4d6c0",
            "placeholder": "​",
            "style": "IPY_MODEL_61297b8a7d294f119316dd78a4e6175d",
            "value": " 629/629 [00:00&lt;00:00, 11.5kB/s]"
          }
        },
        "4e7acd952d004ed98387519d985ac82b": {
          "model_module": "@jupyter-widgets/base",
          "model_name": "LayoutModel",
          "model_module_version": "1.2.0",
          "state": {
            "_model_module": "@jupyter-widgets/base",
            "_model_module_version": "1.2.0",
            "_model_name": "LayoutModel",
            "_view_count": null,
            "_view_module": "@jupyter-widgets/base",
            "_view_module_version": "1.2.0",
            "_view_name": "LayoutView",
            "align_content": null,
            "align_items": null,
            "align_self": null,
            "border": null,
            "bottom": null,
            "display": null,
            "flex": null,
            "flex_flow": null,
            "grid_area": null,
            "grid_auto_columns": null,
            "grid_auto_flow": null,
            "grid_auto_rows": null,
            "grid_column": null,
            "grid_gap": null,
            "grid_row": null,
            "grid_template_areas": null,
            "grid_template_columns": null,
            "grid_template_rows": null,
            "height": null,
            "justify_content": null,
            "justify_items": null,
            "left": null,
            "margin": null,
            "max_height": null,
            "max_width": null,
            "min_height": null,
            "min_width": null,
            "object_fit": null,
            "object_position": null,
            "order": null,
            "overflow": null,
            "overflow_x": null,
            "overflow_y": null,
            "padding": null,
            "right": null,
            "top": null,
            "visibility": null,
            "width": null
          }
        },
        "cf706011174242d7aa702bb9282f5d0b": {
          "model_module": "@jupyter-widgets/base",
          "model_name": "LayoutModel",
          "model_module_version": "1.2.0",
          "state": {
            "_model_module": "@jupyter-widgets/base",
            "_model_module_version": "1.2.0",
            "_model_name": "LayoutModel",
            "_view_count": null,
            "_view_module": "@jupyter-widgets/base",
            "_view_module_version": "1.2.0",
            "_view_name": "LayoutView",
            "align_content": null,
            "align_items": null,
            "align_self": null,
            "border": null,
            "bottom": null,
            "display": null,
            "flex": null,
            "flex_flow": null,
            "grid_area": null,
            "grid_auto_columns": null,
            "grid_auto_flow": null,
            "grid_auto_rows": null,
            "grid_column": null,
            "grid_gap": null,
            "grid_row": null,
            "grid_template_areas": null,
            "grid_template_columns": null,
            "grid_template_rows": null,
            "height": null,
            "justify_content": null,
            "justify_items": null,
            "left": null,
            "margin": null,
            "max_height": null,
            "max_width": null,
            "min_height": null,
            "min_width": null,
            "object_fit": null,
            "object_position": null,
            "order": null,
            "overflow": null,
            "overflow_x": null,
            "overflow_y": null,
            "padding": null,
            "right": null,
            "top": null,
            "visibility": null,
            "width": null
          }
        },
        "32e08d513b51494ab1e0f55f620f2ed1": {
          "model_module": "@jupyter-widgets/controls",
          "model_name": "DescriptionStyleModel",
          "model_module_version": "1.5.0",
          "state": {
            "_model_module": "@jupyter-widgets/controls",
            "_model_module_version": "1.5.0",
            "_model_name": "DescriptionStyleModel",
            "_view_count": null,
            "_view_module": "@jupyter-widgets/base",
            "_view_module_version": "1.2.0",
            "_view_name": "StyleView",
            "description_width": ""
          }
        },
        "a9891223c01d4851a88d74fda1e502f0": {
          "model_module": "@jupyter-widgets/base",
          "model_name": "LayoutModel",
          "model_module_version": "1.2.0",
          "state": {
            "_model_module": "@jupyter-widgets/base",
            "_model_module_version": "1.2.0",
            "_model_name": "LayoutModel",
            "_view_count": null,
            "_view_module": "@jupyter-widgets/base",
            "_view_module_version": "1.2.0",
            "_view_name": "LayoutView",
            "align_content": null,
            "align_items": null,
            "align_self": null,
            "border": null,
            "bottom": null,
            "display": null,
            "flex": null,
            "flex_flow": null,
            "grid_area": null,
            "grid_auto_columns": null,
            "grid_auto_flow": null,
            "grid_auto_rows": null,
            "grid_column": null,
            "grid_gap": null,
            "grid_row": null,
            "grid_template_areas": null,
            "grid_template_columns": null,
            "grid_template_rows": null,
            "height": null,
            "justify_content": null,
            "justify_items": null,
            "left": null,
            "margin": null,
            "max_height": null,
            "max_width": null,
            "min_height": null,
            "min_width": null,
            "object_fit": null,
            "object_position": null,
            "order": null,
            "overflow": null,
            "overflow_x": null,
            "overflow_y": null,
            "padding": null,
            "right": null,
            "top": null,
            "visibility": null,
            "width": null
          }
        },
        "924f868f34974c31ab20f9a5dff36339": {
          "model_module": "@jupyter-widgets/controls",
          "model_name": "ProgressStyleModel",
          "model_module_version": "1.5.0",
          "state": {
            "_model_module": "@jupyter-widgets/controls",
            "_model_module_version": "1.5.0",
            "_model_name": "ProgressStyleModel",
            "_view_count": null,
            "_view_module": "@jupyter-widgets/base",
            "_view_module_version": "1.2.0",
            "_view_name": "StyleView",
            "bar_color": null,
            "description_width": ""
          }
        },
        "75b028e576304d45be63de7119b4d6c0": {
          "model_module": "@jupyter-widgets/base",
          "model_name": "LayoutModel",
          "model_module_version": "1.2.0",
          "state": {
            "_model_module": "@jupyter-widgets/base",
            "_model_module_version": "1.2.0",
            "_model_name": "LayoutModel",
            "_view_count": null,
            "_view_module": "@jupyter-widgets/base",
            "_view_module_version": "1.2.0",
            "_view_name": "LayoutView",
            "align_content": null,
            "align_items": null,
            "align_self": null,
            "border": null,
            "bottom": null,
            "display": null,
            "flex": null,
            "flex_flow": null,
            "grid_area": null,
            "grid_auto_columns": null,
            "grid_auto_flow": null,
            "grid_auto_rows": null,
            "grid_column": null,
            "grid_gap": null,
            "grid_row": null,
            "grid_template_areas": null,
            "grid_template_columns": null,
            "grid_template_rows": null,
            "height": null,
            "justify_content": null,
            "justify_items": null,
            "left": null,
            "margin": null,
            "max_height": null,
            "max_width": null,
            "min_height": null,
            "min_width": null,
            "object_fit": null,
            "object_position": null,
            "order": null,
            "overflow": null,
            "overflow_x": null,
            "overflow_y": null,
            "padding": null,
            "right": null,
            "top": null,
            "visibility": null,
            "width": null
          }
        },
        "61297b8a7d294f119316dd78a4e6175d": {
          "model_module": "@jupyter-widgets/controls",
          "model_name": "DescriptionStyleModel",
          "model_module_version": "1.5.0",
          "state": {
            "_model_module": "@jupyter-widgets/controls",
            "_model_module_version": "1.5.0",
            "_model_name": "DescriptionStyleModel",
            "_view_count": null,
            "_view_module": "@jupyter-widgets/base",
            "_view_module_version": "1.2.0",
            "_view_name": "StyleView",
            "description_width": ""
          }
        },
        "9eb56ca0eece4cb0bb230d56e6eb6852": {
          "model_module": "@jupyter-widgets/controls",
          "model_name": "HBoxModel",
          "model_module_version": "1.5.0",
          "state": {
            "_dom_classes": [],
            "_model_module": "@jupyter-widgets/controls",
            "_model_module_version": "1.5.0",
            "_model_name": "HBoxModel",
            "_view_count": null,
            "_view_module": "@jupyter-widgets/controls",
            "_view_module_version": "1.5.0",
            "_view_name": "HBoxView",
            "box_style": "",
            "children": [
              "IPY_MODEL_1b58a584b2694c528c1370245a793922",
              "IPY_MODEL_4a828d81c8684cfa8fdfdd487c69c1e2",
              "IPY_MODEL_2407577e4d38441190b5a2c900e541c6"
            ],
            "layout": "IPY_MODEL_74f0d2eaad4b45eaa36f8ad6a195e71d"
          }
        },
        "1b58a584b2694c528c1370245a793922": {
          "model_module": "@jupyter-widgets/controls",
          "model_name": "HTMLModel",
          "model_module_version": "1.5.0",
          "state": {
            "_dom_classes": [],
            "_model_module": "@jupyter-widgets/controls",
            "_model_module_version": "1.5.0",
            "_model_name": "HTMLModel",
            "_view_count": null,
            "_view_module": "@jupyter-widgets/controls",
            "_view_module_version": "1.5.0",
            "_view_name": "HTMLView",
            "description": "",
            "description_tooltip": null,
            "layout": "IPY_MODEL_093de01a24b7436cb30d549193e7a404",
            "placeholder": "​",
            "style": "IPY_MODEL_39c9a6607d564793a0f91466093ba26e",
            "value": "model.safetensors: 100%"
          }
        },
        "4a828d81c8684cfa8fdfdd487c69c1e2": {
          "model_module": "@jupyter-widgets/controls",
          "model_name": "FloatProgressModel",
          "model_module_version": "1.5.0",
          "state": {
            "_dom_classes": [],
            "_model_module": "@jupyter-widgets/controls",
            "_model_module_version": "1.5.0",
            "_model_name": "FloatProgressModel",
            "_view_count": null,
            "_view_module": "@jupyter-widgets/controls",
            "_view_module_version": "1.5.0",
            "_view_name": "ProgressView",
            "bar_style": "success",
            "description": "",
            "description_tooltip": null,
            "layout": "IPY_MODEL_75be2fa29a79404eb009e52b5d5aecd0",
            "max": 69569488,
            "min": 0,
            "orientation": "horizontal",
            "style": "IPY_MODEL_adccd6c4c56d40bcab4171b69cade43b",
            "value": 69569488
          }
        },
        "2407577e4d38441190b5a2c900e541c6": {
          "model_module": "@jupyter-widgets/controls",
          "model_name": "HTMLModel",
          "model_module_version": "1.5.0",
          "state": {
            "_dom_classes": [],
            "_model_module": "@jupyter-widgets/controls",
            "_model_module_version": "1.5.0",
            "_model_name": "HTMLModel",
            "_view_count": null,
            "_view_module": "@jupyter-widgets/controls",
            "_view_module_version": "1.5.0",
            "_view_name": "HTMLView",
            "description": "",
            "description_tooltip": null,
            "layout": "IPY_MODEL_a53de96f214347d2a1693c5ceffbb2a1",
            "placeholder": "​",
            "style": "IPY_MODEL_82a6030532ea497ca7404c192fdb1f75",
            "value": " 69.6M/69.6M [00:00&lt;00:00, 89.3MB/s]"
          }
        },
        "74f0d2eaad4b45eaa36f8ad6a195e71d": {
          "model_module": "@jupyter-widgets/base",
          "model_name": "LayoutModel",
          "model_module_version": "1.2.0",
          "state": {
            "_model_module": "@jupyter-widgets/base",
            "_model_module_version": "1.2.0",
            "_model_name": "LayoutModel",
            "_view_count": null,
            "_view_module": "@jupyter-widgets/base",
            "_view_module_version": "1.2.0",
            "_view_name": "LayoutView",
            "align_content": null,
            "align_items": null,
            "align_self": null,
            "border": null,
            "bottom": null,
            "display": null,
            "flex": null,
            "flex_flow": null,
            "grid_area": null,
            "grid_auto_columns": null,
            "grid_auto_flow": null,
            "grid_auto_rows": null,
            "grid_column": null,
            "grid_gap": null,
            "grid_row": null,
            "grid_template_areas": null,
            "grid_template_columns": null,
            "grid_template_rows": null,
            "height": null,
            "justify_content": null,
            "justify_items": null,
            "left": null,
            "margin": null,
            "max_height": null,
            "max_width": null,
            "min_height": null,
            "min_width": null,
            "object_fit": null,
            "object_position": null,
            "order": null,
            "overflow": null,
            "overflow_x": null,
            "overflow_y": null,
            "padding": null,
            "right": null,
            "top": null,
            "visibility": null,
            "width": null
          }
        },
        "093de01a24b7436cb30d549193e7a404": {
          "model_module": "@jupyter-widgets/base",
          "model_name": "LayoutModel",
          "model_module_version": "1.2.0",
          "state": {
            "_model_module": "@jupyter-widgets/base",
            "_model_module_version": "1.2.0",
            "_model_name": "LayoutModel",
            "_view_count": null,
            "_view_module": "@jupyter-widgets/base",
            "_view_module_version": "1.2.0",
            "_view_name": "LayoutView",
            "align_content": null,
            "align_items": null,
            "align_self": null,
            "border": null,
            "bottom": null,
            "display": null,
            "flex": null,
            "flex_flow": null,
            "grid_area": null,
            "grid_auto_columns": null,
            "grid_auto_flow": null,
            "grid_auto_rows": null,
            "grid_column": null,
            "grid_gap": null,
            "grid_row": null,
            "grid_template_areas": null,
            "grid_template_columns": null,
            "grid_template_rows": null,
            "height": null,
            "justify_content": null,
            "justify_items": null,
            "left": null,
            "margin": null,
            "max_height": null,
            "max_width": null,
            "min_height": null,
            "min_width": null,
            "object_fit": null,
            "object_position": null,
            "order": null,
            "overflow": null,
            "overflow_x": null,
            "overflow_y": null,
            "padding": null,
            "right": null,
            "top": null,
            "visibility": null,
            "width": null
          }
        },
        "39c9a6607d564793a0f91466093ba26e": {
          "model_module": "@jupyter-widgets/controls",
          "model_name": "DescriptionStyleModel",
          "model_module_version": "1.5.0",
          "state": {
            "_model_module": "@jupyter-widgets/controls",
            "_model_module_version": "1.5.0",
            "_model_name": "DescriptionStyleModel",
            "_view_count": null,
            "_view_module": "@jupyter-widgets/base",
            "_view_module_version": "1.2.0",
            "_view_name": "StyleView",
            "description_width": ""
          }
        },
        "75be2fa29a79404eb009e52b5d5aecd0": {
          "model_module": "@jupyter-widgets/base",
          "model_name": "LayoutModel",
          "model_module_version": "1.2.0",
          "state": {
            "_model_module": "@jupyter-widgets/base",
            "_model_module_version": "1.2.0",
            "_model_name": "LayoutModel",
            "_view_count": null,
            "_view_module": "@jupyter-widgets/base",
            "_view_module_version": "1.2.0",
            "_view_name": "LayoutView",
            "align_content": null,
            "align_items": null,
            "align_self": null,
            "border": null,
            "bottom": null,
            "display": null,
            "flex": null,
            "flex_flow": null,
            "grid_area": null,
            "grid_auto_columns": null,
            "grid_auto_flow": null,
            "grid_auto_rows": null,
            "grid_column": null,
            "grid_gap": null,
            "grid_row": null,
            "grid_template_areas": null,
            "grid_template_columns": null,
            "grid_template_rows": null,
            "height": null,
            "justify_content": null,
            "justify_items": null,
            "left": null,
            "margin": null,
            "max_height": null,
            "max_width": null,
            "min_height": null,
            "min_width": null,
            "object_fit": null,
            "object_position": null,
            "order": null,
            "overflow": null,
            "overflow_x": null,
            "overflow_y": null,
            "padding": null,
            "right": null,
            "top": null,
            "visibility": null,
            "width": null
          }
        },
        "adccd6c4c56d40bcab4171b69cade43b": {
          "model_module": "@jupyter-widgets/controls",
          "model_name": "ProgressStyleModel",
          "model_module_version": "1.5.0",
          "state": {
            "_model_module": "@jupyter-widgets/controls",
            "_model_module_version": "1.5.0",
            "_model_name": "ProgressStyleModel",
            "_view_count": null,
            "_view_module": "@jupyter-widgets/base",
            "_view_module_version": "1.2.0",
            "_view_name": "StyleView",
            "bar_color": null,
            "description_width": ""
          }
        },
        "a53de96f214347d2a1693c5ceffbb2a1": {
          "model_module": "@jupyter-widgets/base",
          "model_name": "LayoutModel",
          "model_module_version": "1.2.0",
          "state": {
            "_model_module": "@jupyter-widgets/base",
            "_model_module_version": "1.2.0",
            "_model_name": "LayoutModel",
            "_view_count": null,
            "_view_module": "@jupyter-widgets/base",
            "_view_module_version": "1.2.0",
            "_view_name": "LayoutView",
            "align_content": null,
            "align_items": null,
            "align_self": null,
            "border": null,
            "bottom": null,
            "display": null,
            "flex": null,
            "flex_flow": null,
            "grid_area": null,
            "grid_auto_columns": null,
            "grid_auto_flow": null,
            "grid_auto_rows": null,
            "grid_column": null,
            "grid_gap": null,
            "grid_row": null,
            "grid_template_areas": null,
            "grid_template_columns": null,
            "grid_template_rows": null,
            "height": null,
            "justify_content": null,
            "justify_items": null,
            "left": null,
            "margin": null,
            "max_height": null,
            "max_width": null,
            "min_height": null,
            "min_width": null,
            "object_fit": null,
            "object_position": null,
            "order": null,
            "overflow": null,
            "overflow_x": null,
            "overflow_y": null,
            "padding": null,
            "right": null,
            "top": null,
            "visibility": null,
            "width": null
          }
        },
        "82a6030532ea497ca7404c192fdb1f75": {
          "model_module": "@jupyter-widgets/controls",
          "model_name": "DescriptionStyleModel",
          "model_module_version": "1.5.0",
          "state": {
            "_model_module": "@jupyter-widgets/controls",
            "_model_module_version": "1.5.0",
            "_model_name": "DescriptionStyleModel",
            "_view_count": null,
            "_view_module": "@jupyter-widgets/base",
            "_view_module_version": "1.2.0",
            "_view_name": "StyleView",
            "description_width": ""
          }
        }
      }
    }
  },
  "nbformat": 4,
  "nbformat_minor": 0
}